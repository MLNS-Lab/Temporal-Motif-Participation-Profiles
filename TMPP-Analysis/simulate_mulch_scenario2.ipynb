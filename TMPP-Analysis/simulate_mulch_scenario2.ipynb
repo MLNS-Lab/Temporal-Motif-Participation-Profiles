{
 "cells": [
  {
   "cell_type": "code",
   "execution_count": 17,
   "metadata": {},
   "outputs": [],
   "source": [
    "import sys\n",
    "sys.path.append(\"..\")\n",
    "\n",
    "import numpy as np\n",
    "from MULCH.utils_generate_model import simulate_mulch\n",
    "import multiprocessing as mp\n",
    "from dynetworkx import dynetworkx as dnx\n",
    "import pandas as pd\n",
    "from plotly.subplots import make_subplots\n",
    "import plotly.graph_objects as go\n",
    "import matplotlib.pyplot as plt\n",
    "from scipy.cluster.hierarchy import dendrogram, linkage, fcluster"
   ]
  },
  {
   "cell_type": "code",
   "execution_count": 18,
   "metadata": {},
   "outputs": [
    {
     "name": "stdout",
     "output_type": "stream",
     "text": [
      "[0 1 0 1 1 1 1 1 1 1 0 1 0 0 0 0 0 0 0 1]\n"
     ]
    }
   ],
   "source": [
    "# scenario 2\n",
    "\n",
    "mu = np.array([[0.001, 0.001],\n",
    "               [0.001, 0.001]])\n",
    "\n",
    "alpha_value = 0.09\n",
    "\n",
    "alpha_s = np.array([[0.0, alpha_value],\n",
    "                    [alpha_value, 0.0]])\n",
    "alpha_r = np.array([[0.0, 0.0],\n",
    "                    [0.0, 0.0]])\n",
    "alpha_tc = np.array([[0.0, 0.0],\n",
    "                     [alpha_value, 0.0]])\n",
    "alpha_gr = np.array([[0.0, 0.0],\n",
    "                     [0.0, 0.0]])\n",
    "alpha_al = np.array([[0.0, alpha_value],\n",
    "                     [0.0, 0.0]])\n",
    "alpha_alr = np.array([[0.0, 0.0],\n",
    "                      [0.0, 0.0]])\n",
    "\n",
    "C = np.array([[1, 1],\n",
    "              [1, 1]])\n",
    "betas = np.array([1])\n",
    "p = np.array([0.5, 0.5]) # equal chance of being in each class\n",
    "duration = 1000\n",
    "n_nodes = 20 # number of total nodes\n",
    "n_classes = 2 # number of classes\n",
    "sim_param = (mu, alpha_s, alpha_r, alpha_tc, alpha_gr, alpha_al, alpha_alr, C, betas)\n",
    "events_dict, nodes_membership = simulate_mulch(sim_param, n_nodes, n_classes, p, duration)\n",
    "\n",
    "print(nodes_membership)\n",
    "#print(events_dict)"
   ]
  },
  {
   "cell_type": "code",
   "execution_count": 19,
   "metadata": {},
   "outputs": [],
   "source": [
    "# parameters\n",
    "positioned = True # change this to specify positioned or positionless\n",
    "timeframe = 3 # heuristically, 3 is best for both positioned and positionless"
   ]
  },
  {
   "cell_type": "code",
   "execution_count": 20,
   "metadata": {},
   "outputs": [],
   "source": [
    "# creates the impulsedigraph\n",
    "mulch_graph = dnx.ImpulseDiGraph()\n",
    "\n",
    "# add each edge into a impulsedigraph\n",
    "max_time = 0\n",
    "for key in events_dict.keys():\n",
    "    for val in events_dict[key]:\n",
    "        mulch_graph.add_edge(int(key[0]), int(key[1]), float(val))\n",
    "        if val > max_time:\n",
    "            max_time = val\n"
   ]
  },
  {
   "cell_type": "code",
   "execution_count": 21,
   "metadata": {},
   "outputs": [],
   "source": [
    "# This list all of the edge orders for the motifs in the table above\n",
    "motifs = [[((1,2),(3,2),(1,2)), ((1,2),(3,2),(2,1)), ((1,2),(3,2),(1,3)), ((1,2),(3,2),(3,1)), ((1,2),(3,2),(2,3)), ((1,2),(3,2),(3,2))],\n",
    "          [((1,2),(2,3),(1,2)), ((1,2),(2,3),(2,1)), ((1,2),(2,3),(1,3)), ((1,2),(2,3),(3,1)), ((1,2),(2,3),(2,3)), ((1,2),(2,3),(3,2))],\n",
    "          [((1,2),(3,1),(1,2)), ((1,2),(3,1),(2,1)), ((1,2),(3,1),(1,3)), ((1,2),(3,1),(3,1)), ((1,2),(3,1),(2,3)), ((1,2),(3,1),(3,2))],\n",
    "          [((1,2),(1,3),(1,2)), ((1,2),(1,3),(2,1)), ((1,2),(1,3),(1,3)), ((1,2),(1,3),(3,1)), ((1,2),(1,3),(2,3)), ((1,2),(1,3),(3,2))],\n",
    "          [((1,2),(2,1),(1,2)), ((1,2),(2,1),(2,1)), ((1,2),(2,1),(1,3)), ((1,2),(2,1),(3,1)), ((1,2),(2,1),(2,3)), ((1,2),(2,1),(3,2))],\n",
    "          [((1,2),(1,2),(1,2)), ((1,2),(1,2),(2,1)), ((1,2),(1,2),(1,3)), ((1,2),(1,2),(3,1)), ((1,2),(1,2),(2,3)), ((1,2),(1,2),(3,2))]]\n",
    "\n",
    "mot = [ seq for row in motifs for seq in row]"
   ]
  },
  {
   "cell_type": "code",
   "execution_count": 22,
   "metadata": {},
   "outputs": [],
   "source": [
    "# stores all of the (pandas dataframes that tells you how many times each node appears in each motif) in count_table\n",
    "\n",
    "table = list()\n",
    "\n",
    "pool = mp.Pool(mp.cpu_count())\n",
    "results = pool.starmap_async(dnx.count_temporal_motif, [(mulch_graph, seq, timeframe) for seq in mot]).get()\n",
    "pool.close()\n",
    "\n",
    "count = list()\n",
    "for d in results:\n",
    "    count.append(d[2])\n",
    "table.append(count)\n",
    "\n",
    "count_table = pd.DataFrame(table, columns=mot)"
   ]
  },
  {
   "cell_type": "code",
   "execution_count": 23,
   "metadata": {},
   "outputs": [
    {
     "name": "stderr",
     "output_type": "stream",
     "text": [
      "/var/folders/wr/1ygr91094fx7s8n65by5s4c40000gn/T/ipykernel_32341/3840050657.py:15: FutureWarning:\n",
      "\n",
      "Series.__getitem__ treating keys as positions is deprecated. In a future version, integer keys will always be treated as labels (consistent with DataFrame behavior). To access a value by position, use `ser.iloc[pos]`\n",
      "\n",
      "/var/folders/wr/1ygr91094fx7s8n65by5s4c40000gn/T/ipykernel_32341/3840050657.py:31: FutureWarning:\n",
      "\n",
      "ChainedAssignmentError: behaviour will change in pandas 3.0!\n",
      "You are setting values through chained assignment. Currently this works in certain cases, but when using Copy-on-Write (which will become the default behaviour in pandas 3.0) this will never work to update the original DataFrame or Series, because the intermediate object on which we are setting values will behave as a copy.\n",
      "A typical example is when you are setting values in a column of a DataFrame, like:\n",
      "\n",
      "df[\"col\"][row_indexer] = value\n",
      "\n",
      "Use `df.loc[row_indexer, \"col\"] = values` instead, to perform the assignment in a single step and ensure this keeps updating the original `df`.\n",
      "\n",
      "See the caveats in the documentation: https://pandas.pydata.org/pandas-docs/stable/user_guide/indexing.html#returning-a-view-versus-a-copy\n",
      "\n",
      "\n"
     ]
    }
   ],
   "source": [
    "df = count_table # saves count_table as df so we can manipulate count_table but also retain the original copy\n",
    "\n",
    "# count_table_multiindex is a list that stores each multiindex dataframe for each of the 10 datasets\n",
    "count_table_multiindex = []\n",
    "\n",
    "for current_dataset in range(len(df.index)):\n",
    "\n",
    "    # there are three (or two) positions in each motif\n",
    "    positions = [1, 2, 3]\n",
    "\n",
    "    # generates list of all countries by compiling all countries in all 10 datasets in all 36 motifs\n",
    "    countries = []\n",
    "    for i in range(len(df.index)):\n",
    "        for k in range(len(df.columns)):\n",
    "            countries += list(df.iloc[i][k].index)\n",
    "    countries = sorted(list(set(countries)))\n",
    "\n",
    "    # generates the index for the multiindex by taking the product of mot and positions\n",
    "    multiindex_vals = pd.MultiIndex.from_product([mot, positions], names=[\"motifs\", \"positions\"])\n",
    "\n",
    "    # creates the dataframe with indices from multiindex_vals and columns from countries\n",
    "    dataset_df = pd.DataFrame(columns=countries, index=multiindex_vals)\n",
    "\n",
    "    # iterates through all positions in the multiindex dataframe (through all motifs, position in each motif, and each country) and assigns the appropriate value based on df\n",
    "    for motif in mot:\n",
    "        for pos in positions:\n",
    "            for country in countries:\n",
    "\n",
    "                # checks if country and position is present in df and then assigns it\n",
    "                if country in df.loc[current_dataset][motif].index and pos in df.loc[current_dataset][motif].columns:\n",
    "                    dataset_df[country].loc[(motif, pos)] = df.loc[current_dataset][motif].loc[country][pos]\n",
    "\n",
    "    # adds the dataframe to the list\n",
    "    count_table_multiindex.append(dataset_df)"
   ]
  },
  {
   "cell_type": "code",
   "execution_count": 24,
   "metadata": {},
   "outputs": [
    {
     "name": "stderr",
     "output_type": "stream",
     "text": [
      "/var/folders/wr/1ygr91094fx7s8n65by5s4c40000gn/T/ipykernel_32341/2462501576.py:5: FutureWarning:\n",
      "\n",
      "Downcasting object dtype arrays on .fillna, .ffill, .bfill is deprecated and will change in a future version. Call result.infer_objects(copy=False) instead. To opt-in to the future behavior, set `pd.set_option('future.no_silent_downcasting', True)`\n",
      "\n"
     ]
    }
   ],
   "source": [
    "# changes all 'nan' to 0, normalizes vectors, deletes countries with too few edges\n",
    "\n",
    "count_table0 = count_table_multiindex[0].copy()\n",
    "\n",
    "count_table0 = count_table0.fillna(0)\n",
    "\n",
    "countries = list(count_table0.columns)\n",
    "\n",
    "positioned_label = \"POSITIONED\"\n",
    "if positioned == False:\n",
    "    positioned_label = \"POSITIONLESS\"\n",
    "    # removes positional information from count_table0\n",
    "    count_table0_positionless = pd.DataFrame(0, columns=countries, index=mot)\n",
    "    for motif in mot:\n",
    "        for position in positions:\n",
    "            for country in countries:\n",
    "                count_table0_positionless[country][motif] += count_table0[country][(motif, position)]\n",
    "    count_table0 = count_table0_positionless\n",
    "\n",
    "# remove countries with less than some number of edges; normalization\n",
    "for column in count_table0.columns:\n",
    "    sum = count_table0[column].sum()\n",
    "    count_table0[column] = count_table0[column].apply(lambda x: x / sum)\n",
    "\n",
    "# gets updated list of countries in dataframe\n",
    "countries = list(count_table0.columns)"
   ]
  },
  {
   "cell_type": "code",
   "execution_count": 25,
   "metadata": {},
   "outputs": [
    {
     "name": "stdout",
     "output_type": "stream",
     "text": [
      "{0: 0, 1: 1, 2: 2, 3: 3, 4: 4, 5: 5, 6: 6, 7: 7, 8: 8, 9: 9, 10: 10, 11: 11, 12: 12, 13: 13, 14: 14, 15: 15, 16: 16, 17: 17, 18: 18, 19: 19}\n",
      "[0, 1, 2, 3, 4, 5, 6, 7, 8, 9, 10, 11, 12, 13, 14, 15, 16, 17, 18, 19]\n",
      "[(((1, 2), (3, 2), (1, 2)), 1), (((1, 2), (3, 2), (1, 2)), 2), (((1, 2), (3, 2), (1, 2)), 3), (((1, 2), (3, 2), (2, 1)), 1), (((1, 2), (3, 2), (2, 1)), 2), (((1, 2), (3, 2), (2, 1)), 3), (((1, 2), (3, 2), (1, 3)), 1), (((1, 2), (3, 2), (1, 3)), 2), (((1, 2), (3, 2), (1, 3)), 3), (((1, 2), (3, 2), (3, 1)), 1), (((1, 2), (3, 2), (3, 1)), 2), (((1, 2), (3, 2), (3, 1)), 3), (((1, 2), (3, 2), (2, 3)), 1), (((1, 2), (3, 2), (2, 3)), 2), (((1, 2), (3, 2), (2, 3)), 3), (((1, 2), (3, 2), (3, 2)), 1), (((1, 2), (3, 2), (3, 2)), 2), (((1, 2), (3, 2), (3, 2)), 3), (((1, 2), (2, 3), (1, 2)), 1), (((1, 2), (2, 3), (1, 2)), 2), (((1, 2), (2, 3), (1, 2)), 3), (((1, 2), (2, 3), (2, 1)), 1), (((1, 2), (2, 3), (2, 1)), 2), (((1, 2), (2, 3), (2, 1)), 3), (((1, 2), (2, 3), (1, 3)), 1), (((1, 2), (2, 3), (1, 3)), 2), (((1, 2), (2, 3), (1, 3)), 3), (((1, 2), (2, 3), (3, 1)), 1), (((1, 2), (2, 3), (3, 1)), 2), (((1, 2), (2, 3), (3, 1)), 3), (((1, 2), (2, 3), (2, 3)), 1), (((1, 2), (2, 3), (2, 3)), 2), (((1, 2), (2, 3), (2, 3)), 3), (((1, 2), (2, 3), (3, 2)), 1), (((1, 2), (2, 3), (3, 2)), 2), (((1, 2), (2, 3), (3, 2)), 3), (((1, 2), (3, 1), (1, 2)), 1), (((1, 2), (3, 1), (1, 2)), 2), (((1, 2), (3, 1), (1, 2)), 3), (((1, 2), (3, 1), (2, 1)), 1), (((1, 2), (3, 1), (2, 1)), 2), (((1, 2), (3, 1), (2, 1)), 3), (((1, 2), (3, 1), (1, 3)), 1), (((1, 2), (3, 1), (1, 3)), 2), (((1, 2), (3, 1), (1, 3)), 3), (((1, 2), (3, 1), (3, 1)), 1), (((1, 2), (3, 1), (3, 1)), 2), (((1, 2), (3, 1), (3, 1)), 3), (((1, 2), (3, 1), (2, 3)), 1), (((1, 2), (3, 1), (2, 3)), 2), (((1, 2), (3, 1), (2, 3)), 3), (((1, 2), (3, 1), (3, 2)), 1), (((1, 2), (3, 1), (3, 2)), 2), (((1, 2), (3, 1), (3, 2)), 3), (((1, 2), (1, 3), (1, 2)), 1), (((1, 2), (1, 3), (1, 2)), 2), (((1, 2), (1, 3), (1, 2)), 3), (((1, 2), (1, 3), (2, 1)), 1), (((1, 2), (1, 3), (2, 1)), 2), (((1, 2), (1, 3), (2, 1)), 3), (((1, 2), (1, 3), (1, 3)), 1), (((1, 2), (1, 3), (1, 3)), 2), (((1, 2), (1, 3), (1, 3)), 3), (((1, 2), (1, 3), (3, 1)), 1), (((1, 2), (1, 3), (3, 1)), 2), (((1, 2), (1, 3), (3, 1)), 3), (((1, 2), (1, 3), (2, 3)), 1), (((1, 2), (1, 3), (2, 3)), 2), (((1, 2), (1, 3), (2, 3)), 3), (((1, 2), (1, 3), (3, 2)), 1), (((1, 2), (1, 3), (3, 2)), 2), (((1, 2), (1, 3), (3, 2)), 3), (((1, 2), (2, 1), (1, 2)), 1), (((1, 2), (2, 1), (1, 2)), 2), (((1, 2), (2, 1), (1, 2)), 3), (((1, 2), (2, 1), (2, 1)), 1), (((1, 2), (2, 1), (2, 1)), 2), (((1, 2), (2, 1), (2, 1)), 3), (((1, 2), (2, 1), (1, 3)), 1), (((1, 2), (2, 1), (1, 3)), 2), (((1, 2), (2, 1), (1, 3)), 3), (((1, 2), (2, 1), (3, 1)), 1), (((1, 2), (2, 1), (3, 1)), 2), (((1, 2), (2, 1), (3, 1)), 3), (((1, 2), (2, 1), (2, 3)), 1), (((1, 2), (2, 1), (2, 3)), 2), (((1, 2), (2, 1), (2, 3)), 3), (((1, 2), (2, 1), (3, 2)), 1), (((1, 2), (2, 1), (3, 2)), 2), (((1, 2), (2, 1), (3, 2)), 3), (((1, 2), (1, 2), (1, 2)), 1), (((1, 2), (1, 2), (1, 2)), 2), (((1, 2), (1, 2), (1, 2)), 3), (((1, 2), (1, 2), (2, 1)), 1), (((1, 2), (1, 2), (2, 1)), 2), (((1, 2), (1, 2), (2, 1)), 3), (((1, 2), (1, 2), (1, 3)), 1), (((1, 2), (1, 2), (1, 3)), 2), (((1, 2), (1, 2), (1, 3)), 3), (((1, 2), (1, 2), (3, 1)), 1), (((1, 2), (1, 2), (3, 1)), 2), (((1, 2), (1, 2), (3, 1)), 3), (((1, 2), (1, 2), (2, 3)), 1), (((1, 2), (1, 2), (2, 3)), 2), (((1, 2), (1, 2), (2, 3)), 3), (((1, 2), (1, 2), (3, 2)), 1), (((1, 2), (1, 2), (3, 2)), 2), (((1, 2), (1, 2), (3, 2)), 3)]\n"
     ]
    }
   ],
   "source": [
    "# list of countries\n",
    "list_of_countries = list(count_table0.columns)\n",
    "\n",
    "# conversion from country number to country name\n",
    "dict_of_countries = {}\n",
    "for i in range(len(list_of_countries)):\n",
    "    dict_of_countries[i] = list_of_countries[i]\n",
    "\n",
    "list_of_motif_pos = list(multiindex_vals)\n",
    "\n",
    "print(dict_of_countries)\n",
    "print(list_of_countries)\n",
    "print(list_of_motif_pos)"
   ]
  },
  {
   "cell_type": "code",
   "execution_count": 26,
   "metadata": {},
   "outputs": [],
   "source": [
    "# appends a heatmap to fig\n",
    "def insert_heatmap(fig, data, max_val, row, col):\n",
    "    fig.append_trace(go.Heatmap(\n",
    "                     z=data,\n",
    "                     x=[1,2,3,4,5,6],\n",
    "                     y=[6,5,4,3,2,1],\n",
    "                     #colorscale='greens',\n",
    "                     #colorbar=dict(x=0.21),\n",
    "                     zmax=1,\n",
    "                     zmid=0.5,\n",
    "                     zmin=0,\n",
    "                     #coloraxis='coloraxis',\n",
    "                     colorscale = [[0, 'rgb(256,256,256)'], [0.25, 'rgb(198,233,191)'], [0.5, 'rgb(116,196,118)'], [0.75, 'rgb(32,137,68)'], [1, 'rgb(0,68,27)']],\n",
    "                  ),\n",
    "                  row, col)\n",
    "    \n",
    "def create_centroid_heatmaps_POSITIONED(centroids):\n",
    "    num_clusters = len(centroids)\n",
    "\n",
    "    all_the_data = [] # stores all of the data for the heatmaps: list of n centroids, each centroid has list of 3 positions, each position is a 6x6 list\n",
    "\n",
    "    for centroid in range(num_clusters):\n",
    "        # fetches the data for each position\n",
    "        pos1 = []\n",
    "        pos2 = []\n",
    "        pos3 = []\n",
    "        for i in range(36):\n",
    "            pos1.append(float(centroids[centroid][3 * i]))\n",
    "            pos2.append(float(centroids[centroid][3 * i + 1]))\n",
    "            pos3.append(float(centroids[centroid][3 * i + 2]))\n",
    "\n",
    "        # adjusts the data so it fits into the 6x6 heatmaps\n",
    "        pos1_adjusted = []\n",
    "        pos2_adjusted = []\n",
    "        pos3_adjusted = []\n",
    "        for i in range(6):\n",
    "            i = 5-i\n",
    "            pos1_adjusted.append(pos1[i*6:i*6+6])\n",
    "            pos2_adjusted.append(pos2[i*6:i*6+6])\n",
    "            pos3_adjusted.append(pos3[i*6:i*6+6])\n",
    "\n",
    "        data = [pos1_adjusted, pos2_adjusted, pos3_adjusted]\n",
    "        all_the_data.append(data)\n",
    "\n",
    "    # makes the subplot titles\n",
    "    subplot_titles = []\n",
    "    for i in range(num_clusters):\n",
    "        subplot_titles.append('Centroid ' + str(i) + ', Position 1')\n",
    "        subplot_titles.append('Centroid ' + str(i) + ', Position 2')\n",
    "        subplot_titles.append('Centroid ' + str(i) + ', Position 3')\n",
    "\n",
    "    # makes the fig\n",
    "    fig = make_subplots(rows=num_clusters, cols=3, subplot_titles=subplot_titles)\n",
    "\n",
    "    # inserts heatmaps into fig\n",
    "    for k in range(len(all_the_data)):\n",
    "\n",
    "        # calculates the maximum value of all the data\n",
    "        max_val = 0\n",
    "        for i in range(len(all_the_data[k])):\n",
    "            for j in range(len(all_the_data[k][i])):\n",
    "                max_val = max([max_val] + all_the_data[k][i][j])\n",
    "\n",
    "        # inserts heatmaps\n",
    "        for i in range(len(all_the_data[k])):\n",
    "            insert_heatmap(fig, all_the_data[k][i], max_val, k+1, i+1)\n",
    "\n",
    "    fig.update_layout(title=f'Centroid Data - {num_clusters} Clusters',\n",
    "                    height=500*num_clusters,\n",
    "                    width=1300,\n",
    "                    #coloraxis = {'colorscale':'greens'}\n",
    "                    )\n",
    "    fig.update_yaxes(autorange=\"reversed\")\n",
    "    fig.update_xaxes(tickvals = [1,2,3,4,5,6])\n",
    "    \n",
    "    return fig\n",
    "\n",
    "def create_centroid_heatmaps_POSITIONLESS(centroids):\n",
    "    num_clusters = len(centroids)\n",
    "\n",
    "    all_the_data = [] # stores all of the data for the heatmaps: list of n centroids, each centroid is a 6x6 list\n",
    "\n",
    "    for centroid in range(num_clusters):\n",
    "\n",
    "        # adjusts the data so it fits into the 6x6 heatmaps\n",
    "        data = []\n",
    "        for i in range(6):\n",
    "            i = 5-i\n",
    "            data.append(centroids[centroid][i*6:i*6+6])\n",
    "        all_the_data.append(data)\n",
    "            \n",
    "    # makes the subplot titles\n",
    "    subplot_titles = []\n",
    "    for i in range(num_clusters):\n",
    "        subplot_titles.append('Centroid ' + str(i))\n",
    "        subplot_titles.append('')\n",
    "        subplot_titles.append('')\n",
    "\n",
    "    # makes the fig\n",
    "    fig = make_subplots(rows=num_clusters, cols=3, subplot_titles=subplot_titles)\n",
    "\n",
    "    # inserts heatmaps into fig\n",
    "    for k in range(len(all_the_data)):\n",
    "\n",
    "        # calculates the maximum value of all the data\n",
    "        max_val = 0\n",
    "        for i in range(len(all_the_data[k])):\n",
    "            max_val = max([max_val] + all_the_data[k][i])\n",
    "\n",
    "        # inserts heatmaps\n",
    "        insert_heatmap(fig, all_the_data[k], max_val, k+1, 1)\n",
    "\n",
    "    fig.update_layout(title=f'Centroid Data - {num_clusters} Clusters',\n",
    "                    height=500*num_clusters,\n",
    "                    width=1300,\n",
    "                    #coloraxis = {'colorscale':'greens'}\n",
    "                    )\n",
    "    fig.update_yaxes(autorange=\"reversed\")\n",
    "    fig.update_xaxes(tickvals = [1,2,3,4,5,6])\n",
    "    \n",
    "    return fig"
   ]
  },
  {
   "cell_type": "code",
   "execution_count": 27,
   "metadata": {},
   "outputs": [
    {
     "name": "stdout",
     "output_type": "stream",
     "text": [
      "[0 1 0 1 1 1 1 1 1 1 0 1 0 0 0 0 0 0 0 1]\n"
     ]
    },
    {
     "data": {
      "image/png": "[encoded data removed]",
      "text/plain": [
       "<Figure size 1800x900 with 1 Axes>"
      ]
     },
     "metadata": {},
     "output_type": "display_data"
    }
   ],
   "source": [
    "# hierarchical clustering\n",
    "# https://docs.scipy.org/doc/scipy/reference/generated/scipy.cluster.hierarchy.linkage.html\n",
    "# https://stackoverflow.com/questions/9838861/scipy-linkage-format\n",
    "# https://python-graph-gallery.com/401-customised-dendrogram/\n",
    "\n",
    "method = 'ward'\n",
    "Z = linkage(count_table0.T, method=method)\n",
    "\n",
    "plt.figure(figsize=(18, 9))\n",
    "dendrogram(Z, color_threshold=0.8)#, labels=list(count_table[0].columns))\n",
    "dendrogram_ordering = dendrogram(Z)['leaves'] # the order that nodes appear in the dendrogram\n",
    "plt.title(f'MULCH {positioned_label} Scenario 2: Dendrogram for Hierarchical Clustering with [{method}] Linkage Method')\n",
    "plt.xlabel('Node')\n",
    "plt.ylabel('Distance')\n",
    "print(nodes_membership)\n",
    "plt.show()"
   ]
  },
  {
   "cell_type": "code",
   "execution_count": 28,
   "metadata": {},
   "outputs": [
    {
     "name": "stdout",
     "output_type": "stream",
     "text": [
      "[1 2 1 2 2 2 2 2 2 2 1 2 1 1 1 1 1 1 1 2]\n"
     ]
    }
   ],
   "source": [
    "# decide how to split nodes into clusters based on dendrogram\n",
    "\n",
    "dendrogram_clustering = fcluster(Z, t=2, criterion='maxclust')\n",
    "print(dendrogram_clustering)"
   ]
  },
  {
   "cell_type": "code",
   "execution_count": 29,
   "metadata": {},
   "outputs": [
    {
     "name": "stdout",
     "output_type": "stream",
     "text": [
      "clustered: [0 1 0 1 1 1 1 1 1 1 0 1 0 0 0 0 0 0 0 1]\n",
      "actual:    [0 1 0 1 1 1 1 1 1 1 0 1 0 0 0 0 0 0 0 1]\n",
      "accuracy:  1.0\n"
     ]
    }
   ],
   "source": [
    "# checks how well the dendrogram clustered the nodes\n",
    "\n",
    "perm1 = np.array([0 for _ in range(n_nodes)])\n",
    "perm2 = []\n",
    "\n",
    "# generates perm1 by taking data from memberships\n",
    "for i in range(len(dendrogram_clustering)):\n",
    "    perm1[i] = dendrogram_clustering[i] - 1\n",
    "\n",
    "# generates perm2 by appending the opposite of perm1\n",
    "for i in range(len(perm1)):\n",
    "    if perm1[i] == 1:\n",
    "        perm2.append(0)\n",
    "    else:\n",
    "        perm2.append(1)\n",
    "perm2 = np.array(perm2)\n",
    "\n",
    "# calculates accuracy of perm1 and perm2\n",
    "perm1_acc = 0\n",
    "perm2_acc = 0\n",
    "for i in range(len(nodes_membership)):\n",
    "    if nodes_membership[i] == perm1[i]:\n",
    "        perm1_acc += 1\n",
    "    if nodes_membership[i] == perm2[i]:\n",
    "        perm2_acc += 1\n",
    "acc = max(perm1_acc, perm2_acc)\n",
    "\n",
    "# prints results\n",
    "final_perm = []\n",
    "if acc == perm1_acc:\n",
    "    print('clustered:', perm1)\n",
    "    final_perm = perm1\n",
    "else:\n",
    "    print('clustered:', perm2)\n",
    "    final_perm = perm2\n",
    "print('actual:   ', nodes_membership)\n",
    "print('accuracy: ', acc / n_nodes)"
   ]
  },
  {
   "cell_type": "code",
   "execution_count": 30,
   "metadata": {},
   "outputs": [
    {
     "name": "stdout",
     "output_type": "stream",
     "text": [
      "[[0, 2, 10, 12, 13, 14, 15, 16, 17, 18], [1, 3, 4, 5, 6, 7, 8, 9, 11, 19]]\n"
     ]
    },
    {
     "data": {
      "application/vnd.plotly.v1+json": {
       "config": {
        "plotlyServerURL": "https://plot.ly"
       },
       "data": [
        {
         "colorscale": [
          [
           0,
           "rgb(256,256,256)"
          ],
          [
           0.25,
           "rgb(198,233,191)"
          ],
          [
           0.5,
           "rgb(116,196,118)"
          ],
          [
           0.75,
           "rgb(32,137,68)"
          ],
          [
           1,
           "rgb(0,68,27)"
          ]
         ],
         "type": "heatmap",
         "x": [
          1,
          2,
          3,
          4,
          5,
          6
         ],
         "xaxis": "x",
         "y": [
          6,
          5,
          4,
          3,
          2,
          1
         ],
         "yaxis": "y",
         "z": [
          [
           0.0003073268512039447,
           0.00007479492348436385,
           0.00006354465527985066,
           0.00018269539182536255,
           0.0004724875969486622,
           0.004411249859546961
          ],
          [
           0.0000749978356194051,
           0.0001159170931621271,
           0.000006417455478902615,
           0.00003172393985380052,
           0.001874442284725175,
           0.0004463400143835679
          ],
          [
           0.00003833785384929957,
           0,
           0.000015747702589807856,
           0,
           0.00001736876445915755,
           0.000015251528722764955
          ],
          [
           0.00018148612540622112,
           0.00006202855391904233,
           0,
           0.0006454729650150049,
           0.000016882386043894204,
           0.00004762850774957162
          ],
          [
           0.00045120296083480706,
           0.001201015874425519,
           0.00000847188563418815,
           0,
           0.0012682131719777847,
           0.000550299333791432
          ],
          [
           0.0034039869967323584,
           0.0005324047519175212,
           0.000010526315789473684,
           0.00005569812043664507,
           0.0006630722858199471,
           0.004002132994879097
          ]
         ],
         "zmax": 1,
         "zmid": 0.5,
         "zmin": 0
        },
        {
         "colorscale": [
          [
           0,
           "rgb(256,256,256)"
          ],
          [
           0.25,
           "rgb(198,233,191)"
          ],
          [
           0.5,
           "rgb(116,196,118)"
          ],
          [
           0.75,
           "rgb(32,137,68)"
          ],
          [
           1,
           "rgb(0,68,27)"
          ]
         ],
         "type": "heatmap",
         "x": [
          1,
          2,
          3,
          4,
          5,
          6
         ],
         "xaxis": "x2",
         "y": [
          6,
          5,
          4,
          3,
          2,
          1
         ],
         "yaxis": "y2",
         "z": [
          [
           0.015012374724346494,
           0.00006899605864724962,
           0.15771833319364978,
           0.0007735829273552584,
           0.0009052205860272039,
           0.00016527202493716147
          ],
          [
           0.00011183624627156376,
           0.000036471425558520094,
           0.0011362834205750569,
           0.00044783410375045195,
           0.000039457779822458125,
           0.000029136712678460317
          ],
          [
           0.14274420945034902,
           0.0005982681745576302,
           0.16065618322402392,
           0.0007837405175979152,
           0.00007571137913436424,
           0.00004097222103096224
          ],
          [
           0.0008662528279033561,
           0.00041367655246136103,
           0.0008752333242348527,
           0.00032082497619578224,
           0.000010901162790697675,
           0.00005014844143039588
          ],
          [
           0.0008822596164708889,
           0.000008498342823149486,
           0.00007703391364349347,
           0,
           0.0002087923803574554,
           0.00007867507364198983
          ],
          [
           0.00020782778609254636,
           0.00003216649135524979,
           0.00003616134939864525,
           0.00005255897578237649,
           0.00004030425937106798,
           0.00021034145975718763
          ]
         ],
         "zmax": 1,
         "zmid": 0.5,
         "zmin": 0
        },
        {
         "colorscale": [
          [
           0,
           "rgb(256,256,256)"
          ],
          [
           0.25,
           "rgb(198,233,191)"
          ],
          [
           0.5,
           "rgb(116,196,118)"
          ],
          [
           0.75,
           "rgb(32,137,68)"
          ],
          [
           1,
           "rgb(0,68,27)"
          ]
         ],
         "type": "heatmap",
         "x": [
          1,
          2,
          3,
          4,
          5,
          6
         ],
         "xaxis": "x3",
         "y": [
          6,
          5,
          4,
          3,
          2,
          1
         ],
         "yaxis": "y3",
         "z": [
          [
           0,
           0,
           0.16218024769788694,
           0.0009801133475097169,
           0.0005712789563587838,
           0.004453417803793888
          ],
          [
           0,
           0,
           0.0012233755456263035,
           0.0005027068227459874,
           0.0017793430787385826,
           0.000465722848212284
          ],
          [
           0.16024132743540725,
           0.0006312390837266403,
           0.14449799195857357,
           0.0007126895753897508,
           0.00006953522044849589,
           0.00005407362314576991
          ],
          [
           0.000975710167922959,
           0.000514139483706903,
           0.0008861616245568136,
           0.00027591731511736925,
           0.000027783548834591877,
           0
          ],
          [
           0.0005549183362724827,
           0.0011856234968982227,
           0.00008841065142319355,
           0,
           0.001118370983400702,
           0.00047359215133334354
          ],
          [
           0.0039427819064409685,
           0.0005491876079945495,
           0.00003838010794116835,
           0.00001319709856747942,
           0.0005826499638503873,
           0.0034454044726453187
          ]
         ],
         "zmax": 1,
         "zmid": 0.5,
         "zmin": 0
        },
        {
         "colorscale": [
          [
           0,
           "rgb(256,256,256)"
          ],
          [
           0.25,
           "rgb(198,233,191)"
          ],
          [
           0.5,
           "rgb(116,196,118)"
          ],
          [
           0.75,
           "rgb(32,137,68)"
          ],
          [
           1,
           "rgb(0,68,27)"
          ]
         ],
         "type": "heatmap",
         "x": [
          1,
          2,
          3,
          4,
          5,
          6
         ],
         "xaxis": "x4",
         "y": [
          6,
          5,
          4,
          3,
          2,
          1
         ],
         "yaxis": "y4",
         "z": [
          [
           0.01793420389642198,
           0.0001300107707728024,
           0.2087411236812363,
           0.002354708242688215,
           0.005376861770821603,
           0.006483981195149281
          ],
          [
           0.0004155769248282611,
           0.000021569920837968705,
           0.0032139290942365764,
           0.0005128720658735618,
           0.000019314290220038694,
           0.00035876186947711
          ],
          [
           0.17131211012178166,
           0.0012945682848853586,
           0.1892737246472647,
           0.0020074555830271036,
           0.000600131983252188,
           0.00025644941400311186
          ],
          [
           0.0024776471682202944,
           0.0022318046649795306,
           0.0021282768754860965,
           0.00029915176932852146,
           0.000020512820512820512,
           0
          ],
          [
           0.003151127509777589,
           0,
           0.00047965691443952314,
           0,
           0.00658261140239854,
           0.004058686411627588
          ],
          [
           0.007105853534013043,
           0.00027189094038024503,
           0.0010003716090672612,
           0,
           0.0016179898532839708,
           0.012347730825942245
          ]
         ],
         "zmax": 1,
         "zmid": 0.5,
         "zmin": 0
        },
        {
         "colorscale": [
          [
           0,
           "rgb(256,256,256)"
          ],
          [
           0.25,
           "rgb(198,233,191)"
          ],
          [
           0.5,
           "rgb(116,196,118)"
          ],
          [
           0.75,
           "rgb(32,137,68)"
          ],
          [
           1,
           "rgb(0,68,27)"
          ]
         ],
         "type": "heatmap",
         "x": [
          1,
          2,
          3,
          4,
          5,
          6
         ],
         "xaxis": "x5",
         "y": [
          6,
          5,
          4,
          3,
          2,
          1
         ],
         "yaxis": "y5",
         "z": [
          [
           0.00690784125900594,
           0.00002946462800072373,
           0.0016259835150091058,
           0.0017890536754913756,
           0.00020984798688341156,
           0.06160763335029009
          ],
          [
           0.000019172860252405066,
           0.0003424519243904266,
           0.000007965422146571842,
           0.00009934761247929686,
           0.002953529140989029,
           0.0006438779961669954
          ],
          [
           0.0018154341699635184,
           0,
           0.0006117202745784415,
           0,
           0.000089126559714795,
           0.0010820953300481842
          ],
          [
           0.0022490743554806104,
           0.0004706568803226556,
           0,
           0.03604815073187474,
           0.000020512820512820512,
           0
          ],
          [
           0.00010714245435167535,
           0.0032163516806965955,
           0,
           0,
           0.0023174681620933913,
           0.00020625239600506612
          ],
          [
           0.06631084756425551,
           0.00022570811619273846,
           0.00008261049153242462,
           0.0014885858577573926,
           0.0003258751581712774,
           0.052657979570348644
          ]
         ],
         "zmax": 1,
         "zmid": 0.5,
         "zmin": 0
        },
        {
         "colorscale": [
          [
           0,
           "rgb(256,256,256)"
          ],
          [
           0.25,
           "rgb(198,233,191)"
          ],
          [
           0.5,
           "rgb(116,196,118)"
          ],
          [
           0.75,
           "rgb(32,137,68)"
          ],
          [
           1,
           "rgb(0,68,27)"
          ]
         ],
         "type": "heatmap",
         "x": [
          1,
          2,
          3,
          4,
          5,
          6
         ],
         "xaxis": "x6",
         "y": [
          6,
          5,
          4,
          3,
          2,
          1
         ],
         "yaxis": "y6",
         "z": [
          [
           0,
           0,
           0.0002897873167830127,
           0.0008355126797414899,
           0.025505485101922482,
           0.005508140997771016
          ],
          [
           0,
           0,
           0.000001127815308965004,
           0.0008089949266419854,
           0.000015930844293143684,
           0.0015254495134115465
          ],
          [
           0.00020102157056034052,
           0.00004599816007359705,
           0.00013799448022079117,
           0,
           0.0005409199089315799,
           0
          ],
          [
           0.003185582654875832,
           0.001264867060351686,
           0,
           0.0021717739300874004,
           0,
           0.0010796388361605752
          ],
          [
           0.03607337052164719,
           0.000006837606837606838,
           0.00005283576691120389,
           0,
           0.002477465660515826,
           0.00037116783787572507
          ],
          [
           0.010120551559254221,
           0.0017139723022075962,
           0,
           0.00023096407444233533,
           0.00009927689749548005,
           0.006092903974436543
          ]
         ],
         "zmax": 1,
         "zmid": 0.5,
         "zmin": 0
        }
       ],
       "layout": {
        "annotations": [
         {
          "font": {
           "size": 16
          },
          "showarrow": false,
          "text": "Centroid 0, Position 1",
          "x": 0.14444444444444446,
          "xanchor": "center",
          "xref": "paper",
          "y": 1,
          "yanchor": "bottom",
          "yref": "paper"
         },
         {
          "font": {
           "size": 16
          },
          "showarrow": false,
          "text": "Centroid 0, Position 2",
          "x": 0.5,
          "xanchor": "center",
          "xref": "paper",
          "y": 1,
          "yanchor": "bottom",
          "yref": "paper"
         },
         {
          "font": {
           "size": 16
          },
          "showarrow": false,
          "text": "Centroid 0, Position 3",
          "x": 0.8555555555555556,
          "xanchor": "center",
          "xref": "paper",
          "y": 1,
          "yanchor": "bottom",
          "yref": "paper"
         },
         {
          "font": {
           "size": 16
          },
          "showarrow": false,
          "text": "Centroid 1, Position 1",
          "x": 0.14444444444444446,
          "xanchor": "center",
          "xref": "paper",
          "y": 0.375,
          "yanchor": "bottom",
          "yref": "paper"
         },
         {
          "font": {
           "size": 16
          },
          "showarrow": false,
          "text": "Centroid 1, Position 2",
          "x": 0.5,
          "xanchor": "center",
          "xref": "paper",
          "y": 0.375,
          "yanchor": "bottom",
          "yref": "paper"
         },
         {
          "font": {
           "size": 16
          },
          "showarrow": false,
          "text": "Centroid 1, Position 3",
          "x": 0.8555555555555556,
          "xanchor": "center",
          "xref": "paper",
          "y": 0.375,
          "yanchor": "bottom",
          "yref": "paper"
         }
        ],
        "height": 1000,
        "template": {
         "data": {
          "bar": [
           {
            "error_x": {
             "color": "#2a3f5f"
            },
            "error_y": {
             "color": "#2a3f5f"
            },
            "marker": {
             "line": {
              "color": "#E5ECF6",
              "width": 0.5
             },
             "pattern": {
              "fillmode": "overlay",
              "size": 10,
              "solidity": 0.2
             }
            },
            "type": "bar"
           }
          ],
          "barpolar": [
           {
            "marker": {
             "line": {
              "color": "#E5ECF6",
              "width": 0.5
             },
             "pattern": {
              "fillmode": "overlay",
              "size": 10,
              "solidity": 0.2
             }
            },
            "type": "barpolar"
           }
          ],
          "carpet": [
           {
            "aaxis": {
             "endlinecolor": "#2a3f5f",
             "gridcolor": "white",
             "linecolor": "white",
             "minorgridcolor": "white",
             "startlinecolor": "#2a3f5f"
            },
            "baxis": {
             "endlinecolor": "#2a3f5f",
             "gridcolor": "white",
             "linecolor": "white",
             "minorgridcolor": "white",
             "startlinecolor": "#2a3f5f"
            },
            "type": "carpet"
           }
          ],
          "choropleth": [
           {
            "colorbar": {
             "outlinewidth": 0,
             "ticks": ""
            },
            "type": "choropleth"
           }
          ],
          "contour": [
           {
            "colorbar": {
             "outlinewidth": 0,
             "ticks": ""
            },
            "colorscale": [
             [
              0,
              "#0d0887"
             ],
             [
              0.1111111111111111,
              "#46039f"
             ],
             [
              0.2222222222222222,
              "#7201a8"
             ],
             [
              0.3333333333333333,
              "#9c179e"
             ],
             [
              0.4444444444444444,
              "#bd3786"
             ],
             [
              0.5555555555555556,
              "#d8576b"
             ],
             [
              0.6666666666666666,
              "#ed7953"
             ],
             [
              0.7777777777777778,
              "#fb9f3a"
             ],
             [
              0.8888888888888888,
              "#fdca26"
             ],
             [
              1,
              "#f0f921"
             ]
            ],
            "type": "contour"
           }
          ],
          "contourcarpet": [
           {
            "colorbar": {
             "outlinewidth": 0,
             "ticks": ""
            },
            "type": "contourcarpet"
           }
          ],
          "heatmap": [
           {
            "colorbar": {
             "outlinewidth": 0,
             "ticks": ""
            },
            "colorscale": [
             [
              0,
              "#0d0887"
             ],
             [
              0.1111111111111111,
              "#46039f"
             ],
             [
              0.2222222222222222,
              "#7201a8"
             ],
             [
              0.3333333333333333,
              "#9c179e"
             ],
             [
              0.4444444444444444,
              "#bd3786"
             ],
             [
              0.5555555555555556,
              "#d8576b"
             ],
             [
              0.6666666666666666,
              "#ed7953"
             ],
             [
              0.7777777777777778,
              "#fb9f3a"
             ],
             [
              0.8888888888888888,
              "#fdca26"
             ],
             [
              1,
              "#f0f921"
             ]
            ],
            "type": "heatmap"
           }
          ],
          "histogram": [
           {
            "marker": {
             "pattern": {
              "fillmode": "overlay",
              "size": 10,
              "solidity": 0.2
             }
            },
            "type": "histogram"
           }
          ],
          "histogram2d": [
           {
            "colorbar": {
             "outlinewidth": 0,
             "ticks": ""
            },
            "colorscale": [
             [
              0,
              "#0d0887"
             ],
             [
              0.1111111111111111,
              "#46039f"
             ],
             [
              0.2222222222222222,
              "#7201a8"
             ],
             [
              0.3333333333333333,
              "#9c179e"
             ],
             [
              0.4444444444444444,
              "#bd3786"
             ],
             [
              0.5555555555555556,
              "#d8576b"
             ],
             [
              0.6666666666666666,
              "#ed7953"
             ],
             [
              0.7777777777777778,
              "#fb9f3a"
             ],
             [
              0.8888888888888888,
              "#fdca26"
             ],
             [
              1,
              "#f0f921"
             ]
            ],
            "type": "histogram2d"
           }
          ],
          "histogram2dcontour": [
           {
            "colorbar": {
             "outlinewidth": 0,
             "ticks": ""
            },
            "colorscale": [
             [
              0,
              "#0d0887"
             ],
             [
              0.1111111111111111,
              "#46039f"
             ],
             [
              0.2222222222222222,
              "#7201a8"
             ],
             [
              0.3333333333333333,
              "#9c179e"
             ],
             [
              0.4444444444444444,
              "#bd3786"
             ],
             [
              0.5555555555555556,
              "#d8576b"
             ],
             [
              0.6666666666666666,
              "#ed7953"
             ],
             [
              0.7777777777777778,
              "#fb9f3a"
             ],
             [
              0.8888888888888888,
              "#fdca26"
             ],
             [
              1,
              "#f0f921"
             ]
            ],
            "type": "histogram2dcontour"
           }
          ],
          "mesh3d": [
           {
            "colorbar": {
             "outlinewidth": 0,
             "ticks": ""
            },
            "type": "mesh3d"
           }
          ],
          "parcoords": [
           {
            "line": {
             "colorbar": {
              "outlinewidth": 0,
              "ticks": ""
             }
            },
            "type": "parcoords"
           }
          ],
          "pie": [
           {
            "automargin": true,
            "type": "pie"
           }
          ],
          "scatter": [
           {
            "fillpattern": {
             "fillmode": "overlay",
             "size": 10,
             "solidity": 0.2
            },
            "type": "scatter"
           }
          ],
          "scatter3d": [
           {
            "line": {
             "colorbar": {
              "outlinewidth": 0,
              "ticks": ""
             }
            },
            "marker": {
             "colorbar": {
              "outlinewidth": 0,
              "ticks": ""
             }
            },
            "type": "scatter3d"
           }
          ],
          "scattercarpet": [
           {
            "marker": {
             "colorbar": {
              "outlinewidth": 0,
              "ticks": ""
             }
            },
            "type": "scattercarpet"
           }
          ],
          "scattergeo": [
           {
            "marker": {
             "colorbar": {
              "outlinewidth": 0,
              "ticks": ""
             }
            },
            "type": "scattergeo"
           }
          ],
          "scattergl": [
           {
            "marker": {
             "colorbar": {
              "outlinewidth": 0,
              "ticks": ""
             }
            },
            "type": "scattergl"
           }
          ],
          "scattermap": [
           {
            "marker": {
             "colorbar": {
              "outlinewidth": 0,
              "ticks": ""
             }
            },
            "type": "scattermap"
           }
          ],
          "scattermapbox": [
           {
            "marker": {
             "colorbar": {
              "outlinewidth": 0,
              "ticks": ""
             }
            },
            "type": "scattermapbox"
           }
          ],
          "scatterpolar": [
           {
            "marker": {
             "colorbar": {
              "outlinewidth": 0,
              "ticks": ""
             }
            },
            "type": "scatterpolar"
           }
          ],
          "scatterpolargl": [
           {
            "marker": {
             "colorbar": {
              "outlinewidth": 0,
              "ticks": ""
             }
            },
            "type": "scatterpolargl"
           }
          ],
          "scatterternary": [
           {
            "marker": {
             "colorbar": {
              "outlinewidth": 0,
              "ticks": ""
             }
            },
            "type": "scatterternary"
           }
          ],
          "surface": [
           {
            "colorbar": {
             "outlinewidth": 0,
             "ticks": ""
            },
            "colorscale": [
             [
              0,
              "#0d0887"
             ],
             [
              0.1111111111111111,
              "#46039f"
             ],
             [
              0.2222222222222222,
              "#7201a8"
             ],
             [
              0.3333333333333333,
              "#9c179e"
             ],
             [
              0.4444444444444444,
              "#bd3786"
             ],
             [
              0.5555555555555556,
              "#d8576b"
             ],
             [
              0.6666666666666666,
              "#ed7953"
             ],
             [
              0.7777777777777778,
              "#fb9f3a"
             ],
             [
              0.8888888888888888,
              "#fdca26"
             ],
             [
              1,
              "#f0f921"
             ]
            ],
            "type": "surface"
           }
          ],
          "table": [
           {
            "cells": {
             "fill": {
              "color": "#EBF0F8"
             },
             "line": {
              "color": "white"
             }
            },
            "header": {
             "fill": {
              "color": "#C8D4E3"
             },
             "line": {
              "color": "white"
             }
            },
            "type": "table"
           }
          ]
         },
         "layout": {
          "annotationdefaults": {
           "arrowcolor": "#2a3f5f",
           "arrowhead": 0,
           "arrowwidth": 1
          },
          "autotypenumbers": "strict",
          "coloraxis": {
           "colorbar": {
            "outlinewidth": 0,
            "ticks": ""
           }
          },
          "colorscale": {
           "diverging": [
            [
             0,
             "#8e0152"
            ],
            [
             0.1,
             "#c51b7d"
            ],
            [
             0.2,
             "#de77ae"
            ],
            [
             0.3,
             "#f1b6da"
            ],
            [
             0.4,
             "#fde0ef"
            ],
            [
             0.5,
             "#f7f7f7"
            ],
            [
             0.6,
             "#e6f5d0"
            ],
            [
             0.7,
             "#b8e186"
            ],
            [
             0.8,
             "#7fbc41"
            ],
            [
             0.9,
             "#4d9221"
            ],
            [
             1,
             "#276419"
            ]
           ],
           "sequential": [
            [
             0,
             "#0d0887"
            ],
            [
             0.1111111111111111,
             "#46039f"
            ],
            [
             0.2222222222222222,
             "#7201a8"
            ],
            [
             0.3333333333333333,
             "#9c179e"
            ],
            [
             0.4444444444444444,
             "#bd3786"
            ],
            [
             0.5555555555555556,
             "#d8576b"
            ],
            [
             0.6666666666666666,
             "#ed7953"
            ],
            [
             0.7777777777777778,
             "#fb9f3a"
            ],
            [
             0.8888888888888888,
             "#fdca26"
            ],
            [
             1,
             "#f0f921"
            ]
           ],
           "sequentialminus": [
            [
             0,
             "#0d0887"
            ],
            [
             0.1111111111111111,
             "#46039f"
            ],
            [
             0.2222222222222222,
             "#7201a8"
            ],
            [
             0.3333333333333333,
             "#9c179e"
            ],
            [
             0.4444444444444444,
             "#bd3786"
            ],
            [
             0.5555555555555556,
             "#d8576b"
            ],
            [
             0.6666666666666666,
             "#ed7953"
            ],
            [
             0.7777777777777778,
             "#fb9f3a"
            ],
            [
             0.8888888888888888,
             "#fdca26"
            ],
            [
             1,
             "#f0f921"
            ]
           ]
          },
          "colorway": [
           "#636efa",
           "#EF553B",
           "#00cc96",
           "#ab63fa",
           "#FFA15A",
           "#19d3f3",
           "#FF6692",
           "#B6E880",
           "#FF97FF",
           "#FECB52"
          ],
          "font": {
           "color": "#2a3f5f"
          },
          "geo": {
           "bgcolor": "white",
           "lakecolor": "white",
           "landcolor": "#E5ECF6",
           "showlakes": true,
           "showland": true,
           "subunitcolor": "white"
          },
          "hoverlabel": {
           "align": "left"
          },
          "hovermode": "closest",
          "mapbox": {
           "style": "light"
          },
          "paper_bgcolor": "white",
          "plot_bgcolor": "#E5ECF6",
          "polar": {
           "angularaxis": {
            "gridcolor": "white",
            "linecolor": "white",
            "ticks": ""
           },
           "bgcolor": "#E5ECF6",
           "radialaxis": {
            "gridcolor": "white",
            "linecolor": "white",
            "ticks": ""
           }
          },
          "scene": {
           "xaxis": {
            "backgroundcolor": "#E5ECF6",
            "gridcolor": "white",
            "gridwidth": 2,
            "linecolor": "white",
            "showbackground": true,
            "ticks": "",
            "zerolinecolor": "white"
           },
           "yaxis": {
            "backgroundcolor": "#E5ECF6",
            "gridcolor": "white",
            "gridwidth": 2,
            "linecolor": "white",
            "showbackground": true,
            "ticks": "",
            "zerolinecolor": "white"
           },
           "zaxis": {
            "backgroundcolor": "#E5ECF6",
            "gridcolor": "white",
            "gridwidth": 2,
            "linecolor": "white",
            "showbackground": true,
            "ticks": "",
            "zerolinecolor": "white"
           }
          },
          "shapedefaults": {
           "line": {
            "color": "#2a3f5f"
           }
          },
          "ternary": {
           "aaxis": {
            "gridcolor": "white",
            "linecolor": "white",
            "ticks": ""
           },
           "baxis": {
            "gridcolor": "white",
            "linecolor": "white",
            "ticks": ""
           },
           "bgcolor": "#E5ECF6",
           "caxis": {
            "gridcolor": "white",
            "linecolor": "white",
            "ticks": ""
           }
          },
          "title": {
           "x": 0.05
          },
          "xaxis": {
           "automargin": true,
           "gridcolor": "white",
           "linecolor": "white",
           "ticks": "",
           "title": {
            "standoff": 15
           },
           "zerolinecolor": "white",
           "zerolinewidth": 2
          },
          "yaxis": {
           "automargin": true,
           "gridcolor": "white",
           "linecolor": "white",
           "ticks": "",
           "title": {
            "standoff": 15
           },
           "zerolinecolor": "white",
           "zerolinewidth": 2
          }
         }
        },
        "title": {
         "text": "MULCH POSITIONED Scenario 2: Hierarchical Clustering - 2 Clusters"
        },
        "width": 1300,
        "xaxis": {
         "anchor": "y",
         "domain": [
          0,
          0.2888888888888889
         ],
         "tickvals": [
          1,
          2,
          3,
          4,
          5,
          6
         ]
        },
        "xaxis2": {
         "anchor": "y2",
         "domain": [
          0.35555555555555557,
          0.6444444444444445
         ],
         "tickvals": [
          1,
          2,
          3,
          4,
          5,
          6
         ]
        },
        "xaxis3": {
         "anchor": "y3",
         "domain": [
          0.7111111111111111,
          1
         ],
         "tickvals": [
          1,
          2,
          3,
          4,
          5,
          6
         ]
        },
        "xaxis4": {
         "anchor": "y4",
         "domain": [
          0,
          0.2888888888888889
         ],
         "tickvals": [
          1,
          2,
          3,
          4,
          5,
          6
         ]
        },
        "xaxis5": {
         "anchor": "y5",
         "domain": [
          0.35555555555555557,
          0.6444444444444445
         ],
         "tickvals": [
          1,
          2,
          3,
          4,
          5,
          6
         ]
        },
        "xaxis6": {
         "anchor": "y6",
         "domain": [
          0.7111111111111111,
          1
         ],
         "tickvals": [
          1,
          2,
          3,
          4,
          5,
          6
         ]
        },
        "yaxis": {
         "anchor": "x",
         "autorange": "reversed",
         "domain": [
          0.625,
          1
         ]
        },
        "yaxis2": {
         "anchor": "x2",
         "autorange": "reversed",
         "domain": [
          0.625,
          1
         ]
        },
        "yaxis3": {
         "anchor": "x3",
         "autorange": "reversed",
         "domain": [
          0.625,
          1
         ]
        },
        "yaxis4": {
         "anchor": "x4",
         "autorange": "reversed",
         "domain": [
          0,
          0.375
         ]
        },
        "yaxis5": {
         "anchor": "x5",
         "autorange": "reversed",
         "domain": [
          0,
          0.375
         ]
        },
        "yaxis6": {
         "anchor": "x6",
         "autorange": "reversed",
         "domain": [
          0,
          0.375
         ]
        }
       }
      }
     },
     "metadata": {},
     "output_type": "display_data"
    }
   ],
   "source": [
    "# heatmaps for hierarchcal (manual clustering)\n",
    "\n",
    "memberships = [[], []]\n",
    "for i in range(len(final_perm)):\n",
    "    memberships[final_perm[i]].append(i)\n",
    "\n",
    "hierarchical_centroids = []\n",
    "for group in memberships:\n",
    "    hierarchical_centroids.append(list(count_table0[group].mean(axis=1)))\n",
    "\n",
    "print(memberships)\n",
    "\n",
    "# creates the heatmaps for the hierarchical clustering\n",
    "\n",
    "fig = make_subplots()\n",
    "if positioned:\n",
    "    fig = create_centroid_heatmaps_POSITIONED(hierarchical_centroids)\n",
    "else:\n",
    "    fig = create_centroid_heatmaps_POSITIONLESS(hierarchical_centroids)\n",
    "fig.update_layout(title=f'MULCH {positioned_label} Scenario 2: Hierarchical Clustering - {len(memberships)} Clusters')\n",
    "fig.show()"
   ]
  }
 ],
 "metadata": {
  "kernelspec": {
   "display_name": "Python 3",
   "language": "python",
   "name": "python3"
  },
  "language_info": {
   "codemirror_mode": {
    "name": "ipython",
    "version": 3
   },
   "file_extension": ".py",
   "mimetype": "text/x-python",
   "name": "python",
   "nbconvert_exporter": "python",
   "pygments_lexer": "ipython3",
   "version": "3.12.3"
  }
 },
 "nbformat": 4,
 "nbformat_minor": 2
}
