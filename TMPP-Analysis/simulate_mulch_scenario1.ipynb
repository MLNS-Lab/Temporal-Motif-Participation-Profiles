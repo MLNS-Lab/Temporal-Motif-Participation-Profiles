{
 "cells": [
  {
   "cell_type": "code",
   "execution_count": 229,
   "metadata": {},
   "outputs": [],
   "source": [
    "import sys\n",
    "sys.path.append(\"..\")\n",
    "\n",
    "import numpy as np\n",
    "from MULCH.utils_generate_model import simulate_mulch\n",
    "import multiprocessing as mp\n",
    "from dynetworkx import dynetworkx as dnx\n",
    "import pandas as pd\n",
    "from plotly.subplots import make_subplots\n",
    "import plotly.graph_objects as go\n",
    "import matplotlib.pyplot as plt\n",
    "from scipy.cluster.hierarchy import dendrogram, linkage, fcluster"
   ]
  },
  {
   "cell_type": "code",
   "execution_count": 230,
   "metadata": {},
   "outputs": [
    {
     "name": "stdout",
     "output_type": "stream",
     "text": [
      "[0 1 1 0 1 0 0 1 1 1 1 0 0 1 1 1 0 0 0 0]\n"
     ]
    }
   ],
   "source": [
    "# scenario 1\n",
    "\n",
    "mu = np.array([[0.001, 0.001],\n",
    "               [0.001, 0.001]])\n",
    "\n",
    "alpha_value = 0.8\n",
    "\n",
    "alpha_s = np.array([[alpha_value, alpha_value],\n",
    "                    [alpha_value, alpha_value]])\n",
    "alpha_r = np.array([[0.0, 0.0],\n",
    "                    [alpha_value, 0.0]])\n",
    "alpha_tc = np.array([[0.0, 0.0],\n",
    "                     [0.0, 0.0]])\n",
    "alpha_gr = np.array([[0.0, 0.0],\n",
    "                     [0.0, 0.0]])\n",
    "alpha_al = np.array([[0.0, 0.0],\n",
    "                     [0.0, 0.0]])\n",
    "alpha_alr = np.array([[0.0, 0.0],\n",
    "                      [0.0, 0.0]])\n",
    "\n",
    "C = np.array([[1, 1],\n",
    "              [1, 1]])\n",
    "betas = np.array([1])\n",
    "p = np.array([0.5, 0.5]) # equal chance of being in each class\n",
    "duration = 1000\n",
    "n_nodes = 20 # number of total nodes\n",
    "n_classes = 2 # number of classes\n",
    "sim_param = (mu, alpha_s, alpha_r, alpha_tc, alpha_gr, alpha_al, alpha_alr, C, betas)\n",
    "events_dict, nodes_membership = simulate_mulch(sim_param, n_nodes, n_classes, p, duration)\n",
    "\n",
    "print(nodes_membership)\n",
    "#print(events_dict)"
   ]
  },
  {
   "cell_type": "code",
   "execution_count": 231,
   "metadata": {},
   "outputs": [],
   "source": [
    "# parameters\n",
    "positioned = True # change this to specify positioned or positionless\n",
    "timeframe = 5 # heuristically, 5 is best for both positioned and positionless"
   ]
  },
  {
   "cell_type": "code",
   "execution_count": 232,
   "metadata": {},
   "outputs": [],
   "source": [
    "# creates the impulsedigraph\n",
    "mulch_graph = dnx.ImpulseDiGraph()\n",
    "\n",
    "# add each edge into a impulsedigraph\n",
    "max_time = 0\n",
    "for key in events_dict.keys():\n",
    "    for val in events_dict[key]:\n",
    "        mulch_graph.add_edge(int(key[0]), int(key[1]), float(val))\n",
    "        if val > max_time:\n",
    "            max_time = val\n"
   ]
  },
  {
   "cell_type": "code",
   "execution_count": 233,
   "metadata": {},
   "outputs": [],
   "source": [
    "# This list all of the edge orders for the motifs in the table above\n",
    "motifs = [[((1,2),(3,2),(1,2)), ((1,2),(3,2),(2,1)), ((1,2),(3,2),(1,3)), ((1,2),(3,2),(3,1)), ((1,2),(3,2),(2,3)), ((1,2),(3,2),(3,2))],\n",
    "          [((1,2),(2,3),(1,2)), ((1,2),(2,3),(2,1)), ((1,2),(2,3),(1,3)), ((1,2),(2,3),(3,1)), ((1,2),(2,3),(2,3)), ((1,2),(2,3),(3,2))],\n",
    "          [((1,2),(3,1),(1,2)), ((1,2),(3,1),(2,1)), ((1,2),(3,1),(1,3)), ((1,2),(3,1),(3,1)), ((1,2),(3,1),(2,3)), ((1,2),(3,1),(3,2))],\n",
    "          [((1,2),(1,3),(1,2)), ((1,2),(1,3),(2,1)), ((1,2),(1,3),(1,3)), ((1,2),(1,3),(3,1)), ((1,2),(1,3),(2,3)), ((1,2),(1,3),(3,2))],\n",
    "          [((1,2),(2,1),(1,2)), ((1,2),(2,1),(2,1)), ((1,2),(2,1),(1,3)), ((1,2),(2,1),(3,1)), ((1,2),(2,1),(2,3)), ((1,2),(2,1),(3,2))],\n",
    "          [((1,2),(1,2),(1,2)), ((1,2),(1,2),(2,1)), ((1,2),(1,2),(1,3)), ((1,2),(1,2),(3,1)), ((1,2),(1,2),(2,3)), ((1,2),(1,2),(3,2))]]\n",
    "\n",
    "mot = [ seq for row in motifs for seq in row]"
   ]
  },
  {
   "cell_type": "code",
   "execution_count": 234,
   "metadata": {},
   "outputs": [],
   "source": [
    "# stores all of the (pandas dataframes that tells you how many times each node appears in each motif) in count_table\n",
    "\n",
    "table = list()\n",
    "\n",
    "pool = mp.Pool(mp.cpu_count())\n",
    "results = pool.starmap_async(dnx.count_temporal_motif, [(mulch_graph, seq, timeframe) for seq in mot]).get()\n",
    "pool.close()\n",
    "\n",
    "count = list()\n",
    "for d in results:\n",
    "    count.append(d[2])\n",
    "table.append(count)\n",
    "\n",
    "count_table = pd.DataFrame(table, columns=mot)"
   ]
  },
  {
   "cell_type": "code",
   "execution_count": 235,
   "metadata": {},
   "outputs": [
    {
     "name": "stderr",
     "output_type": "stream",
     "text": [
      "/var/folders/wr/1ygr91094fx7s8n65by5s4c40000gn/T/ipykernel_42921/3840050657.py:15: FutureWarning:\n",
      "\n",
      "Series.__getitem__ treating keys as positions is deprecated. In a future version, integer keys will always be treated as labels (consistent with DataFrame behavior). To access a value by position, use `ser.iloc[pos]`\n",
      "\n",
      "/var/folders/wr/1ygr91094fx7s8n65by5s4c40000gn/T/ipykernel_42921/3840050657.py:31: FutureWarning:\n",
      "\n",
      "ChainedAssignmentError: behaviour will change in pandas 3.0!\n",
      "You are setting values through chained assignment. Currently this works in certain cases, but when using Copy-on-Write (which will become the default behaviour in pandas 3.0) this will never work to update the original DataFrame or Series, because the intermediate object on which we are setting values will behave as a copy.\n",
      "A typical example is when you are setting values in a column of a DataFrame, like:\n",
      "\n",
      "df[\"col\"][row_indexer] = value\n",
      "\n",
      "Use `df.loc[row_indexer, \"col\"] = values` instead, to perform the assignment in a single step and ensure this keeps updating the original `df`.\n",
      "\n",
      "See the caveats in the documentation: https://pandas.pydata.org/pandas-docs/stable/user_guide/indexing.html#returning-a-view-versus-a-copy\n",
      "\n",
      "\n"
     ]
    }
   ],
   "source": [
    "df = count_table # saves count_table as df so we can manipulate count_table but also retain the original copy\n",
    "\n",
    "# count_table_multiindex is a list that stores each multiindex dataframe for each of the 10 datasets\n",
    "count_table_multiindex = []\n",
    "\n",
    "for current_dataset in range(len(df.index)):\n",
    "\n",
    "    # there are three (or two) positions in each motif\n",
    "    positions = [1, 2, 3]\n",
    "\n",
    "    # generates list of all countries by compiling all countries in all 10 datasets in all 36 motifs\n",
    "    countries = []\n",
    "    for i in range(len(df.index)):\n",
    "        for k in range(len(df.columns)):\n",
    "            countries += list(df.iloc[i][k].index)\n",
    "    countries = sorted(list(set(countries)))\n",
    "\n",
    "    # generates the index for the multiindex by taking the product of mot and positions\n",
    "    multiindex_vals = pd.MultiIndex.from_product([mot, positions], names=[\"motifs\", \"positions\"])\n",
    "\n",
    "    # creates the dataframe with indices from multiindex_vals and columns from countries\n",
    "    dataset_df = pd.DataFrame(columns=countries, index=multiindex_vals)\n",
    "\n",
    "    # iterates through all positions in the multiindex dataframe (through all motifs, position in each motif, and each country) and assigns the appropriate value based on df\n",
    "    for motif in mot:\n",
    "        for pos in positions:\n",
    "            for country in countries:\n",
    "\n",
    "                # checks if country and position is present in df and then assigns it\n",
    "                if country in df.loc[current_dataset][motif].index and pos in df.loc[current_dataset][motif].columns:\n",
    "                    dataset_df[country].loc[(motif, pos)] = df.loc[current_dataset][motif].loc[country][pos]\n",
    "\n",
    "    # adds the dataframe to the list\n",
    "    count_table_multiindex.append(dataset_df)"
   ]
  },
  {
   "cell_type": "code",
   "execution_count": 236,
   "metadata": {},
   "outputs": [
    {
     "name": "stderr",
     "output_type": "stream",
     "text": [
      "/var/folders/wr/1ygr91094fx7s8n65by5s4c40000gn/T/ipykernel_42921/2462501576.py:5: FutureWarning:\n",
      "\n",
      "Downcasting object dtype arrays on .fillna, .ffill, .bfill is deprecated and will change in a future version. Call result.infer_objects(copy=False) instead. To opt-in to the future behavior, set `pd.set_option('future.no_silent_downcasting', True)`\n",
      "\n"
     ]
    }
   ],
   "source": [
    "# changes all 'nan' to 0, normalizes vectors, deletes countries with too few edges\n",
    "\n",
    "count_table0 = count_table_multiindex[0].copy()\n",
    "\n",
    "count_table0 = count_table0.fillna(0)\n",
    "\n",
    "countries = list(count_table0.columns)\n",
    "\n",
    "positioned_label = \"POSITIONED\"\n",
    "if positioned == False:\n",
    "    positioned_label = \"POSITIONLESS\"\n",
    "    # removes positional information from count_table0\n",
    "    count_table0_positionless = pd.DataFrame(0, columns=countries, index=mot)\n",
    "    for motif in mot:\n",
    "        for position in positions:\n",
    "            for country in countries:\n",
    "                count_table0_positionless[country][motif] += count_table0[country][(motif, position)]\n",
    "    count_table0 = count_table0_positionless\n",
    "\n",
    "# remove countries with less than some number of edges; normalization\n",
    "for column in count_table0.columns:\n",
    "    sum = count_table0[column].sum()\n",
    "    count_table0[column] = count_table0[column].apply(lambda x: x / sum)\n",
    "\n",
    "# gets updated list of countries in dataframe\n",
    "countries = list(count_table0.columns)"
   ]
  },
  {
   "cell_type": "code",
   "execution_count": 237,
   "metadata": {},
   "outputs": [
    {
     "name": "stdout",
     "output_type": "stream",
     "text": [
      "{0: 0, 1: 1, 2: 2, 3: 3, 4: 4, 5: 5, 6: 6, 7: 7, 8: 8, 9: 9, 10: 10, 11: 11, 12: 12, 13: 13, 14: 14, 15: 15, 16: 16, 17: 17, 18: 18, 19: 19}\n",
      "[0, 1, 2, 3, 4, 5, 6, 7, 8, 9, 10, 11, 12, 13, 14, 15, 16, 17, 18, 19]\n",
      "[(((1, 2), (3, 2), (1, 2)), 1), (((1, 2), (3, 2), (1, 2)), 2), (((1, 2), (3, 2), (1, 2)), 3), (((1, 2), (3, 2), (2, 1)), 1), (((1, 2), (3, 2), (2, 1)), 2), (((1, 2), (3, 2), (2, 1)), 3), (((1, 2), (3, 2), (1, 3)), 1), (((1, 2), (3, 2), (1, 3)), 2), (((1, 2), (3, 2), (1, 3)), 3), (((1, 2), (3, 2), (3, 1)), 1), (((1, 2), (3, 2), (3, 1)), 2), (((1, 2), (3, 2), (3, 1)), 3), (((1, 2), (3, 2), (2, 3)), 1), (((1, 2), (3, 2), (2, 3)), 2), (((1, 2), (3, 2), (2, 3)), 3), (((1, 2), (3, 2), (3, 2)), 1), (((1, 2), (3, 2), (3, 2)), 2), (((1, 2), (3, 2), (3, 2)), 3), (((1, 2), (2, 3), (1, 2)), 1), (((1, 2), (2, 3), (1, 2)), 2), (((1, 2), (2, 3), (1, 2)), 3), (((1, 2), (2, 3), (2, 1)), 1), (((1, 2), (2, 3), (2, 1)), 2), (((1, 2), (2, 3), (2, 1)), 3), (((1, 2), (2, 3), (1, 3)), 1), (((1, 2), (2, 3), (1, 3)), 2), (((1, 2), (2, 3), (1, 3)), 3), (((1, 2), (2, 3), (3, 1)), 1), (((1, 2), (2, 3), (3, 1)), 2), (((1, 2), (2, 3), (3, 1)), 3), (((1, 2), (2, 3), (2, 3)), 1), (((1, 2), (2, 3), (2, 3)), 2), (((1, 2), (2, 3), (2, 3)), 3), (((1, 2), (2, 3), (3, 2)), 1), (((1, 2), (2, 3), (3, 2)), 2), (((1, 2), (2, 3), (3, 2)), 3), (((1, 2), (3, 1), (1, 2)), 1), (((1, 2), (3, 1), (1, 2)), 2), (((1, 2), (3, 1), (1, 2)), 3), (((1, 2), (3, 1), (2, 1)), 1), (((1, 2), (3, 1), (2, 1)), 2), (((1, 2), (3, 1), (2, 1)), 3), (((1, 2), (3, 1), (1, 3)), 1), (((1, 2), (3, 1), (1, 3)), 2), (((1, 2), (3, 1), (1, 3)), 3), (((1, 2), (3, 1), (3, 1)), 1), (((1, 2), (3, 1), (3, 1)), 2), (((1, 2), (3, 1), (3, 1)), 3), (((1, 2), (3, 1), (2, 3)), 1), (((1, 2), (3, 1), (2, 3)), 2), (((1, 2), (3, 1), (2, 3)), 3), (((1, 2), (3, 1), (3, 2)), 1), (((1, 2), (3, 1), (3, 2)), 2), (((1, 2), (3, 1), (3, 2)), 3), (((1, 2), (1, 3), (1, 2)), 1), (((1, 2), (1, 3), (1, 2)), 2), (((1, 2), (1, 3), (1, 2)), 3), (((1, 2), (1, 3), (2, 1)), 1), (((1, 2), (1, 3), (2, 1)), 2), (((1, 2), (1, 3), (2, 1)), 3), (((1, 2), (1, 3), (1, 3)), 1), (((1, 2), (1, 3), (1, 3)), 2), (((1, 2), (1, 3), (1, 3)), 3), (((1, 2), (1, 3), (3, 1)), 1), (((1, 2), (1, 3), (3, 1)), 2), (((1, 2), (1, 3), (3, 1)), 3), (((1, 2), (1, 3), (2, 3)), 1), (((1, 2), (1, 3), (2, 3)), 2), (((1, 2), (1, 3), (2, 3)), 3), (((1, 2), (1, 3), (3, 2)), 1), (((1, 2), (1, 3), (3, 2)), 2), (((1, 2), (1, 3), (3, 2)), 3), (((1, 2), (2, 1), (1, 2)), 1), (((1, 2), (2, 1), (1, 2)), 2), (((1, 2), (2, 1), (1, 2)), 3), (((1, 2), (2, 1), (2, 1)), 1), (((1, 2), (2, 1), (2, 1)), 2), (((1, 2), (2, 1), (2, 1)), 3), (((1, 2), (2, 1), (1, 3)), 1), (((1, 2), (2, 1), (1, 3)), 2), (((1, 2), (2, 1), (1, 3)), 3), (((1, 2), (2, 1), (3, 1)), 1), (((1, 2), (2, 1), (3, 1)), 2), (((1, 2), (2, 1), (3, 1)), 3), (((1, 2), (2, 1), (2, 3)), 1), (((1, 2), (2, 1), (2, 3)), 2), (((1, 2), (2, 1), (2, 3)), 3), (((1, 2), (2, 1), (3, 2)), 1), (((1, 2), (2, 1), (3, 2)), 2), (((1, 2), (2, 1), (3, 2)), 3), (((1, 2), (1, 2), (1, 2)), 1), (((1, 2), (1, 2), (1, 2)), 2), (((1, 2), (1, 2), (1, 2)), 3), (((1, 2), (1, 2), (2, 1)), 1), (((1, 2), (1, 2), (2, 1)), 2), (((1, 2), (1, 2), (2, 1)), 3), (((1, 2), (1, 2), (1, 3)), 1), (((1, 2), (1, 2), (1, 3)), 2), (((1, 2), (1, 2), (1, 3)), 3), (((1, 2), (1, 2), (3, 1)), 1), (((1, 2), (1, 2), (3, 1)), 2), (((1, 2), (1, 2), (3, 1)), 3), (((1, 2), (1, 2), (2, 3)), 1), (((1, 2), (1, 2), (2, 3)), 2), (((1, 2), (1, 2), (2, 3)), 3), (((1, 2), (1, 2), (3, 2)), 1), (((1, 2), (1, 2), (3, 2)), 2), (((1, 2), (1, 2), (3, 2)), 3)]\n"
     ]
    }
   ],
   "source": [
    "# list of countries\n",
    "list_of_countries = list(count_table0.columns)\n",
    "\n",
    "# conversion from country number to country name\n",
    "dict_of_countries = {}\n",
    "for i in range(len(list_of_countries)):\n",
    "    dict_of_countries[i] = list_of_countries[i]\n",
    "\n",
    "list_of_motif_pos = list(multiindex_vals)\n",
    "\n",
    "print(dict_of_countries)\n",
    "print(list_of_countries)\n",
    "print(list_of_motif_pos)"
   ]
  },
  {
   "cell_type": "code",
   "execution_count": 238,
   "metadata": {},
   "outputs": [],
   "source": [
    "# appends a heatmap to fig\n",
    "def insert_heatmap(fig, data, max_val, row, col):\n",
    "    fig.append_trace(go.Heatmap(\n",
    "                     z=data,\n",
    "                     x=[1,2,3,4,5,6],\n",
    "                     y=[6,5,4,3,2,1],\n",
    "                     #colorscale='greens',\n",
    "                     #colorbar=dict(x=0.21),\n",
    "                     zmax=1,\n",
    "                     zmid=0.5,\n",
    "                     zmin=0,\n",
    "                     #coloraxis='coloraxis',\n",
    "                     colorscale = [[0, 'rgb(256,256,256)'], [0.25, 'rgb(198,233,191)'], [0.5, 'rgb(116,196,118)'], [0.75, 'rgb(32,137,68)'], [1, 'rgb(0,68,27)']],\n",
    "                  ),\n",
    "                  row, col)\n",
    "    \n",
    "def create_centroid_heatmaps_POSITIONED(centroids):\n",
    "    num_clusters = len(centroids)\n",
    "\n",
    "    all_the_data = [] # stores all of the data for the heatmaps: list of n centroids, each centroid has list of 3 positions, each position is a 6x6 list\n",
    "\n",
    "    for centroid in range(num_clusters):\n",
    "        # fetches the data for each position\n",
    "        pos1 = []\n",
    "        pos2 = []\n",
    "        pos3 = []\n",
    "        for i in range(36):\n",
    "            pos1.append(float(centroids[centroid][3 * i]))\n",
    "            pos2.append(float(centroids[centroid][3 * i + 1]))\n",
    "            pos3.append(float(centroids[centroid][3 * i + 2]))\n",
    "\n",
    "        # adjusts the data so it fits into the 6x6 heatmaps\n",
    "        pos1_adjusted = []\n",
    "        pos2_adjusted = []\n",
    "        pos3_adjusted = []\n",
    "        for i in range(6):\n",
    "            i = 5-i\n",
    "            pos1_adjusted.append(pos1[i*6:i*6+6])\n",
    "            pos2_adjusted.append(pos2[i*6:i*6+6])\n",
    "            pos3_adjusted.append(pos3[i*6:i*6+6])\n",
    "\n",
    "        data = [pos1_adjusted, pos2_adjusted, pos3_adjusted]\n",
    "        all_the_data.append(data)\n",
    "\n",
    "    # makes the subplot titles\n",
    "    subplot_titles = []\n",
    "    for i in range(num_clusters):\n",
    "        subplot_titles.append('Centroid ' + str(i) + ', Position 1')\n",
    "        subplot_titles.append('Centroid ' + str(i) + ', Position 2')\n",
    "        subplot_titles.append('Centroid ' + str(i) + ', Position 3')\n",
    "\n",
    "    # makes the fig\n",
    "    fig = make_subplots(rows=num_clusters, cols=3, subplot_titles=subplot_titles)\n",
    "\n",
    "    # inserts heatmaps into fig\n",
    "    for k in range(len(all_the_data)):\n",
    "\n",
    "        # calculates the maximum value of all the data\n",
    "        max_val = 0\n",
    "        for i in range(len(all_the_data[k])):\n",
    "            for j in range(len(all_the_data[k][i])):\n",
    "                max_val = max([max_val] + all_the_data[k][i][j])\n",
    "\n",
    "        # inserts heatmaps\n",
    "        for i in range(len(all_the_data[k])):\n",
    "            insert_heatmap(fig, all_the_data[k][i], max_val, k+1, i+1)\n",
    "\n",
    "    fig.update_layout(title=f'Centroid Data - {num_clusters} Clusters',\n",
    "                    height=500*num_clusters,\n",
    "                    width=1300,\n",
    "                    #coloraxis = {'colorscale':'greens'}\n",
    "                    )\n",
    "    fig.update_yaxes(autorange=\"reversed\")\n",
    "    fig.update_xaxes(tickvals = [1,2,3,4,5,6])\n",
    "    \n",
    "    return fig\n",
    "\n",
    "def create_centroid_heatmaps_POSITIONLESS(centroids):\n",
    "    num_clusters = len(centroids)\n",
    "\n",
    "    all_the_data = [] # stores all of the data for the heatmaps: list of n centroids, each centroid is a 6x6 list\n",
    "\n",
    "    for centroid in range(num_clusters):\n",
    "\n",
    "        # adjusts the data so it fits into the 6x6 heatmaps\n",
    "        data = []\n",
    "        for i in range(6):\n",
    "            i = 5-i\n",
    "            data.append(centroids[centroid][i*6:i*6+6])\n",
    "        all_the_data.append(data)\n",
    "            \n",
    "    # makes the subplot titles\n",
    "    subplot_titles = []\n",
    "    for i in range(num_clusters):\n",
    "        subplot_titles.append('Centroid ' + str(i))\n",
    "        subplot_titles.append('')\n",
    "        subplot_titles.append('')\n",
    "\n",
    "    # makes the fig\n",
    "    fig = make_subplots(rows=num_clusters, cols=3, subplot_titles=subplot_titles)\n",
    "\n",
    "    # inserts heatmaps into fig\n",
    "    for k in range(len(all_the_data)):\n",
    "\n",
    "        # calculates the maximum value of all the data\n",
    "        max_val = 0\n",
    "        for i in range(len(all_the_data[k])):\n",
    "            max_val = max([max_val] + all_the_data[k][i])\n",
    "\n",
    "        # inserts heatmaps\n",
    "        insert_heatmap(fig, all_the_data[k], max_val, k+1, 1)\n",
    "\n",
    "    fig.update_layout(title=f'Centroid Data - {num_clusters} Clusters',\n",
    "                    height=500*num_clusters,\n",
    "                    width=1300,\n",
    "                    #coloraxis = {'colorscale':'greens'}\n",
    "                    )\n",
    "    fig.update_yaxes(autorange=\"reversed\")\n",
    "    fig.update_xaxes(tickvals = [1,2,3,4,5,6])\n",
    "    \n",
    "    return fig"
   ]
  },
  {
   "cell_type": "code",
   "execution_count": 239,
   "metadata": {},
   "outputs": [
    {
     "name": "stdout",
     "output_type": "stream",
     "text": [
      "[0 1 1 0 1 0 0 1 1 1 1 0 0 1 1 1 0 0 0 0]\n"
     ]
    },
    {
     "data": {
      "image/png": "[encoded data removed]",
      "text/plain": [
       "<Figure size 1800x900 with 1 Axes>"
      ]
     },
     "metadata": {},
     "output_type": "display_data"
    }
   ],
   "source": [
    "# hierarchical clustering\n",
    "# https://docs.scipy.org/doc/scipy/reference/generated/scipy.cluster.hierarchy.linkage.html\n",
    "# https://stackoverflow.com/questions/9838861/scipy-linkage-format\n",
    "# https://python-graph-gallery.com/401-customised-dendrogram/\n",
    "\n",
    "method = 'ward'\n",
    "Z = linkage(count_table0.T, method=method)\n",
    "\n",
    "plt.figure(figsize=(18, 9))\n",
    "dendrogram(Z, color_threshold=0.8)#, labels=list(count_table[0].columns))\n",
    "dendrogram_ordering = dendrogram(Z)['leaves'] # the order that nodes appear in the dendrogram\n",
    "plt.title(f'MULCH {positioned_label} Scenario 1: Dendrogram for Hierarchical Clustering with [{method}] Linkage Method')\n",
    "plt.xlabel('Node')\n",
    "plt.ylabel('Distance')\n",
    "print(nodes_membership)\n",
    "plt.show()"
   ]
  },
  {
   "cell_type": "code",
   "execution_count": 240,
   "metadata": {},
   "outputs": [
    {
     "name": "stdout",
     "output_type": "stream",
     "text": [
      "[2 2 2 1 2 1 1 2 2 2 2 1 1 2 2 2 1 1 1 1]\n"
     ]
    }
   ],
   "source": [
    "# decide how to split nodes into clusters based on dendrogram\n",
    "\n",
    "dendrogram_clustering = fcluster(Z, t=2, criterion='maxclust')\n",
    "print(dendrogram_clustering)"
   ]
  },
  {
   "cell_type": "code",
   "execution_count": 241,
   "metadata": {},
   "outputs": [
    {
     "name": "stdout",
     "output_type": "stream",
     "text": [
      "clustered: [1 1 1 0 1 0 0 1 1 1 1 0 0 1 1 1 0 0 0 0]\n",
      "actual:    [0 1 1 0 1 0 0 1 1 1 1 0 0 1 1 1 0 0 0 0]\n",
      "accuracy:  0.95\n"
     ]
    }
   ],
   "source": [
    "# checks how well the dendrogram clustered the nodes\n",
    "\n",
    "perm1 = np.array([0 for _ in range(n_nodes)])\n",
    "perm2 = []\n",
    "\n",
    "# generates perm1 by taking data from memberships\n",
    "for i in range(len(dendrogram_clustering)):\n",
    "    perm1[i] = dendrogram_clustering[i] - 1\n",
    "\n",
    "# generates perm2 by appending the opposite of perm1\n",
    "for i in range(len(perm1)):\n",
    "    if perm1[i] == 1:\n",
    "        perm2.append(0)\n",
    "    else:\n",
    "        perm2.append(1)\n",
    "perm2 = np.array(perm2)\n",
    "\n",
    "# calculates accuracy of perm1 and perm2\n",
    "perm1_acc = 0\n",
    "perm2_acc = 0\n",
    "for i in range(len(nodes_membership)):\n",
    "    if nodes_membership[i] == perm1[i]:\n",
    "        perm1_acc += 1\n",
    "    if nodes_membership[i] == perm2[i]:\n",
    "        perm2_acc += 1\n",
    "acc = max(perm1_acc, perm2_acc)\n",
    "\n",
    "# prints results\n",
    "final_perm = []\n",
    "if acc == perm1_acc:\n",
    "    print('clustered:', perm1)\n",
    "    final_perm = perm1\n",
    "else:\n",
    "    print('clustered:', perm2)\n",
    "    final_perm = perm2\n",
    "print('actual:   ', nodes_membership)\n",
    "print('accuracy: ', acc / n_nodes)"
   ]
  },
  {
   "cell_type": "code",
   "execution_count": 242,
   "metadata": {},
   "outputs": [
    {
     "name": "stdout",
     "output_type": "stream",
     "text": [
      "[[3, 5, 6, 11, 12, 16, 17, 18, 19], [0, 1, 2, 4, 7, 8, 9, 10, 13, 14, 15]]\n"
     ]
    },
    {
     "data": {
      "application/vnd.plotly.v1+json": {
       "config": {
        "plotlyServerURL": "https://plot.ly"
       },
       "data": [
        {
         "colorscale": [
          [
           0,
           "rgb(256,256,256)"
          ],
          [
           0.25,
           "rgb(198,233,191)"
          ],
          [
           0.5,
           "rgb(116,196,118)"
          ],
          [
           0.75,
           "rgb(32,137,68)"
          ],
          [
           1,
           "rgb(0,68,27)"
          ]
         ],
         "type": "heatmap",
         "x": [
          1,
          2,
          3,
          4,
          5,
          6
         ],
         "xaxis": "x",
         "y": [
          6,
          5,
          4,
          3,
          2,
          1
         ],
         "yaxis": "y",
         "z": [
          [
           0.019979484566595332,
           0.037659463137089094,
           0.00046342552147610297,
           0.0017229486756622219,
           0.0006017336034094909,
           0.003199824685598222
          ],
          [
           0.02726920911654145,
           0.09881491198167282,
           0.0012613382558489528,
           0.004606341657557519,
           0.00210879521883527,
           0.0010748435737142291
          ],
          [
           0.0003916038499816049,
           0.0009378538796020724,
           0.00048762337411919896,
           0.001403810927511317,
           0.00002255791745306073,
           0.000007519305817686911
          ],
          [
           0.002399022083918651,
           0.005277246407406261,
           0.0007051778279856493,
           0.004377812648967941,
           0.00003358623265233487,
           0.00003174818011912251
          ],
          [
           0.0003294295225172432,
           0.002904068907581873,
           8.354784241874346e-7,
           0.000024395969986273092,
           0.004038926327146452,
           0.000837065074546167
          ],
          [
           0.0034751193211305514,
           0.0010825274332004046,
           0,
           0.000002840626642237278,
           0.0006378781686679555,
           0.0030234332052068154
          ]
         ],
         "zmax": 1,
         "zmid": 0.5,
         "zmin": 0
        },
        {
         "colorscale": [
          [
           0,
           "rgb(256,256,256)"
          ],
          [
           0.25,
           "rgb(198,233,191)"
          ],
          [
           0.5,
           "rgb(116,196,118)"
          ],
          [
           0.75,
           "rgb(32,137,68)"
          ],
          [
           1,
           "rgb(0,68,27)"
          ]
         ],
         "type": "heatmap",
         "x": [
          1,
          2,
          3,
          4,
          5,
          6
         ],
         "xaxis": "x2",
         "y": [
          6,
          5,
          4,
          3,
          2,
          1
         ],
         "yaxis": "y2",
         "z": [
          [
           0.37382532901299537,
           0.050140951039274136,
           0.01717368394865824,
           0.003800788514290112,
           0.008760418785418602,
           0.03155992711310243
          ],
          [
           0.06620173969509201,
           0.0217055600801428,
           0.0005748278284433977,
           0.000528994510882807,
           0.0011992968252319577,
           0.0031268963956595265
          ],
          [
           0.009656254806890897,
           0.00030843022149861735,
           0.012895659340270836,
           0.0007203418032751003,
           0.0000051799662299620945,
           0.00010293094185989194
          ],
          [
           0.003913095823678687,
           0.00029454944543460843,
           0.001974076212691303,
           0.0013391149142645419,
           0,
           0.000004010296436099686
          ],
          [
           0.004684945496672733,
           0.0007424773557753471,
           0.00007185114448011938,
           0.000007686401502524398,
           0.00315788494358955,
           0.00800793502077092
          ],
          [
           0.02291310372478296,
           0.0027573116584295007,
           0.00011512892685302848,
           0.00002539854409529801,
           0.004644868134665218,
           0.03117833806404709
          ]
         ],
         "zmax": 1,
         "zmid": 0.5,
         "zmin": 0
        },
        {
         "colorscale": [
          [
           0,
           "rgb(256,256,256)"
          ],
          [
           0.25,
           "rgb(198,233,191)"
          ],
          [
           0.5,
           "rgb(116,196,118)"
          ],
          [
           0.75,
           "rgb(32,137,68)"
          ],
          [
           1,
           "rgb(0,68,27)"
          ]
         ],
         "type": "heatmap",
         "x": [
          1,
          2,
          3,
          4,
          5,
          6
         ],
         "xaxis": "x3",
         "y": [
          6,
          5,
          4,
          3,
          2,
          1
         ],
         "yaxis": "y3",
         "z": [
          [
           0,
           0,
           0.019081297329891077,
           0.005140101794865671,
           0.0014532548110348538,
           0.002711552925952299
          ],
          [
           0,
           0,
           0.0007345794917379122,
           0.00032348407061483513,
           0.003275451237500033,
           0.001255108914183539
          ],
          [
           0.009644629716893435,
           0.0004097673860458009,
           0.012730485227019741,
           0.000610213695882932,
           0.000006015444654149529,
           3.341913696749738e-7
          ],
          [
           0.004601485039667233,
           0.0005773923287610672,
           0.0025900233903327647,
           0.0006892324119718614,
           0,
           0
          ],
          [
           0.0009444081660400795,
           0.0027553413445929034,
           0.0000016709568483748692,
           0,
           0.00484006912538715,
           0.0001715838995652365
          ],
          [
           0.00176857558734494,
           0.0007455257226536402,
           0,
           0,
           0.00040815400262929195,
           0.0032168721845874902
          ]
         ],
         "zmax": 1,
         "zmid": 0.5,
         "zmin": 0
        },
        {
         "colorscale": [
          [
           0,
           "rgb(256,256,256)"
          ],
          [
           0.25,
           "rgb(198,233,191)"
          ],
          [
           0.5,
           "rgb(116,196,118)"
          ],
          [
           0.75,
           "rgb(32,137,68)"
          ],
          [
           1,
           "rgb(0,68,27)"
          ]
         ],
         "type": "heatmap",
         "x": [
          1,
          2,
          3,
          4,
          5,
          6
         ],
         "xaxis": "x4",
         "y": [
          6,
          5,
          4,
          3,
          2,
          1
         ],
         "yaxis": "y4",
         "z": [
          [
           0.24622114556433192,
           0.041179732206952716,
           0.031059708519557208,
           0.00529579234439321,
           0.01993723204017446,
           0.020620248879942113
          ],
          [
           0.051109365089153494,
           0.017639632298082453,
           0.025234228972330772,
           0.003941183306943843,
           0.010100157057634054,
           0.0034040541883878688
          ],
          [
           0.007699481830306768,
           0.00021700966198005473,
           0.010215049530450408,
           0.0003985426847056868,
           0.000010649168546297896,
           0.00009822665912853881
          ],
          [
           0.002923184159525706,
           0.0003043175888915943,
           0.0014252668507010859,
           0.0032880820966366057,
           0,
           0.000002940749052895008
          ],
          [
           0.005711331448215163,
           0.0005464037864524386,
           0.00006993483821449365,
           0.000005636435684715432,
           0.0076179498681448335,
           0.013528591173308213
          ],
          [
           0.009378154431530835,
           0.0013712842283187274,
           0.0001095115989313321,
           0.000018624744001668386,
           0.0087961353915488,
           0.036786181792668765
          ]
         ],
         "zmax": 1,
         "zmid": 0.5,
         "zmin": 0
        },
        {
         "colorscale": [
          [
           0,
           "rgb(256,256,256)"
          ],
          [
           0.25,
           "rgb(198,233,191)"
          ],
          [
           0.5,
           "rgb(116,196,118)"
          ],
          [
           0.75,
           "rgb(32,137,68)"
          ],
          [
           1,
           "rgb(0,68,27)"
          ]
         ],
         "type": "heatmap",
         "x": [
          1,
          2,
          3,
          4,
          5,
          6
         ],
         "xaxis": "x5",
         "y": [
          6,
          5,
          4,
          3,
          2,
          1
         ],
         "yaxis": "y5",
         "z": [
          [
           0.01638914010088585,
           0.027087751889634283,
           0.021847633638737242,
           0.003917571993798978,
           0.010591649244589683,
           0.0018805008240673328
          ],
          [
           0.020663926440580925,
           0.07332441896289878,
           0.028036499690840634,
           0.006711026946479463,
           0.010069380318972778,
           0.0019522842966611226
          ],
          [
           0.0005958526335705203,
           0.0007064442692772777,
           0.0036979311961809883,
           0.0014561641828381817,
           0.000025868403486062155,
           0.000005758966895252724
          ],
          [
           0.001247609977020231,
           0.002797752447892952,
           0.0015221761979448334,
           0.005497413771225804,
           0.00003194750563889369,
           0.00002328093000208548
          ],
          [
           0.002329135685417355,
           0.002233822394300491,
           0.000002020026175992166,
           0.000023205650862081982,
           0.0036544689974463457,
           0.00018525326984887577
          ],
          [
           0.0005260592402997311,
           0.0009968312366921523,
           0,
           0.000002083030579133964,
           0.0005900580855510129,
           0.0008503176937728927
          ]
         ],
         "zmax": 1,
         "zmid": 0.5,
         "zmin": 0
        },
        {
         "colorscale": [
          [
           0,
           "rgb(256,256,256)"
          ],
          [
           0.25,
           "rgb(198,233,191)"
          ],
          [
           0.5,
           "rgb(116,196,118)"
          ],
          [
           0.75,
           "rgb(32,137,68)"
          ],
          [
           1,
           "rgb(0,68,27)"
          ]
         ],
         "type": "heatmap",
         "x": [
          1,
          2,
          3,
          4,
          5,
          6
         ],
         "xaxis": "x6",
         "y": [
          6,
          5,
          4,
          3,
          2,
          1
         ],
         "yaxis": "y6",
         "z": [
          [
           0,
           0,
           0.0024015415631709956,
           0.0033063513827650288,
           0.013399526055908046,
           0.025729781251572627
          ],
          [
           0,
           0,
           0.025371340147939,
           0.011332702361291679,
           0.0016666767402333563,
           0.004859146779124802
          ],
          [
           0.0017718182736994883,
           0.0007295227361785122,
           0.0005043900253912515,
           0.0009357409807174567,
           0.00002034018094919047,
           0.00008263165232654509
          ],
          [
           0.003528039747392775,
           0.007571787677978817,
           0.0005235423467292919,
           0.005756252091077261,
           0.000027389232768373107,
           0.00003401376222250373
          ],
          [
           0.004519510724050198,
           0.0013823155495207415,
           0.00005330107658372202,
           0.0000252009261881417,
           0.001736355362208413,
           0.004241620954271711
          ],
          [
           0.02298808847585414,
           0.0036533094802555306,
           0.0000871844635105716,
           0.000026861335586930514,
           0.0023212524313126195,
           0.011674252905324402
          ]
         ],
         "zmax": 1,
         "zmid": 0.5,
         "zmin": 0
        }
       ],
       "layout": {
        "annotations": [
         {
          "font": {
           "size": 16
          },
          "showarrow": false,
          "text": "Centroid 0, Position 1",
          "x": 0.14444444444444446,
          "xanchor": "center",
          "xref": "paper",
          "y": 1,
          "yanchor": "bottom",
          "yref": "paper"
         },
         {
          "font": {
           "size": 16
          },
          "showarrow": false,
          "text": "Centroid 0, Position 2",
          "x": 0.5,
          "xanchor": "center",
          "xref": "paper",
          "y": 1,
          "yanchor": "bottom",
          "yref": "paper"
         },
         {
          "font": {
           "size": 16
          },
          "showarrow": false,
          "text": "Centroid 0, Position 3",
          "x": 0.8555555555555556,
          "xanchor": "center",
          "xref": "paper",
          "y": 1,
          "yanchor": "bottom",
          "yref": "paper"
         },
         {
          "font": {
           "size": 16
          },
          "showarrow": false,
          "text": "Centroid 1, Position 1",
          "x": 0.14444444444444446,
          "xanchor": "center",
          "xref": "paper",
          "y": 0.375,
          "yanchor": "bottom",
          "yref": "paper"
         },
         {
          "font": {
           "size": 16
          },
          "showarrow": false,
          "text": "Centroid 1, Position 2",
          "x": 0.5,
          "xanchor": "center",
          "xref": "paper",
          "y": 0.375,
          "yanchor": "bottom",
          "yref": "paper"
         },
         {
          "font": {
           "size": 16
          },
          "showarrow": false,
          "text": "Centroid 1, Position 3",
          "x": 0.8555555555555556,
          "xanchor": "center",
          "xref": "paper",
          "y": 0.375,
          "yanchor": "bottom",
          "yref": "paper"
         }
        ],
        "height": 1000,
        "template": {
         "data": {
          "bar": [
           {
            "error_x": {
             "color": "#2a3f5f"
            },
            "error_y": {
             "color": "#2a3f5f"
            },
            "marker": {
             "line": {
              "color": "#E5ECF6",
              "width": 0.5
             },
             "pattern": {
              "fillmode": "overlay",
              "size": 10,
              "solidity": 0.2
             }
            },
            "type": "bar"
           }
          ],
          "barpolar": [
           {
            "marker": {
             "line": {
              "color": "#E5ECF6",
              "width": 0.5
             },
             "pattern": {
              "fillmode": "overlay",
              "size": 10,
              "solidity": 0.2
             }
            },
            "type": "barpolar"
           }
          ],
          "carpet": [
           {
            "aaxis": {
             "endlinecolor": "#2a3f5f",
             "gridcolor": "white",
             "linecolor": "white",
             "minorgridcolor": "white",
             "startlinecolor": "#2a3f5f"
            },
            "baxis": {
             "endlinecolor": "#2a3f5f",
             "gridcolor": "white",
             "linecolor": "white",
             "minorgridcolor": "white",
             "startlinecolor": "#2a3f5f"
            },
            "type": "carpet"
           }
          ],
          "choropleth": [
           {
            "colorbar": {
             "outlinewidth": 0,
             "ticks": ""
            },
            "type": "choropleth"
           }
          ],
          "contour": [
           {
            "colorbar": {
             "outlinewidth": 0,
             "ticks": ""
            },
            "colorscale": [
             [
              0,
              "#0d0887"
             ],
             [
              0.1111111111111111,
              "#46039f"
             ],
             [
              0.2222222222222222,
              "#7201a8"
             ],
             [
              0.3333333333333333,
              "#9c179e"
             ],
             [
              0.4444444444444444,
              "#bd3786"
             ],
             [
              0.5555555555555556,
              "#d8576b"
             ],
             [
              0.6666666666666666,
              "#ed7953"
             ],
             [
              0.7777777777777778,
              "#fb9f3a"
             ],
             [
              0.8888888888888888,
              "#fdca26"
             ],
             [
              1,
              "#f0f921"
             ]
            ],
            "type": "contour"
           }
          ],
          "contourcarpet": [
           {
            "colorbar": {
             "outlinewidth": 0,
             "ticks": ""
            },
            "type": "contourcarpet"
           }
          ],
          "heatmap": [
           {
            "colorbar": {
             "outlinewidth": 0,
             "ticks": ""
            },
            "colorscale": [
             [
              0,
              "#0d0887"
             ],
             [
              0.1111111111111111,
              "#46039f"
             ],
             [
              0.2222222222222222,
              "#7201a8"
             ],
             [
              0.3333333333333333,
              "#9c179e"
             ],
             [
              0.4444444444444444,
              "#bd3786"
             ],
             [
              0.5555555555555556,
              "#d8576b"
             ],
             [
              0.6666666666666666,
              "#ed7953"
             ],
             [
              0.7777777777777778,
              "#fb9f3a"
             ],
             [
              0.8888888888888888,
              "#fdca26"
             ],
             [
              1,
              "#f0f921"
             ]
            ],
            "type": "heatmap"
           }
          ],
          "histogram": [
           {
            "marker": {
             "pattern": {
              "fillmode": "overlay",
              "size": 10,
              "solidity": 0.2
             }
            },
            "type": "histogram"
           }
          ],
          "histogram2d": [
           {
            "colorbar": {
             "outlinewidth": 0,
             "ticks": ""
            },
            "colorscale": [
             [
              0,
              "#0d0887"
             ],
             [
              0.1111111111111111,
              "#46039f"
             ],
             [
              0.2222222222222222,
              "#7201a8"
             ],
             [
              0.3333333333333333,
              "#9c179e"
             ],
             [
              0.4444444444444444,
              "#bd3786"
             ],
             [
              0.5555555555555556,
              "#d8576b"
             ],
             [
              0.6666666666666666,
              "#ed7953"
             ],
             [
              0.7777777777777778,
              "#fb9f3a"
             ],
             [
              0.8888888888888888,
              "#fdca26"
             ],
             [
              1,
              "#f0f921"
             ]
            ],
            "type": "histogram2d"
           }
          ],
          "histogram2dcontour": [
           {
            "colorbar": {
             "outlinewidth": 0,
             "ticks": ""
            },
            "colorscale": [
             [
              0,
              "#0d0887"
             ],
             [
              0.1111111111111111,
              "#46039f"
             ],
             [
              0.2222222222222222,
              "#7201a8"
             ],
             [
              0.3333333333333333,
              "#9c179e"
             ],
             [
              0.4444444444444444,
              "#bd3786"
             ],
             [
              0.5555555555555556,
              "#d8576b"
             ],
             [
              0.6666666666666666,
              "#ed7953"
             ],
             [
              0.7777777777777778,
              "#fb9f3a"
             ],
             [
              0.8888888888888888,
              "#fdca26"
             ],
             [
              1,
              "#f0f921"
             ]
            ],
            "type": "histogram2dcontour"
           }
          ],
          "mesh3d": [
           {
            "colorbar": {
             "outlinewidth": 0,
             "ticks": ""
            },
            "type": "mesh3d"
           }
          ],
          "parcoords": [
           {
            "line": {
             "colorbar": {
              "outlinewidth": 0,
              "ticks": ""
             }
            },
            "type": "parcoords"
           }
          ],
          "pie": [
           {
            "automargin": true,
            "type": "pie"
           }
          ],
          "scatter": [
           {
            "fillpattern": {
             "fillmode": "overlay",
             "size": 10,
             "solidity": 0.2
            },
            "type": "scatter"
           }
          ],
          "scatter3d": [
           {
            "line": {
             "colorbar": {
              "outlinewidth": 0,
              "ticks": ""
             }
            },
            "marker": {
             "colorbar": {
              "outlinewidth": 0,
              "ticks": ""
             }
            },
            "type": "scatter3d"
           }
          ],
          "scattercarpet": [
           {
            "marker": {
             "colorbar": {
              "outlinewidth": 0,
              "ticks": ""
             }
            },
            "type": "scattercarpet"
           }
          ],
          "scattergeo": [
           {
            "marker": {
             "colorbar": {
              "outlinewidth": 0,
              "ticks": ""
             }
            },
            "type": "scattergeo"
           }
          ],
          "scattergl": [
           {
            "marker": {
             "colorbar": {
              "outlinewidth": 0,
              "ticks": ""
             }
            },
            "type": "scattergl"
           }
          ],
          "scattermap": [
           {
            "marker": {
             "colorbar": {
              "outlinewidth": 0,
              "ticks": ""
             }
            },
            "type": "scattermap"
           }
          ],
          "scattermapbox": [
           {
            "marker": {
             "colorbar": {
              "outlinewidth": 0,
              "ticks": ""
             }
            },
            "type": "scattermapbox"
           }
          ],
          "scatterpolar": [
           {
            "marker": {
             "colorbar": {
              "outlinewidth": 0,
              "ticks": ""
             }
            },
            "type": "scatterpolar"
           }
          ],
          "scatterpolargl": [
           {
            "marker": {
             "colorbar": {
              "outlinewidth": 0,
              "ticks": ""
             }
            },
            "type": "scatterpolargl"
           }
          ],
          "scatterternary": [
           {
            "marker": {
             "colorbar": {
              "outlinewidth": 0,
              "ticks": ""
             }
            },
            "type": "scatterternary"
           }
          ],
          "surface": [
           {
            "colorbar": {
             "outlinewidth": 0,
             "ticks": ""
            },
            "colorscale": [
             [
              0,
              "#0d0887"
             ],
             [
              0.1111111111111111,
              "#46039f"
             ],
             [
              0.2222222222222222,
              "#7201a8"
             ],
             [
              0.3333333333333333,
              "#9c179e"
             ],
             [
              0.4444444444444444,
              "#bd3786"
             ],
             [
              0.5555555555555556,
              "#d8576b"
             ],
             [
              0.6666666666666666,
              "#ed7953"
             ],
             [
              0.7777777777777778,
              "#fb9f3a"
             ],
             [
              0.8888888888888888,
              "#fdca26"
             ],
             [
              1,
              "#f0f921"
             ]
            ],
            "type": "surface"
           }
          ],
          "table": [
           {
            "cells": {
             "fill": {
              "color": "#EBF0F8"
             },
             "line": {
              "color": "white"
             }
            },
            "header": {
             "fill": {
              "color": "#C8D4E3"
             },
             "line": {
              "color": "white"
             }
            },
            "type": "table"
           }
          ]
         },
         "layout": {
          "annotationdefaults": {
           "arrowcolor": "#2a3f5f",
           "arrowhead": 0,
           "arrowwidth": 1
          },
          "autotypenumbers": "strict",
          "coloraxis": {
           "colorbar": {
            "outlinewidth": 0,
            "ticks": ""
           }
          },
          "colorscale": {
           "diverging": [
            [
             0,
             "#8e0152"
            ],
            [
             0.1,
             "#c51b7d"
            ],
            [
             0.2,
             "#de77ae"
            ],
            [
             0.3,
             "#f1b6da"
            ],
            [
             0.4,
             "#fde0ef"
            ],
            [
             0.5,
             "#f7f7f7"
            ],
            [
             0.6,
             "#e6f5d0"
            ],
            [
             0.7,
             "#b8e186"
            ],
            [
             0.8,
             "#7fbc41"
            ],
            [
             0.9,
             "#4d9221"
            ],
            [
             1,
             "#276419"
            ]
           ],
           "sequential": [
            [
             0,
             "#0d0887"
            ],
            [
             0.1111111111111111,
             "#46039f"
            ],
            [
             0.2222222222222222,
             "#7201a8"
            ],
            [
             0.3333333333333333,
             "#9c179e"
            ],
            [
             0.4444444444444444,
             "#bd3786"
            ],
            [
             0.5555555555555556,
             "#d8576b"
            ],
            [
             0.6666666666666666,
             "#ed7953"
            ],
            [
             0.7777777777777778,
             "#fb9f3a"
            ],
            [
             0.8888888888888888,
             "#fdca26"
            ],
            [
             1,
             "#f0f921"
            ]
           ],
           "sequentialminus": [
            [
             0,
             "#0d0887"
            ],
            [
             0.1111111111111111,
             "#46039f"
            ],
            [
             0.2222222222222222,
             "#7201a8"
            ],
            [
             0.3333333333333333,
             "#9c179e"
            ],
            [
             0.4444444444444444,
             "#bd3786"
            ],
            [
             0.5555555555555556,
             "#d8576b"
            ],
            [
             0.6666666666666666,
             "#ed7953"
            ],
            [
             0.7777777777777778,
             "#fb9f3a"
            ],
            [
             0.8888888888888888,
             "#fdca26"
            ],
            [
             1,
             "#f0f921"
            ]
           ]
          },
          "colorway": [
           "#636efa",
           "#EF553B",
           "#00cc96",
           "#ab63fa",
           "#FFA15A",
           "#19d3f3",
           "#FF6692",
           "#B6E880",
           "#FF97FF",
           "#FECB52"
          ],
          "font": {
           "color": "#2a3f5f"
          },
          "geo": {
           "bgcolor": "white",
           "lakecolor": "white",
           "landcolor": "#E5ECF6",
           "showlakes": true,
           "showland": true,
           "subunitcolor": "white"
          },
          "hoverlabel": {
           "align": "left"
          },
          "hovermode": "closest",
          "mapbox": {
           "style": "light"
          },
          "paper_bgcolor": "white",
          "plot_bgcolor": "#E5ECF6",
          "polar": {
           "angularaxis": {
            "gridcolor": "white",
            "linecolor": "white",
            "ticks": ""
           },
           "bgcolor": "#E5ECF6",
           "radialaxis": {
            "gridcolor": "white",
            "linecolor": "white",
            "ticks": ""
           }
          },
          "scene": {
           "xaxis": {
            "backgroundcolor": "#E5ECF6",
            "gridcolor": "white",
            "gridwidth": 2,
            "linecolor": "white",
            "showbackground": true,
            "ticks": "",
            "zerolinecolor": "white"
           },
           "yaxis": {
            "backgroundcolor": "#E5ECF6",
            "gridcolor": "white",
            "gridwidth": 2,
            "linecolor": "white",
            "showbackground": true,
            "ticks": "",
            "zerolinecolor": "white"
           },
           "zaxis": {
            "backgroundcolor": "#E5ECF6",
            "gridcolor": "white",
            "gridwidth": 2,
            "linecolor": "white",
            "showbackground": true,
            "ticks": "",
            "zerolinecolor": "white"
           }
          },
          "shapedefaults": {
           "line": {
            "color": "#2a3f5f"
           }
          },
          "ternary": {
           "aaxis": {
            "gridcolor": "white",
            "linecolor": "white",
            "ticks": ""
           },
           "baxis": {
            "gridcolor": "white",
            "linecolor": "white",
            "ticks": ""
           },
           "bgcolor": "#E5ECF6",
           "caxis": {
            "gridcolor": "white",
            "linecolor": "white",
            "ticks": ""
           }
          },
          "title": {
           "x": 0.05
          },
          "xaxis": {
           "automargin": true,
           "gridcolor": "white",
           "linecolor": "white",
           "ticks": "",
           "title": {
            "standoff": 15
           },
           "zerolinecolor": "white",
           "zerolinewidth": 2
          },
          "yaxis": {
           "automargin": true,
           "gridcolor": "white",
           "linecolor": "white",
           "ticks": "",
           "title": {
            "standoff": 15
           },
           "zerolinecolor": "white",
           "zerolinewidth": 2
          }
         }
        },
        "title": {
         "text": "MULCH POSITIONED Scenario 1: Hierarchical Clustering - 2 Clusters"
        },
        "width": 1300,
        "xaxis": {
         "anchor": "y",
         "domain": [
          0,
          0.2888888888888889
         ],
         "tickvals": [
          1,
          2,
          3,
          4,
          5,
          6
         ]
        },
        "xaxis2": {
         "anchor": "y2",
         "domain": [
          0.35555555555555557,
          0.6444444444444445
         ],
         "tickvals": [
          1,
          2,
          3,
          4,
          5,
          6
         ]
        },
        "xaxis3": {
         "anchor": "y3",
         "domain": [
          0.7111111111111111,
          1
         ],
         "tickvals": [
          1,
          2,
          3,
          4,
          5,
          6
         ]
        },
        "xaxis4": {
         "anchor": "y4",
         "domain": [
          0,
          0.2888888888888889
         ],
         "tickvals": [
          1,
          2,
          3,
          4,
          5,
          6
         ]
        },
        "xaxis5": {
         "anchor": "y5",
         "domain": [
          0.35555555555555557,
          0.6444444444444445
         ],
         "tickvals": [
          1,
          2,
          3,
          4,
          5,
          6
         ]
        },
        "xaxis6": {
         "anchor": "y6",
         "domain": [
          0.7111111111111111,
          1
         ],
         "tickvals": [
          1,
          2,
          3,
          4,
          5,
          6
         ]
        },
        "yaxis": {
         "anchor": "x",
         "autorange": "reversed",
         "domain": [
          0.625,
          1
         ]
        },
        "yaxis2": {
         "anchor": "x2",
         "autorange": "reversed",
         "domain": [
          0.625,
          1
         ]
        },
        "yaxis3": {
         "anchor": "x3",
         "autorange": "reversed",
         "domain": [
          0.625,
          1
         ]
        },
        "yaxis4": {
         "anchor": "x4",
         "autorange": "reversed",
         "domain": [
          0,
          0.375
         ]
        },
        "yaxis5": {
         "anchor": "x5",
         "autorange": "reversed",
         "domain": [
          0,
          0.375
         ]
        },
        "yaxis6": {
         "anchor": "x6",
         "autorange": "reversed",
         "domain": [
          0,
          0.375
         ]
        }
       }
      }
     },
     "metadata": {},
     "output_type": "display_data"
    }
   ],
   "source": [
    "# heatmaps for hierarchcal (manual clustering)\n",
    "\n",
    "memberships = [[], []]\n",
    "for i in range(len(final_perm)):\n",
    "    memberships[final_perm[i]].append(i)\n",
    "\n",
    "hierarchical_centroids = []\n",
    "for group in memberships:\n",
    "    hierarchical_centroids.append(list(count_table0[group].mean(axis=1)))\n",
    "\n",
    "print(memberships)\n",
    "\n",
    "# creates the heatmaps for the hierarchical clustering\n",
    "\n",
    "fig = make_subplots()\n",
    "if positioned:\n",
    "    fig = create_centroid_heatmaps_POSITIONED(hierarchical_centroids)\n",
    "else:\n",
    "    fig = create_centroid_heatmaps_POSITIONLESS(hierarchical_centroids)\n",
    "fig.update_layout(title=f'MULCH {positioned_label} Scenario 1: Hierarchical Clustering - {len(memberships)} Clusters')\n",
    "fig.show()"
   ]
  }
 ],
 "metadata": {
  "kernelspec": {
   "display_name": "Python 3",
   "language": "python",
   "name": "python3"
  },
  "language_info": {
   "codemirror_mode": {
    "name": "ipython",
    "version": 3
   },
   "file_extension": ".py",
   "mimetype": "text/x-python",
   "name": "python",
   "nbconvert_exporter": "python",
   "pygments_lexer": "ipython3",
   "version": "3.12.3"
  }
 },
 "nbformat": 4,
 "nbformat_minor": 2
}
