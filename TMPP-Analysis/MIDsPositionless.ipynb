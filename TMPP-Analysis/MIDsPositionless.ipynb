{
 "cells": [
  {
   "cell_type": "code",
   "execution_count": 2,
   "metadata": {},
   "outputs": [],
   "source": [
    "import sys\n",
    "sys.path.append(\"..\")\n",
    "\n",
    "import pickle\n",
    "import multiprocessing as mp\n",
    "from dynetworkx import dynetworkx as dnx\n",
    "import pandas as pd\n",
    "from plotly.subplots import make_subplots\n",
    "import plotly.graph_objects as go\n",
    "import networkx as nx\n",
    "import matplotlib.pyplot as plt\n",
    "from scipy.cluster.hierarchy import dendrogram, linkage, fcluster"
   ]
  },
  {
   "cell_type": "code",
   "execution_count": 3,
   "metadata": {},
   "outputs": [],
   "source": [
    "# gets the graph dataset\n",
    "\n",
    "with open('data/graphs.pickle','rb') as f:\n",
    "    graphs = pickle.load(f)\n",
    "\n",
    "# This list all of the edge orders for the motifs in the table above\n",
    "motifs = [[((1,2),(3,2),(1,2)), ((1,2),(3,2),(2,1)), ((1,2),(3,2),(1,3)), ((1,2),(3,2),(3,1)), ((1,2),(3,2),(2,3)), ((1,2),(3,2),(3,2))],\n",
    "          [((1,2),(2,3),(1,2)), ((1,2),(2,3),(2,1)), ((1,2),(2,3),(1,3)), ((1,2),(2,3),(3,1)), ((1,2),(2,3),(2,3)), ((1,2),(2,3),(3,2))],\n",
    "          [((1,2),(3,1),(1,2)), ((1,2),(3,1),(2,1)), ((1,2),(3,1),(1,3)), ((1,2),(3,1),(3,1)), ((1,2),(3,1),(2,3)), ((1,2),(3,1),(3,2))],\n",
    "          [((1,2),(1,3),(1,2)), ((1,2),(1,3),(2,1)), ((1,2),(1,3),(1,3)), ((1,2),(1,3),(3,1)), ((1,2),(1,3),(2,3)), ((1,2),(1,3),(3,2))],\n",
    "          [((1,2),(2,1),(1,2)), ((1,2),(2,1),(2,1)), ((1,2),(2,1),(1,3)), ((1,2),(2,1),(3,1)), ((1,2),(2,1),(2,3)), ((1,2),(2,1),(3,2))],\n",
    "          [((1,2),(1,2),(1,2)), ((1,2),(1,2),(2,1)), ((1,2),(1,2),(1,3)), ((1,2),(1,2),(3,1)), ((1,2),(1,2),(2,3)), ((1,2),(1,2),(3,2))]]\n",
    "\n",
    "mot = [ seq for row in motifs for seq in row]"
   ]
  },
  {
   "cell_type": "code",
   "execution_count": 4,
   "metadata": {},
   "outputs": [
    {
     "name": "stdout",
     "output_type": "stream",
     "text": [
      "{'EGY', 'POL', 'KEN', 'DJI', 'CAM', 'CHA', 'CRO', 'HAI', 'TAZ', 'COS', 'YEM', 'SYR', 'BUL', 'DRC', 'BEL', 'MAL', 'EST', 'LBR', 'NOR', 'GRG', 'KYR', 'UZB', 'ANG', 'IND', 'UGA', 'DRV', 'LIT', 'POR', 'AFG', 'BNG', 'SUR', 'CYP', 'NTH', 'ITA', 'DEN', 'PER', 'BUI', 'LUX', 'IRQ', 'CZR', 'RUM', 'TAW', 'FIN', 'SPN', 'MOR', 'IRN', 'NEP', 'ARM', 'YUG', 'CAN', 'AUL', 'LEB', 'RWA', 'ISR', 'PAK', 'LIB', 'ALB', 'UKG', 'SUD', 'SLV', 'TAJ', 'BOS', 'USA', 'COL', 'FRN', 'MAC', 'TUR', 'PRK', 'MYA', 'GUI', 'UAE', 'GMY', 'HUN', 'SIE', 'AZE', 'TUN', 'SOM', 'ZIM', 'SLO', 'PAN', 'KUW', 'THI', 'GRC', 'SWD', 'CHN', 'GUY', 'SSD', 'SAU', 'JPN', 'HON', 'ZAM', 'LAT', 'ROK', 'VTM', 'RUS', 'ETH', 'ICE', 'MLD', 'JOR', 'ECU', 'ERI', 'CDI', 'ARG', 'INS', 'NIC', 'VEN', 'PHI', 'UKR'}\n",
      "108\n"
     ]
    }
   ],
   "source": [
    "# gets the nodes that are strongly connected, and graphs them\n",
    "\n",
    "graph_0_networkx = graphs[0].to_networkx_graph()\n",
    "graph_0_strong_conn= nx.strongly_connected_components(graph_0_networkx)\n",
    "\n",
    "def get_strongly_connected(graph):\n",
    "    for i in graph:\n",
    "        yield i\n",
    "\n",
    "len_longest = 0\n",
    "longest = 0\n",
    "for i in get_strongly_connected(graph_0_strong_conn):\n",
    "    if len(i) > len_longest:\n",
    "        longest = i\n",
    "        len_longest = len(longest)\n",
    "print(longest)\n",
    "print(len_longest)\n",
    "\n",
    "graph_0_strong_conn = graph_0_networkx.subgraph(longest)"
   ]
  },
  {
   "cell_type": "code",
   "execution_count": 5,
   "metadata": {},
   "outputs": [],
   "source": [
    "# edits the 0th graph in graphs to remove the non-strongly connected nodes\n",
    "\n",
    "for edge in graphs[0].edges():\n",
    "    if edge[0] not in longest or edge[1] not in longest:\n",
    "        graphs[0].remove_edge(edge[0], edge[1])"
   ]
  },
  {
   "cell_type": "code",
   "execution_count": 6,
   "metadata": {},
   "outputs": [],
   "source": [
    "# stores all of the (pandas dataframes that tells you how many times each node appears in each motif) for each of the (10 graphs) in count_table\n",
    "\n",
    "table = list()\n",
    "\n",
    "for g in graphs:\n",
    "    \n",
    "    pool = mp.Pool(mp.cpu_count())\n",
    "    results = pool.starmap_async(dnx.count_temporal_motif, [(g, seq, 7*86400) for seq in mot]).get()\n",
    "    pool.close()\n",
    "    \n",
    "    count = list()\n",
    "    for d in results:\n",
    "        #count.append(d) # if using older version of dynetworkx\n",
    "        count.append(d[2])\n",
    "    table.append(count)\n",
    "\n",
    "    break # we only use the first graph\n",
    "    \n",
    "\n",
    "count_table = pd.DataFrame(table, columns=mot)"
   ]
  },
  {
   "cell_type": "code",
   "execution_count": 7,
   "metadata": {},
   "outputs": [
    {
     "name": "stderr",
     "output_type": "stream",
     "text": [
      "/var/folders/wr/1ygr91094fx7s8n65by5s4c40000gn/T/ipykernel_33966/3840050657.py:15: FutureWarning: Series.__getitem__ treating keys as positions is deprecated. In a future version, integer keys will always be treated as labels (consistent with DataFrame behavior). To access a value by position, use `ser.iloc[pos]`\n",
      "  countries += list(df.iloc[i][k].index)\n",
      "/var/folders/wr/1ygr91094fx7s8n65by5s4c40000gn/T/ipykernel_33966/3840050657.py:31: FutureWarning: ChainedAssignmentError: behaviour will change in pandas 3.0!\n",
      "You are setting values through chained assignment. Currently this works in certain cases, but when using Copy-on-Write (which will become the default behaviour in pandas 3.0) this will never work to update the original DataFrame or Series, because the intermediate object on which we are setting values will behave as a copy.\n",
      "A typical example is when you are setting values in a column of a DataFrame, like:\n",
      "\n",
      "df[\"col\"][row_indexer] = value\n",
      "\n",
      "Use `df.loc[row_indexer, \"col\"] = values` instead, to perform the assignment in a single step and ensure this keeps updating the original `df`.\n",
      "\n",
      "See the caveats in the documentation: https://pandas.pydata.org/pandas-docs/stable/user_guide/indexing.html#returning-a-view-versus-a-copy\n",
      "\n",
      "  dataset_df[country].loc[(motif, pos)] = df.loc[current_dataset][motif].loc[country][pos]\n"
     ]
    }
   ],
   "source": [
    "df = count_table # saves count_table as df so we can manipulate count_table but also retain the original copy\n",
    "\n",
    "# count_table_multiindex is a list that stores each multiindex dataframe for each of the 10 datasets\n",
    "count_table_multiindex = []\n",
    "\n",
    "for current_dataset in range(len(df.index)):\n",
    "\n",
    "    # there are three (or two) positions in each motif\n",
    "    positions = [1, 2, 3]\n",
    "\n",
    "    # generates list of all countries by compiling all countries in all 10 datasets in all 36 motifs\n",
    "    countries = []\n",
    "    for i in range(len(df.index)):\n",
    "        for k in range(len(df.columns)):\n",
    "            countries += list(df.iloc[i][k].index)\n",
    "    countries = sorted(list(set(countries)))\n",
    "\n",
    "    # generates the index for the multiindex by taking the product of mot and positions\n",
    "    multiindex_vals = pd.MultiIndex.from_product([mot, positions], names=[\"motifs\", \"positions\"])\n",
    "\n",
    "    # creates the dataframe with indices from multiindex_vals and columns from countries\n",
    "    dataset_df = pd.DataFrame(columns=countries, index=multiindex_vals)\n",
    "\n",
    "    # iterates through all positions in the multiindex dataframe (through all motifs, position in each motif, and each country) and assigns the appropriate value based on df\n",
    "    for motif in mot:\n",
    "        for pos in positions:\n",
    "            for country in countries:\n",
    "\n",
    "                # checks if country and position is present in df and then assigns it\n",
    "                if country in df.loc[current_dataset][motif].index and pos in df.loc[current_dataset][motif].columns:\n",
    "                    dataset_df[country].loc[(motif, pos)] = df.loc[current_dataset][motif].loc[country][pos]\n",
    "\n",
    "    # adds the dataframe to the list\n",
    "    count_table_multiindex.append(dataset_df)"
   ]
  },
  {
   "cell_type": "code",
   "execution_count": 8,
   "metadata": {},
   "outputs": [
    {
     "name": "stderr",
     "output_type": "stream",
     "text": [
      "/var/folders/wr/1ygr91094fx7s8n65by5s4c40000gn/T/ipykernel_33966/1343173517.py:5: FutureWarning: Downcasting object dtype arrays on .fillna, .ffill, .bfill is deprecated and will change in a future version. Call result.infer_objects(copy=False) instead. To opt-in to the future behavior, set `pd.set_option('future.no_silent_downcasting', True)`\n",
      "  count_table0 = count_table0.fillna(0)\n",
      "/var/folders/wr/1ygr91094fx7s8n65by5s4c40000gn/T/ipykernel_33966/1343173517.py:14: FutureWarning: ChainedAssignmentError: behaviour will change in pandas 3.0!\n",
      "You are setting values through chained assignment. Currently this works in certain cases, but when using Copy-on-Write (which will become the default behaviour in pandas 3.0) this will never work to update the original DataFrame or Series, because the intermediate object on which we are setting values will behave as a copy.\n",
      "A typical example is when you are setting values in a column of a DataFrame, like:\n",
      "\n",
      "df[\"col\"][row_indexer] = value\n",
      "\n",
      "Use `df.loc[row_indexer, \"col\"] = values` instead, to perform the assignment in a single step and ensure this keeps updating the original `df`.\n",
      "\n",
      "See the caveats in the documentation: https://pandas.pydata.org/pandas-docs/stable/user_guide/indexing.html#returning-a-view-versus-a-copy\n",
      "\n",
      "  count_table0_positionless[country][motif] += count_table0[country][(motif, position)]\n"
     ]
    }
   ],
   "source": [
    "# changes all 'nan' to 0, normalizes vectors, deletes countries with too few edges\n",
    "\n",
    "count_table0 = count_table_multiindex[0].copy()\n",
    "\n",
    "count_table0 = count_table0.fillna(0)\n",
    "\n",
    "countries = list(count_table0.columns)\n",
    "\n",
    "# removes positional information from count_table0\n",
    "count_table0_positionless = pd.DataFrame(0, columns=countries, index=mot)\n",
    "for motif in mot:\n",
    "    for position in positions:\n",
    "       for country in countries:\n",
    "            count_table0_positionless[country][motif] += count_table0[country][(motif, position)]\n",
    "count_table0 = count_table0_positionless\n",
    "\n",
    "# remove countries with less than some number of edges; normalization\n",
    "for column in count_table0.columns:\n",
    "    sum = count_table0[column].sum()\n",
    "    if sum > 10:\n",
    "        count_table0[column] = count_table0[column].apply(lambda x: x / sum) # normalize\n",
    "    else:\n",
    "        count_table0 = count_table0.drop(column, axis=1)\n",
    "\n",
    "# gets updated list of countries in dataframe\n",
    "countries = list(count_table0.columns)"
   ]
  },
  {
   "cell_type": "code",
   "execution_count": 9,
   "metadata": {},
   "outputs": [
    {
     "name": "stdout",
     "output_type": "stream",
     "text": [
      "{0: 'AFG', 1: 'ALB', 2: 'ARG', 3: 'ARM', 4: 'AUL', 5: 'AZE', 6: 'BEL', 7: 'BNG', 8: 'BOS', 9: 'BUL', 10: 'CAM', 11: 'CAN', 12: 'CHN', 13: 'CRO', 14: 'CYP', 15: 'CZR', 16: 'DEN', 17: 'DRC', 18: 'DRV', 19: 'ECU', 20: 'ERI', 21: 'EST', 22: 'FIN', 23: 'FRN', 24: 'GMY', 25: 'GRC', 26: 'GRG', 27: 'HAI', 28: 'HUN', 29: 'ICE', 30: 'IND', 31: 'IRN', 32: 'IRQ', 33: 'ISR', 34: 'ITA', 35: 'JOR', 36: 'JPN', 37: 'KUW', 38: 'KYR', 39: 'LEB', 40: 'LIB', 41: 'LIT', 42: 'LUX', 43: 'MAC', 44: 'MOR', 45: 'MYA', 46: 'NOR', 47: 'NTH', 48: 'PAK', 49: 'PER', 50: 'PHI', 51: 'POL', 52: 'POR', 53: 'PRK', 54: 'ROK', 55: 'RUS', 56: 'RWA', 57: 'SAU', 58: 'SLO', 59: 'SLV', 60: 'SPN', 61: 'SUD', 62: 'SWD', 63: 'SYR', 64: 'TAJ', 65: 'TAW', 66: 'THI', 67: 'TUR', 68: 'UAE', 69: 'UGA', 70: 'UKG', 71: 'UKR', 72: 'USA', 73: 'UZB', 74: 'YEM', 75: 'YUG'}\n",
      "['AFG', 'ALB', 'ARG', 'ARM', 'AUL', 'AZE', 'BEL', 'BNG', 'BOS', 'BUL', 'CAM', 'CAN', 'CHN', 'CRO', 'CYP', 'CZR', 'DEN', 'DRC', 'DRV', 'ECU', 'ERI', 'EST', 'FIN', 'FRN', 'GMY', 'GRC', 'GRG', 'HAI', 'HUN', 'ICE', 'IND', 'IRN', 'IRQ', 'ISR', 'ITA', 'JOR', 'JPN', 'KUW', 'KYR', 'LEB', 'LIB', 'LIT', 'LUX', 'MAC', 'MOR', 'MYA', 'NOR', 'NTH', 'PAK', 'PER', 'PHI', 'POL', 'POR', 'PRK', 'ROK', 'RUS', 'RWA', 'SAU', 'SLO', 'SLV', 'SPN', 'SUD', 'SWD', 'SYR', 'TAJ', 'TAW', 'THI', 'TUR', 'UAE', 'UGA', 'UKG', 'UKR', 'USA', 'UZB', 'YEM', 'YUG']\n",
      "[(((1, 2), (3, 2), (1, 2)), 1), (((1, 2), (3, 2), (1, 2)), 2), (((1, 2), (3, 2), (1, 2)), 3), (((1, 2), (3, 2), (2, 1)), 1), (((1, 2), (3, 2), (2, 1)), 2), (((1, 2), (3, 2), (2, 1)), 3), (((1, 2), (3, 2), (1, 3)), 1), (((1, 2), (3, 2), (1, 3)), 2), (((1, 2), (3, 2), (1, 3)), 3), (((1, 2), (3, 2), (3, 1)), 1), (((1, 2), (3, 2), (3, 1)), 2), (((1, 2), (3, 2), (3, 1)), 3), (((1, 2), (3, 2), (2, 3)), 1), (((1, 2), (3, 2), (2, 3)), 2), (((1, 2), (3, 2), (2, 3)), 3), (((1, 2), (3, 2), (3, 2)), 1), (((1, 2), (3, 2), (3, 2)), 2), (((1, 2), (3, 2), (3, 2)), 3), (((1, 2), (2, 3), (1, 2)), 1), (((1, 2), (2, 3), (1, 2)), 2), (((1, 2), (2, 3), (1, 2)), 3), (((1, 2), (2, 3), (2, 1)), 1), (((1, 2), (2, 3), (2, 1)), 2), (((1, 2), (2, 3), (2, 1)), 3), (((1, 2), (2, 3), (1, 3)), 1), (((1, 2), (2, 3), (1, 3)), 2), (((1, 2), (2, 3), (1, 3)), 3), (((1, 2), (2, 3), (3, 1)), 1), (((1, 2), (2, 3), (3, 1)), 2), (((1, 2), (2, 3), (3, 1)), 3), (((1, 2), (2, 3), (2, 3)), 1), (((1, 2), (2, 3), (2, 3)), 2), (((1, 2), (2, 3), (2, 3)), 3), (((1, 2), (2, 3), (3, 2)), 1), (((1, 2), (2, 3), (3, 2)), 2), (((1, 2), (2, 3), (3, 2)), 3), (((1, 2), (3, 1), (1, 2)), 1), (((1, 2), (3, 1), (1, 2)), 2), (((1, 2), (3, 1), (1, 2)), 3), (((1, 2), (3, 1), (2, 1)), 1), (((1, 2), (3, 1), (2, 1)), 2), (((1, 2), (3, 1), (2, 1)), 3), (((1, 2), (3, 1), (1, 3)), 1), (((1, 2), (3, 1), (1, 3)), 2), (((1, 2), (3, 1), (1, 3)), 3), (((1, 2), (3, 1), (3, 1)), 1), (((1, 2), (3, 1), (3, 1)), 2), (((1, 2), (3, 1), (3, 1)), 3), (((1, 2), (3, 1), (2, 3)), 1), (((1, 2), (3, 1), (2, 3)), 2), (((1, 2), (3, 1), (2, 3)), 3), (((1, 2), (3, 1), (3, 2)), 1), (((1, 2), (3, 1), (3, 2)), 2), (((1, 2), (3, 1), (3, 2)), 3), (((1, 2), (1, 3), (1, 2)), 1), (((1, 2), (1, 3), (1, 2)), 2), (((1, 2), (1, 3), (1, 2)), 3), (((1, 2), (1, 3), (2, 1)), 1), (((1, 2), (1, 3), (2, 1)), 2), (((1, 2), (1, 3), (2, 1)), 3), (((1, 2), (1, 3), (1, 3)), 1), (((1, 2), (1, 3), (1, 3)), 2), (((1, 2), (1, 3), (1, 3)), 3), (((1, 2), (1, 3), (3, 1)), 1), (((1, 2), (1, 3), (3, 1)), 2), (((1, 2), (1, 3), (3, 1)), 3), (((1, 2), (1, 3), (2, 3)), 1), (((1, 2), (1, 3), (2, 3)), 2), (((1, 2), (1, 3), (2, 3)), 3), (((1, 2), (1, 3), (3, 2)), 1), (((1, 2), (1, 3), (3, 2)), 2), (((1, 2), (1, 3), (3, 2)), 3), (((1, 2), (2, 1), (1, 2)), 1), (((1, 2), (2, 1), (1, 2)), 2), (((1, 2), (2, 1), (1, 2)), 3), (((1, 2), (2, 1), (2, 1)), 1), (((1, 2), (2, 1), (2, 1)), 2), (((1, 2), (2, 1), (2, 1)), 3), (((1, 2), (2, 1), (1, 3)), 1), (((1, 2), (2, 1), (1, 3)), 2), (((1, 2), (2, 1), (1, 3)), 3), (((1, 2), (2, 1), (3, 1)), 1), (((1, 2), (2, 1), (3, 1)), 2), (((1, 2), (2, 1), (3, 1)), 3), (((1, 2), (2, 1), (2, 3)), 1), (((1, 2), (2, 1), (2, 3)), 2), (((1, 2), (2, 1), (2, 3)), 3), (((1, 2), (2, 1), (3, 2)), 1), (((1, 2), (2, 1), (3, 2)), 2), (((1, 2), (2, 1), (3, 2)), 3), (((1, 2), (1, 2), (1, 2)), 1), (((1, 2), (1, 2), (1, 2)), 2), (((1, 2), (1, 2), (1, 2)), 3), (((1, 2), (1, 2), (2, 1)), 1), (((1, 2), (1, 2), (2, 1)), 2), (((1, 2), (1, 2), (2, 1)), 3), (((1, 2), (1, 2), (1, 3)), 1), (((1, 2), (1, 2), (1, 3)), 2), (((1, 2), (1, 2), (1, 3)), 3), (((1, 2), (1, 2), (3, 1)), 1), (((1, 2), (1, 2), (3, 1)), 2), (((1, 2), (1, 2), (3, 1)), 3), (((1, 2), (1, 2), (2, 3)), 1), (((1, 2), (1, 2), (2, 3)), 2), (((1, 2), (1, 2), (2, 3)), 3), (((1, 2), (1, 2), (3, 2)), 1), (((1, 2), (1, 2), (3, 2)), 2), (((1, 2), (1, 2), (3, 2)), 3)]\n"
     ]
    }
   ],
   "source": [
    "# list of countries\n",
    "list_of_countries = list(count_table0.columns)\n",
    "\n",
    "# conversion from country number to country name\n",
    "dict_of_countries = {}\n",
    "for i in range(len(list_of_countries)):\n",
    "    dict_of_countries[i] = list_of_countries[i]\n",
    "\n",
    "list_of_motif_pos = list(multiindex_vals)\n",
    "\n",
    "print(dict_of_countries)\n",
    "print(list_of_countries)\n",
    "print(list_of_motif_pos)"
   ]
  },
  {
   "cell_type": "code",
   "execution_count": 10,
   "metadata": {},
   "outputs": [],
   "source": [
    "# appends a heatmap to fig\n",
    "# spacing optimized for 7 heatmaps\n",
    "\n",
    "def insert_heatmap(fig, data, max_val, row, col):\n",
    "    fig.append_trace(go.Heatmap(\n",
    "                     z=data,\n",
    "                     x=[1,2,3,4,5,6],\n",
    "                     y=[6,5,4,3,2,1],\n",
    "                     #colorscale='greens',\n",
    "                     #colorbar=dict(x=0.21),\n",
    "                     zmax=1,\n",
    "                     zmid=0.5,\n",
    "                     zmin=0,\n",
    "                     #coloraxis='coloraxis',\n",
    "                     colorscale = [[0, 'rgb(256,256,256)'], [0.25, 'rgb(198,233,191)'], [0.5, 'rgb(116,196,118)'], [0.75, 'rgb(32,137,68)'], [1, 'rgb(0,68,27)']],\n",
    "                  ),\n",
    "                  row, col)\n",
    "    \n",
    "def create_centroid_heatmaps(centroids):\n",
    "    num_clusters = len(centroids)\n",
    "\n",
    "    all_the_data = [] # stores all of the data for the heatmaps: list of n centroids, each centroid is a 6x6 list\n",
    "\n",
    "    for centroid in range(num_clusters):\n",
    "\n",
    "        # adjusts the data so it fits into the 6x6 heatmaps\n",
    "        data = []\n",
    "        for i in range(6):\n",
    "            i = 5-i\n",
    "            data.append(centroids[centroid][i*6:i*6+6])\n",
    "        all_the_data.append(data)\n",
    "            \n",
    "    # makes the subplot titles\n",
    "    subplot_titles = []\n",
    "    for i in range(num_clusters):\n",
    "        subplot_titles.append('Centroid ' + str(i))\n",
    "        subplot_titles.append('')\n",
    "        subplot_titles.append('')\n",
    "\n",
    "    # makes the fig\n",
    "    fig = make_subplots(rows=num_clusters, cols=3, subplot_titles=subplot_titles, vertical_spacing=0.025)\n",
    "\n",
    "    # inserts heatmaps into fig\n",
    "    for k in range(len(all_the_data)):\n",
    "\n",
    "        # calculates the maximum value of all the data\n",
    "        max_val = 0\n",
    "        for i in range(len(all_the_data[k])):\n",
    "            max_val = max([max_val] + all_the_data[k][i])\n",
    "\n",
    "        # inserts heatmaps\n",
    "        insert_heatmap(fig, all_the_data[k], max_val, k+1, 1)\n",
    "\n",
    "    fig.update_layout(title=f'Centroid Data - {num_clusters} Clusters',\n",
    "                    height=365*num_clusters,\n",
    "                    width=1200,\n",
    "                    #coloraxis = {'colorscale':'greens'}\n",
    "                    )\n",
    "    fig.update_yaxes(autorange=\"reversed\")\n",
    "    fig.update_xaxes(tickvals = [1,2,3,4,5,6])\n",
    "    \n",
    "    return fig"
   ]
  },
  {
   "cell_type": "code",
   "execution_count": 11,
   "metadata": {},
   "outputs": [],
   "source": [
    "# dictionary that converts the COW country code into the long name\n",
    "cow_country_codes = pd.read_csv(\"data/COW-country-codes.csv\")\n",
    "cow_country_codes = cow_country_codes.set_index('COWcode')['name'].T.to_dict()\n",
    "\n",
    "list_of_countries_spelled = []\n",
    "\n",
    "for i in range(len(list(count_table0.columns))):\n",
    "    country = count_table0.columns[i]\n",
    "    list_of_countries_spelled.append(cow_country_codes[country])"
   ]
  },
  {
   "cell_type": "code",
   "execution_count": 12,
   "metadata": {},
   "outputs": [
    {
     "data": {
      "image/png": "[encoded data removed]",
      "text/plain": [
       "<Figure size 1800x900 with 1 Axes>"
      ]
     },
     "metadata": {},
     "output_type": "display_data"
    }
   ],
   "source": [
    "# hierarchical clustering\n",
    "# https://docs.scipy.org/doc/scipy/reference/generated/scipy.cluster.hierarchy.linkage.html\n",
    "# https://stackoverflow.com/questions/9838861/scipy-linkage-format\n",
    "# https://python-graph-gallery.com/401-customised-dendrogram/\n",
    "\n",
    "method = 'ward'\n",
    "Z = linkage(count_table0.T, method=method)\n",
    "\n",
    "plt.figure(figsize=(18, 9))\n",
    "dendrogram(Z, labels=list_of_countries_spelled, color_threshold=0.75)#, labels=list(count_table[0].columns))\n",
    "plt.title(f'MIDs POSITIONLESS: Dendrogram for Hierarchical Clustering with [{method}] Linkage Method')\n",
    "plt.xlabel('Country')\n",
    "plt.ylabel('Distance')\n",
    "plt.show()"
   ]
  },
  {
   "cell_type": "code",
   "execution_count": 13,
   "metadata": {},
   "outputs": [
    {
     "name": "stdout",
     "output_type": "stream",
     "text": [
      "[7 7 2 6 7 2 1 7 6 2 4 1 7 6 2 1 1 7 7 4 4 2 2 1 1 1 2 3 1 1 7 7 7 3 1 2 7\n",
      " 7 1 3 1 2 1 5 2 7 1 1 7 4 7 1 1 7 7 7 7 5 2 2 1 7 2 7 7 7 4 1 2 7 1 2 1 7\n",
      " 4 1]\n",
      "Cluster 0: ['BEL', 'CAN', 'CZR', 'DEN', 'FRN', 'GMY', 'GRC', 'HUN', 'ICE', 'ITA', 'KYR', 'LIB', 'LUX', 'NOR', 'NTH', 'POL', 'POR', 'SPN', 'TUR', 'UKG', 'USA', 'YUG']\n",
      "Cluster 1: ['ARG', 'AZE', 'BUL', 'CYP', 'EST', 'FIN', 'GRG', 'JOR', 'LIT', 'MOR', 'SLO', 'SLV', 'SWD', 'UAE', 'UKR']\n",
      "Cluster 2: ['HAI', 'ISR', 'LEB']\n",
      "Cluster 3: ['CAM', 'ECU', 'ERI', 'PER', 'THI', 'YEM']\n",
      "Cluster 4: ['MAC', 'SAU']\n",
      "Cluster 5: ['ARM', 'BOS', 'CRO']\n",
      "Cluster 6: ['AFG', 'ALB', 'AUL', 'BNG', 'CHN', 'DRC', 'DRV', 'IND', 'IRN', 'IRQ', 'JPN', 'KUW', 'MYA', 'PAK', 'PHI', 'PRK', 'ROK', 'RUS', 'RWA', 'SUD', 'SYR', 'TAJ', 'TAW', 'UGA', 'UZB']\n"
     ]
    }
   ],
   "source": [
    "# split into 7 clusters\n",
    "\n",
    "dendrogram_clustering = fcluster(Z, t=7, criterion='maxclust')\n",
    "print(dendrogram_clustering)\n",
    "\n",
    "memberships = [[] for _ in range(7)]\n",
    "for i in range(len(list_of_countries)):\n",
    "    memberships[int(dendrogram_clustering[i])-1].append(list_of_countries[i])\n",
    "\n",
    "for i in range(len(memberships)):\n",
    "    print(f'Cluster {i}: {memberships[i]}')"
   ]
  },
  {
   "cell_type": "code",
   "execution_count": 14,
   "metadata": {},
   "outputs": [
    {
     "data": {
      "application/vnd.plotly.v1+json": {
       "config": {
        "plotlyServerURL": "https://plot.ly"
       },
       "data": [
        {
         "colorscale": [
          [
           0,
           "rgb(256,256,256)"
          ],
          [
           0.25,
           "rgb(198,233,191)"
          ],
          [
           0.5,
           "rgb(116,196,118)"
          ],
          [
           0.75,
           "rgb(32,137,68)"
          ],
          [
           1,
           "rgb(0,68,27)"
          ]
         ],
         "type": "heatmap",
         "x": [
          1,
          2,
          3,
          4,
          5,
          6
         ],
         "xaxis": "x",
         "y": [
          6,
          5,
          4,
          3,
          2,
          1
         ],
         "yaxis": "y",
         "z": [
          [
           0.009047924228053478,
           0.00195546058452206,
           0.019213137215374983,
           0.0024801662710551026,
           0.0070092123819308775,
           0.2550857748027319
          ],
          [
           0.002287619326140081,
           0.002093997810218667,
           0.0010103813798636872,
           0.005164982534934894,
           0.0014370148310576833,
           0.004488864841147363
          ],
          [
           0.03576699351340674,
           0.001231537584102183,
           0.019024105946383648,
           0.0013288703893749605,
           0.000568022189135783,
           0.0003408133134814698
          ],
          [
           0.0031275998605157537,
           0.004711583226892214,
           0.0010409100217019475,
           0.002684654329228714,
           0,
           0.0003408133134814698
          ],
          [
           0.00447802253639673,
           0.0010403393686779887,
           0.0004828188607654155,
           0,
           0.0019062670665341396,
           0.004294729146318805
          ],
          [
           0.3581545989304796,
           0.008416650319364026,
           0.0005112199702222047,
           0.0007046151703924999,
           0.007725824986027749,
           0.2308444737500852
          ]
         ],
         "zmax": 1,
         "zmid": 0.5,
         "zmin": 0
        },
        {
         "colorscale": [
          [
           0,
           "rgb(256,256,256)"
          ],
          [
           0.25,
           "rgb(198,233,191)"
          ],
          [
           0.5,
           "rgb(116,196,118)"
          ],
          [
           0.75,
           "rgb(32,137,68)"
          ],
          [
           1,
           "rgb(0,68,27)"
          ]
         ],
         "type": "heatmap",
         "x": [
          1,
          2,
          3,
          4,
          5,
          6
         ],
         "xaxis": "x4",
         "y": [
          6,
          5,
          4,
          3,
          2,
          1
         ],
         "yaxis": "y4",
         "z": [
          [
           0.008135958800682543,
           0.006554965457247208,
           0.21892158328900355,
           0.005877121240187243,
           0.00252240380250474,
           0.019931104165246755
          ],
          [
           0.007625401531999012,
           0.004808500123548307,
           0.0060159534789397595,
           0.004465254508097353,
           0.004549107380249177,
           0.004183752810494934
          ],
          [
           0.4225361157494436,
           0.003511327093158384,
           0.21422391784428038,
           0.01046912325248441,
           0,
           0
          ],
          [
           0.0030879392989390944,
           0.0028124722194388285,
           0.005066705784802396,
           0.0024307325531773886,
           0,
           0
          ],
          [
           0.0034641830897948825,
           0.0036108374995627852,
           0,
           0,
           0.002211100542552277,
           0.00212271862105891
          ],
          [
           0.01575991216945886,
           0.0006825521515230864,
           0,
           0,
           0.002168084163370888,
           0.012251171378753284
          ]
         ],
         "zmax": 1,
         "zmid": 0.5,
         "zmin": 0
        },
        {
         "colorscale": [
          [
           0,
           "rgb(256,256,256)"
          ],
          [
           0.25,
           "rgb(198,233,191)"
          ],
          [
           0.5,
           "rgb(116,196,118)"
          ],
          [
           0.75,
           "rgb(32,137,68)"
          ],
          [
           1,
           "rgb(0,68,27)"
          ]
         ],
         "type": "heatmap",
         "x": [
          1,
          2,
          3,
          4,
          5,
          6
         ],
         "xaxis": "x7",
         "y": [
          6,
          5,
          4,
          3,
          2,
          1
         ],
         "yaxis": "y7",
         "z": [
          [
           0.8099433644724242,
           0.0036587099917593483,
           0.011241051967737295,
           0.006011250067101279,
           0.003396861340279904,
           0.009926686475373729
          ],
          [
           0.0023525400753419295,
           0.0018288427723830401,
           0.022511812898279377,
           0.0036576855447660803,
           0.0031380860297802646,
           0.0026123398328348375
          ],
          [
           0.014635864414030662,
           0.0007845215074450662,
           0.03165807565418111,
           0.006534947370060167,
           0.0010453457119312425,
           0.0047040557036905906
          ],
          [
           0.008884414104422292,
           0.001566994120903595,
           0.002875212931307551,
           0.0023535645223351984,
           0,
           0.0026133642798281064
          ],
          [
           0.001046370158924511,
           0.0015690430148901323,
           0.0015680185678968634,
           0.0010453457119312425,
           0.006270025377600917,
           0.0028721395903277456
          ],
          [
           0.006531874029080362,
           0.004442207052211146,
           0.005226728559656213,
           0.0010453457119312425,
           0.004178309506745164,
           0.006269000930607648
          ]
         ],
         "zmax": 1,
         "zmid": 0.5,
         "zmin": 0
        },
        {
         "colorscale": [
          [
           0,
           "rgb(256,256,256)"
          ],
          [
           0.25,
           "rgb(198,233,191)"
          ],
          [
           0.5,
           "rgb(116,196,118)"
          ],
          [
           0.75,
           "rgb(32,137,68)"
          ],
          [
           1,
           "rgb(0,68,27)"
          ]
         ],
         "type": "heatmap",
         "x": [
          1,
          2,
          3,
          4,
          5,
          6
         ],
         "xaxis": "x10",
         "y": [
          6,
          5,
          4,
          3,
          2,
          1
         ],
         "yaxis": "y10",
         "z": [
          [
           0.2248640112610701,
           0.22087674716351188,
           0,
           0,
           0,
           0.009952465834818775
          ],
          [
           0.27887444119061766,
           0.15302738519650283,
           0.009952465834818775,
           0.005208333333333333,
           0.009952465834818775,
           0.009952465834818775
          ],
          [
           0.009952465834818775,
           0,
           0,
           0.009952465834818775,
           0,
           0
          ],
          [
           0.009952465834818775,
           0,
           0,
           0,
           0,
           0
          ],
          [
           0,
           0.009952465834818775,
           0,
           0,
           0.007671957671957673,
           0.009952465834818775
          ],
          [
           0,
           0.01990493166963755,
           0,
           0,
           0,
           0
          ]
         ],
         "zmax": 1,
         "zmid": 0.5,
         "zmin": 0
        },
        {
         "colorscale": [
          [
           0,
           "rgb(256,256,256)"
          ],
          [
           0.25,
           "rgb(198,233,191)"
          ],
          [
           0.5,
           "rgb(116,196,118)"
          ],
          [
           0.75,
           "rgb(32,137,68)"
          ],
          [
           1,
           "rgb(0,68,27)"
          ]
         ],
         "type": "heatmap",
         "x": [
          1,
          2,
          3,
          4,
          5,
          6
         ],
         "xaxis": "x13",
         "y": [
          6,
          5,
          4,
          3,
          2,
          1
         ],
         "yaxis": "y13",
         "z": [
          [
           0.00819672131147541,
           0.00819672131147541,
           0,
           0,
           0.5053632867840518,
           0
          ],
          [
           0.01639344262295082,
           0,
           0.00819672131147541,
           0,
           0.07174660999797612,
           0
          ],
          [
           0,
           0.03895972475207448,
           0.0030864197530864196,
           0.03587330499898806,
           0,
           0
          ],
          [
           0,
           0,
           0,
           0.09122647237401335,
           0,
           0
          ],
          [
           0.20147743371787086,
           0,
           0,
           0,
           0.00819672131147541,
           0
          ],
          [
           0,
           0,
           0,
           0,
           0.0030864197530864196,
           0
          ]
         ],
         "zmax": 1,
         "zmid": 0.5,
         "zmin": 0
        },
        {
         "colorscale": [
          [
           0,
           "rgb(256,256,256)"
          ],
          [
           0.25,
           "rgb(198,233,191)"
          ],
          [
           0.5,
           "rgb(116,196,118)"
          ],
          [
           0.75,
           "rgb(32,137,68)"
          ],
          [
           1,
           "rgb(0,68,27)"
          ]
         ],
         "type": "heatmap",
         "x": [
          1,
          2,
          3,
          4,
          5,
          6
         ],
         "xaxis": "x16",
         "y": [
          6,
          5,
          4,
          3,
          2,
          1
         ],
         "yaxis": "y16",
         "z": [
          [
           0.3310121251297722,
           0,
           0.11732385261797028,
           0.00980392156862745,
           0.0036630036630036634,
           0.0196078431372549
          ],
          [
           0.00980392156862745,
           0,
           0,
           0,
           0,
           0
          ],
          [
           0.0499108734402852,
           0,
           0.0499108734402852,
           0.03228144404614993,
           0,
           0
          ],
          [
           0,
           0,
           0.0249554367201426,
           0,
           0,
           0
          ],
          [
           0.007326007326007327,
           0,
           0,
           0,
           0,
           0.0036630036630036634
          ],
          [
           0.09447415329768272,
           0,
           0,
           0.0196078431372549,
           0,
           0.22665569724393256
          ]
         ],
         "zmax": 1,
         "zmid": 0.5,
         "zmin": 0
        },
        {
         "colorscale": [
          [
           0,
           "rgb(256,256,256)"
          ],
          [
           0.25,
           "rgb(198,233,191)"
          ],
          [
           0.5,
           "rgb(116,196,118)"
          ],
          [
           0.75,
           "rgb(32,137,68)"
          ],
          [
           1,
           "rgb(0,68,27)"
          ]
         ],
         "type": "heatmap",
         "x": [
          1,
          2,
          3,
          4,
          5,
          6
         ],
         "xaxis": "x19",
         "y": [
          6,
          5,
          4,
          3,
          2,
          1
         ],
         "yaxis": "y19",
         "z": [
          [
           0.027375230770044508,
           0.04063467276790323,
           0.02600104166338993,
           0.045452567389607436,
           0.023216777148426914,
           0.04335327348090323
          ],
          [
           0.04233712302170039,
           0.049963008234884185,
           0.024824275904452825,
           0.07247378365535512,
           0.030059360933997824,
           0.056481686788989086
          ],
          [
           0.03582012602471711,
           0.010342053542188747,
           0.01994538373740107,
           0.03955826595560674,
           0.00015904572564612323,
           0.0007157057654075547
          ],
          [
           0.04801820664144127,
           0.038041895848638506,
           0.019699678835540545,
           0.042084826417428625,
           0,
           0.00039761431411530816
          ],
          [
           0.028791595814061363,
           0.01577113587390079,
           0.00023856858846918488,
           0.00015904572564612323,
           0.019085082179815756,
           0.02210049112785544
          ],
          [
           0.07272976946034326,
           0.03102623765370933,
           0.0007952286282306163,
           0.00015904572564612323,
           0.024091795763014127,
           0.048096398891521626
          ]
         ],
         "zmax": 1,
         "zmid": 0.5,
         "zmin": 0
        }
       ],
       "layout": {
        "annotations": [
         {
          "font": {
           "size": 16
          },
          "showarrow": false,
          "text": "Centroid 0",
          "x": 0.14444444444444446,
          "xanchor": "center",
          "xref": "paper",
          "y": 1,
          "yanchor": "bottom",
          "yref": "paper"
         },
         {
          "font": {
           "size": 16
          },
          "showarrow": false,
          "text": "Centroid 1",
          "x": 0.14444444444444446,
          "xanchor": "center",
          "xref": "paper",
          "y": 0.8535714285714285,
          "yanchor": "bottom",
          "yref": "paper"
         },
         {
          "font": {
           "size": 16
          },
          "showarrow": false,
          "text": "Centroid 2",
          "x": 0.14444444444444446,
          "xanchor": "center",
          "xref": "paper",
          "y": 0.7071428571428572,
          "yanchor": "bottom",
          "yref": "paper"
         },
         {
          "font": {
           "size": 16
          },
          "showarrow": false,
          "text": "Centroid 3",
          "x": 0.14444444444444446,
          "xanchor": "center",
          "xref": "paper",
          "y": 0.5607142857142857,
          "yanchor": "bottom",
          "yref": "paper"
         },
         {
          "font": {
           "size": 16
          },
          "showarrow": false,
          "text": "Centroid 4",
          "x": 0.14444444444444446,
          "xanchor": "center",
          "xref": "paper",
          "y": 0.4142857142857143,
          "yanchor": "bottom",
          "yref": "paper"
         },
         {
          "font": {
           "size": 16
          },
          "showarrow": false,
          "text": "Centroid 5",
          "x": 0.14444444444444446,
          "xanchor": "center",
          "xref": "paper",
          "y": 0.26785714285714285,
          "yanchor": "bottom",
          "yref": "paper"
         },
         {
          "font": {
           "size": 16
          },
          "showarrow": false,
          "text": "Centroid 6",
          "x": 0.14444444444444446,
          "xanchor": "center",
          "xref": "paper",
          "y": 0.12142857142857143,
          "yanchor": "bottom",
          "yref": "paper"
         }
        ],
        "height": 2555,
        "template": {
         "data": {
          "bar": [
           {
            "error_x": {
             "color": "#2a3f5f"
            },
            "error_y": {
             "color": "#2a3f5f"
            },
            "marker": {
             "line": {
              "color": "#E5ECF6",
              "width": 0.5
             },
             "pattern": {
              "fillmode": "overlay",
              "size": 10,
              "solidity": 0.2
             }
            },
            "type": "bar"
           }
          ],
          "barpolar": [
           {
            "marker": {
             "line": {
              "color": "#E5ECF6",
              "width": 0.5
             },
             "pattern": {
              "fillmode": "overlay",
              "size": 10,
              "solidity": 0.2
             }
            },
            "type": "barpolar"
           }
          ],
          "carpet": [
           {
            "aaxis": {
             "endlinecolor": "#2a3f5f",
             "gridcolor": "white",
             "linecolor": "white",
             "minorgridcolor": "white",
             "startlinecolor": "#2a3f5f"
            },
            "baxis": {
             "endlinecolor": "#2a3f5f",
             "gridcolor": "white",
             "linecolor": "white",
             "minorgridcolor": "white",
             "startlinecolor": "#2a3f5f"
            },
            "type": "carpet"
           }
          ],
          "choropleth": [
           {
            "colorbar": {
             "outlinewidth": 0,
             "ticks": ""
            },
            "type": "choropleth"
           }
          ],
          "contour": [
           {
            "colorbar": {
             "outlinewidth": 0,
             "ticks": ""
            },
            "colorscale": [
             [
              0,
              "#0d0887"
             ],
             [
              0.1111111111111111,
              "#46039f"
             ],
             [
              0.2222222222222222,
              "#7201a8"
             ],
             [
              0.3333333333333333,
              "#9c179e"
             ],
             [
              0.4444444444444444,
              "#bd3786"
             ],
             [
              0.5555555555555556,
              "#d8576b"
             ],
             [
              0.6666666666666666,
              "#ed7953"
             ],
             [
              0.7777777777777778,
              "#fb9f3a"
             ],
             [
              0.8888888888888888,
              "#fdca26"
             ],
             [
              1,
              "#f0f921"
             ]
            ],
            "type": "contour"
           }
          ],
          "contourcarpet": [
           {
            "colorbar": {
             "outlinewidth": 0,
             "ticks": ""
            },
            "type": "contourcarpet"
           }
          ],
          "heatmap": [
           {
            "colorbar": {
             "outlinewidth": 0,
             "ticks": ""
            },
            "colorscale": [
             [
              0,
              "#0d0887"
             ],
             [
              0.1111111111111111,
              "#46039f"
             ],
             [
              0.2222222222222222,
              "#7201a8"
             ],
             [
              0.3333333333333333,
              "#9c179e"
             ],
             [
              0.4444444444444444,
              "#bd3786"
             ],
             [
              0.5555555555555556,
              "#d8576b"
             ],
             [
              0.6666666666666666,
              "#ed7953"
             ],
             [
              0.7777777777777778,
              "#fb9f3a"
             ],
             [
              0.8888888888888888,
              "#fdca26"
             ],
             [
              1,
              "#f0f921"
             ]
            ],
            "type": "heatmap"
           }
          ],
          "histogram": [
           {
            "marker": {
             "pattern": {
              "fillmode": "overlay",
              "size": 10,
              "solidity": 0.2
             }
            },
            "type": "histogram"
           }
          ],
          "histogram2d": [
           {
            "colorbar": {
             "outlinewidth": 0,
             "ticks": ""
            },
            "colorscale": [
             [
              0,
              "#0d0887"
             ],
             [
              0.1111111111111111,
              "#46039f"
             ],
             [
              0.2222222222222222,
              "#7201a8"
             ],
             [
              0.3333333333333333,
              "#9c179e"
             ],
             [
              0.4444444444444444,
              "#bd3786"
             ],
             [
              0.5555555555555556,
              "#d8576b"
             ],
             [
              0.6666666666666666,
              "#ed7953"
             ],
             [
              0.7777777777777778,
              "#fb9f3a"
             ],
             [
              0.8888888888888888,
              "#fdca26"
             ],
             [
              1,
              "#f0f921"
             ]
            ],
            "type": "histogram2d"
           }
          ],
          "histogram2dcontour": [
           {
            "colorbar": {
             "outlinewidth": 0,
             "ticks": ""
            },
            "colorscale": [
             [
              0,
              "#0d0887"
             ],
             [
              0.1111111111111111,
              "#46039f"
             ],
             [
              0.2222222222222222,
              "#7201a8"
             ],
             [
              0.3333333333333333,
              "#9c179e"
             ],
             [
              0.4444444444444444,
              "#bd3786"
             ],
             [
              0.5555555555555556,
              "#d8576b"
             ],
             [
              0.6666666666666666,
              "#ed7953"
             ],
             [
              0.7777777777777778,
              "#fb9f3a"
             ],
             [
              0.8888888888888888,
              "#fdca26"
             ],
             [
              1,
              "#f0f921"
             ]
            ],
            "type": "histogram2dcontour"
           }
          ],
          "mesh3d": [
           {
            "colorbar": {
             "outlinewidth": 0,
             "ticks": ""
            },
            "type": "mesh3d"
           }
          ],
          "parcoords": [
           {
            "line": {
             "colorbar": {
              "outlinewidth": 0,
              "ticks": ""
             }
            },
            "type": "parcoords"
           }
          ],
          "pie": [
           {
            "automargin": true,
            "type": "pie"
           }
          ],
          "scatter": [
           {
            "fillpattern": {
             "fillmode": "overlay",
             "size": 10,
             "solidity": 0.2
            },
            "type": "scatter"
           }
          ],
          "scatter3d": [
           {
            "line": {
             "colorbar": {
              "outlinewidth": 0,
              "ticks": ""
             }
            },
            "marker": {
             "colorbar": {
              "outlinewidth": 0,
              "ticks": ""
             }
            },
            "type": "scatter3d"
           }
          ],
          "scattercarpet": [
           {
            "marker": {
             "colorbar": {
              "outlinewidth": 0,
              "ticks": ""
             }
            },
            "type": "scattercarpet"
           }
          ],
          "scattergeo": [
           {
            "marker": {
             "colorbar": {
              "outlinewidth": 0,
              "ticks": ""
             }
            },
            "type": "scattergeo"
           }
          ],
          "scattergl": [
           {
            "marker": {
             "colorbar": {
              "outlinewidth": 0,
              "ticks": ""
             }
            },
            "type": "scattergl"
           }
          ],
          "scattermap": [
           {
            "marker": {
             "colorbar": {
              "outlinewidth": 0,
              "ticks": ""
             }
            },
            "type": "scattermap"
           }
          ],
          "scattermapbox": [
           {
            "marker": {
             "colorbar": {
              "outlinewidth": 0,
              "ticks": ""
             }
            },
            "type": "scattermapbox"
           }
          ],
          "scatterpolar": [
           {
            "marker": {
             "colorbar": {
              "outlinewidth": 0,
              "ticks": ""
             }
            },
            "type": "scatterpolar"
           }
          ],
          "scatterpolargl": [
           {
            "marker": {
             "colorbar": {
              "outlinewidth": 0,
              "ticks": ""
             }
            },
            "type": "scatterpolargl"
           }
          ],
          "scatterternary": [
           {
            "marker": {
             "colorbar": {
              "outlinewidth": 0,
              "ticks": ""
             }
            },
            "type": "scatterternary"
           }
          ],
          "surface": [
           {
            "colorbar": {
             "outlinewidth": 0,
             "ticks": ""
            },
            "colorscale": [
             [
              0,
              "#0d0887"
             ],
             [
              0.1111111111111111,
              "#46039f"
             ],
             [
              0.2222222222222222,
              "#7201a8"
             ],
             [
              0.3333333333333333,
              "#9c179e"
             ],
             [
              0.4444444444444444,
              "#bd3786"
             ],
             [
              0.5555555555555556,
              "#d8576b"
             ],
             [
              0.6666666666666666,
              "#ed7953"
             ],
             [
              0.7777777777777778,
              "#fb9f3a"
             ],
             [
              0.8888888888888888,
              "#fdca26"
             ],
             [
              1,
              "#f0f921"
             ]
            ],
            "type": "surface"
           }
          ],
          "table": [
           {
            "cells": {
             "fill": {
              "color": "#EBF0F8"
             },
             "line": {
              "color": "white"
             }
            },
            "header": {
             "fill": {
              "color": "#C8D4E3"
             },
             "line": {
              "color": "white"
             }
            },
            "type": "table"
           }
          ]
         },
         "layout": {
          "annotationdefaults": {
           "arrowcolor": "#2a3f5f",
           "arrowhead": 0,
           "arrowwidth": 1
          },
          "autotypenumbers": "strict",
          "coloraxis": {
           "colorbar": {
            "outlinewidth": 0,
            "ticks": ""
           }
          },
          "colorscale": {
           "diverging": [
            [
             0,
             "#8e0152"
            ],
            [
             0.1,
             "#c51b7d"
            ],
            [
             0.2,
             "#de77ae"
            ],
            [
             0.3,
             "#f1b6da"
            ],
            [
             0.4,
             "#fde0ef"
            ],
            [
             0.5,
             "#f7f7f7"
            ],
            [
             0.6,
             "#e6f5d0"
            ],
            [
             0.7,
             "#b8e186"
            ],
            [
             0.8,
             "#7fbc41"
            ],
            [
             0.9,
             "#4d9221"
            ],
            [
             1,
             "#276419"
            ]
           ],
           "sequential": [
            [
             0,
             "#0d0887"
            ],
            [
             0.1111111111111111,
             "#46039f"
            ],
            [
             0.2222222222222222,
             "#7201a8"
            ],
            [
             0.3333333333333333,
             "#9c179e"
            ],
            [
             0.4444444444444444,
             "#bd3786"
            ],
            [
             0.5555555555555556,
             "#d8576b"
            ],
            [
             0.6666666666666666,
             "#ed7953"
            ],
            [
             0.7777777777777778,
             "#fb9f3a"
            ],
            [
             0.8888888888888888,
             "#fdca26"
            ],
            [
             1,
             "#f0f921"
            ]
           ],
           "sequentialminus": [
            [
             0,
             "#0d0887"
            ],
            [
             0.1111111111111111,
             "#46039f"
            ],
            [
             0.2222222222222222,
             "#7201a8"
            ],
            [
             0.3333333333333333,
             "#9c179e"
            ],
            [
             0.4444444444444444,
             "#bd3786"
            ],
            [
             0.5555555555555556,
             "#d8576b"
            ],
            [
             0.6666666666666666,
             "#ed7953"
            ],
            [
             0.7777777777777778,
             "#fb9f3a"
            ],
            [
             0.8888888888888888,
             "#fdca26"
            ],
            [
             1,
             "#f0f921"
            ]
           ]
          },
          "colorway": [
           "#636efa",
           "#EF553B",
           "#00cc96",
           "#ab63fa",
           "#FFA15A",
           "#19d3f3",
           "#FF6692",
           "#B6E880",
           "#FF97FF",
           "#FECB52"
          ],
          "font": {
           "color": "#2a3f5f"
          },
          "geo": {
           "bgcolor": "white",
           "lakecolor": "white",
           "landcolor": "#E5ECF6",
           "showlakes": true,
           "showland": true,
           "subunitcolor": "white"
          },
          "hoverlabel": {
           "align": "left"
          },
          "hovermode": "closest",
          "mapbox": {
           "style": "light"
          },
          "paper_bgcolor": "white",
          "plot_bgcolor": "#E5ECF6",
          "polar": {
           "angularaxis": {
            "gridcolor": "white",
            "linecolor": "white",
            "ticks": ""
           },
           "bgcolor": "#E5ECF6",
           "radialaxis": {
            "gridcolor": "white",
            "linecolor": "white",
            "ticks": ""
           }
          },
          "scene": {
           "xaxis": {
            "backgroundcolor": "#E5ECF6",
            "gridcolor": "white",
            "gridwidth": 2,
            "linecolor": "white",
            "showbackground": true,
            "ticks": "",
            "zerolinecolor": "white"
           },
           "yaxis": {
            "backgroundcolor": "#E5ECF6",
            "gridcolor": "white",
            "gridwidth": 2,
            "linecolor": "white",
            "showbackground": true,
            "ticks": "",
            "zerolinecolor": "white"
           },
           "zaxis": {
            "backgroundcolor": "#E5ECF6",
            "gridcolor": "white",
            "gridwidth": 2,
            "linecolor": "white",
            "showbackground": true,
            "ticks": "",
            "zerolinecolor": "white"
           }
          },
          "shapedefaults": {
           "line": {
            "color": "#2a3f5f"
           }
          },
          "ternary": {
           "aaxis": {
            "gridcolor": "white",
            "linecolor": "white",
            "ticks": ""
           },
           "baxis": {
            "gridcolor": "white",
            "linecolor": "white",
            "ticks": ""
           },
           "bgcolor": "#E5ECF6",
           "caxis": {
            "gridcolor": "white",
            "linecolor": "white",
            "ticks": ""
           }
          },
          "title": {
           "x": 0.05
          },
          "xaxis": {
           "automargin": true,
           "gridcolor": "white",
           "linecolor": "white",
           "ticks": "",
           "title": {
            "standoff": 15
           },
           "zerolinecolor": "white",
           "zerolinewidth": 2
          },
          "yaxis": {
           "automargin": true,
           "gridcolor": "white",
           "linecolor": "white",
           "ticks": "",
           "title": {
            "standoff": 15
           },
           "zerolinecolor": "white",
           "zerolinewidth": 2
          }
         }
        },
        "title": {
         "text": "MIDs POSITIONLESS: Hierarchical Clustering - 7 Clusters"
        },
        "width": 1200,
        "xaxis": {
         "anchor": "y",
         "domain": [
          0,
          0.2888888888888889
         ],
         "tickvals": [
          1,
          2,
          3,
          4,
          5,
          6
         ]
        },
        "xaxis10": {
         "anchor": "y10",
         "domain": [
          0,
          0.2888888888888889
         ],
         "tickvals": [
          1,
          2,
          3,
          4,
          5,
          6
         ]
        },
        "xaxis11": {
         "anchor": "y11",
         "domain": [
          0.35555555555555557,
          0.6444444444444445
         ],
         "tickvals": [
          1,
          2,
          3,
          4,
          5,
          6
         ]
        },
        "xaxis12": {
         "anchor": "y12",
         "domain": [
          0.7111111111111111,
          1
         ],
         "tickvals": [
          1,
          2,
          3,
          4,
          5,
          6
         ]
        },
        "xaxis13": {
         "anchor": "y13",
         "domain": [
          0,
          0.2888888888888889
         ],
         "tickvals": [
          1,
          2,
          3,
          4,
          5,
          6
         ]
        },
        "xaxis14": {
         "anchor": "y14",
         "domain": [
          0.35555555555555557,
          0.6444444444444445
         ],
         "tickvals": [
          1,
          2,
          3,
          4,
          5,
          6
         ]
        },
        "xaxis15": {
         "anchor": "y15",
         "domain": [
          0.7111111111111111,
          1
         ],
         "tickvals": [
          1,
          2,
          3,
          4,
          5,
          6
         ]
        },
        "xaxis16": {
         "anchor": "y16",
         "domain": [
          0,
          0.2888888888888889
         ],
         "tickvals": [
          1,
          2,
          3,
          4,
          5,
          6
         ]
        },
        "xaxis17": {
         "anchor": "y17",
         "domain": [
          0.35555555555555557,
          0.6444444444444445
         ],
         "tickvals": [
          1,
          2,
          3,
          4,
          5,
          6
         ]
        },
        "xaxis18": {
         "anchor": "y18",
         "domain": [
          0.7111111111111111,
          1
         ],
         "tickvals": [
          1,
          2,
          3,
          4,
          5,
          6
         ]
        },
        "xaxis19": {
         "anchor": "y19",
         "domain": [
          0,
          0.2888888888888889
         ],
         "tickvals": [
          1,
          2,
          3,
          4,
          5,
          6
         ]
        },
        "xaxis2": {
         "anchor": "y2",
         "domain": [
          0.35555555555555557,
          0.6444444444444445
         ],
         "tickvals": [
          1,
          2,
          3,
          4,
          5,
          6
         ]
        },
        "xaxis20": {
         "anchor": "y20",
         "domain": [
          0.35555555555555557,
          0.6444444444444445
         ],
         "tickvals": [
          1,
          2,
          3,
          4,
          5,
          6
         ]
        },
        "xaxis21": {
         "anchor": "y21",
         "domain": [
          0.7111111111111111,
          1
         ],
         "tickvals": [
          1,
          2,
          3,
          4,
          5,
          6
         ]
        },
        "xaxis3": {
         "anchor": "y3",
         "domain": [
          0.7111111111111111,
          1
         ],
         "tickvals": [
          1,
          2,
          3,
          4,
          5,
          6
         ]
        },
        "xaxis4": {
         "anchor": "y4",
         "domain": [
          0,
          0.2888888888888889
         ],
         "tickvals": [
          1,
          2,
          3,
          4,
          5,
          6
         ]
        },
        "xaxis5": {
         "anchor": "y5",
         "domain": [
          0.35555555555555557,
          0.6444444444444445
         ],
         "tickvals": [
          1,
          2,
          3,
          4,
          5,
          6
         ]
        },
        "xaxis6": {
         "anchor": "y6",
         "domain": [
          0.7111111111111111,
          1
         ],
         "tickvals": [
          1,
          2,
          3,
          4,
          5,
          6
         ]
        },
        "xaxis7": {
         "anchor": "y7",
         "domain": [
          0,
          0.2888888888888889
         ],
         "tickvals": [
          1,
          2,
          3,
          4,
          5,
          6
         ]
        },
        "xaxis8": {
         "anchor": "y8",
         "domain": [
          0.35555555555555557,
          0.6444444444444445
         ],
         "tickvals": [
          1,
          2,
          3,
          4,
          5,
          6
         ]
        },
        "xaxis9": {
         "anchor": "y9",
         "domain": [
          0.7111111111111111,
          1
         ],
         "tickvals": [
          1,
          2,
          3,
          4,
          5,
          6
         ]
        },
        "yaxis": {
         "anchor": "x",
         "autorange": "reversed",
         "domain": [
          0.8785714285714286,
          1
         ]
        },
        "yaxis10": {
         "anchor": "x10",
         "autorange": "reversed",
         "domain": [
          0.4392857142857143,
          0.5607142857142857
         ]
        },
        "yaxis11": {
         "anchor": "x11",
         "autorange": "reversed",
         "domain": [
          0.4392857142857143,
          0.5607142857142857
         ]
        },
        "yaxis12": {
         "anchor": "x12",
         "autorange": "reversed",
         "domain": [
          0.4392857142857143,
          0.5607142857142857
         ]
        },
        "yaxis13": {
         "anchor": "x13",
         "autorange": "reversed",
         "domain": [
          0.29285714285714287,
          0.4142857142857143
         ]
        },
        "yaxis14": {
         "anchor": "x14",
         "autorange": "reversed",
         "domain": [
          0.29285714285714287,
          0.4142857142857143
         ]
        },
        "yaxis15": {
         "anchor": "x15",
         "autorange": "reversed",
         "domain": [
          0.29285714285714287,
          0.4142857142857143
         ]
        },
        "yaxis16": {
         "anchor": "x16",
         "autorange": "reversed",
         "domain": [
          0.14642857142857144,
          0.26785714285714285
         ]
        },
        "yaxis17": {
         "anchor": "x17",
         "autorange": "reversed",
         "domain": [
          0.14642857142857144,
          0.26785714285714285
         ]
        },
        "yaxis18": {
         "anchor": "x18",
         "autorange": "reversed",
         "domain": [
          0.14642857142857144,
          0.26785714285714285
         ]
        },
        "yaxis19": {
         "anchor": "x19",
         "autorange": "reversed",
         "domain": [
          0,
          0.12142857142857143
         ]
        },
        "yaxis2": {
         "anchor": "x2",
         "autorange": "reversed",
         "domain": [
          0.8785714285714286,
          1
         ]
        },
        "yaxis20": {
         "anchor": "x20",
         "autorange": "reversed",
         "domain": [
          0,
          0.12142857142857143
         ]
        },
        "yaxis21": {
         "anchor": "x21",
         "autorange": "reversed",
         "domain": [
          0,
          0.12142857142857143
         ]
        },
        "yaxis3": {
         "anchor": "x3",
         "autorange": "reversed",
         "domain": [
          0.8785714285714286,
          1
         ]
        },
        "yaxis4": {
         "anchor": "x4",
         "autorange": "reversed",
         "domain": [
          0.7321428571428571,
          0.8535714285714285
         ]
        },
        "yaxis5": {
         "anchor": "x5",
         "autorange": "reversed",
         "domain": [
          0.7321428571428571,
          0.8535714285714285
         ]
        },
        "yaxis6": {
         "anchor": "x6",
         "autorange": "reversed",
         "domain": [
          0.7321428571428571,
          0.8535714285714285
         ]
        },
        "yaxis7": {
         "anchor": "x7",
         "autorange": "reversed",
         "domain": [
          0.5857142857142857,
          0.7071428571428572
         ]
        },
        "yaxis8": {
         "anchor": "x8",
         "autorange": "reversed",
         "domain": [
          0.5857142857142857,
          0.7071428571428572
         ]
        },
        "yaxis9": {
         "anchor": "x9",
         "autorange": "reversed",
         "domain": [
          0.5857142857142857,
          0.7071428571428572
         ]
        }
       }
      }
     },
     "metadata": {},
     "output_type": "display_data"
    }
   ],
   "source": [
    "# heatmaps for hierarchcal clustering\n",
    "\n",
    "hierarchical_centroids = []\n",
    "for group in memberships:\n",
    "    hierarchical_centroids.append(list(count_table0[group].mean(axis=1)))\n",
    "\n",
    "# creates the heatmaps for the hierarchical clustering\n",
    "\n",
    "fig = create_centroid_heatmaps(hierarchical_centroids)\n",
    "fig.update_layout(title=f'MIDs POSITIONLESS: Hierarchical Clustering - {len(memberships)} Clusters')\n",
    "fig.show()"
   ]
  }
 ],
 "metadata": {
  "kernelspec": {
   "display_name": "Python 3",
   "language": "python",
   "name": "python3"
  },
  "language_info": {
   "codemirror_mode": {
    "name": "ipython",
    "version": 3
   },
   "file_extension": ".py",
   "mimetype": "text/x-python",
   "name": "python",
   "nbconvert_exporter": "python",
   "pygments_lexer": "ipython3",
   "version": "3.12.3"
  }
 },
 "nbformat": 4,
 "nbformat_minor": 2
}
