{
 "cells": [
  {
   "cell_type": "code",
   "execution_count": 2,
   "metadata": {},
   "outputs": [],
   "source": [
    "import sys\n",
    "sys.path.append(\"..\")\n",
    "\n",
    "import pickle\n",
    "import multiprocessing as mp\n",
    "from dynetworkx import dynetworkx as dnx\n",
    "import pandas as pd\n",
    "from plotly.subplots import make_subplots\n",
    "import plotly.graph_objects as go\n",
    "import networkx as nx\n",
    "import matplotlib.pyplot as plt\n",
    "from scipy.cluster.hierarchy import dendrogram, linkage, fcluster"
   ]
  },
  {
   "cell_type": "code",
   "execution_count": 3,
   "metadata": {},
   "outputs": [],
   "source": [
    "# gets the graph dataset\n",
    "\n",
    "with open('data/graphs.pickle','rb') as f:\n",
    "    graphs = pickle.load(f)\n",
    "\n",
    "# This list all of the edge orders for the motifs in the table above\n",
    "motifs = [[((1,2),(3,2),(1,2)), ((1,2),(3,2),(2,1)), ((1,2),(3,2),(1,3)), ((1,2),(3,2),(3,1)), ((1,2),(3,2),(2,3)), ((1,2),(3,2),(3,2))],\n",
    "          [((1,2),(2,3),(1,2)), ((1,2),(2,3),(2,1)), ((1,2),(2,3),(1,3)), ((1,2),(2,3),(3,1)), ((1,2),(2,3),(2,3)), ((1,2),(2,3),(3,2))],\n",
    "          [((1,2),(3,1),(1,2)), ((1,2),(3,1),(2,1)), ((1,2),(3,1),(1,3)), ((1,2),(3,1),(3,1)), ((1,2),(3,1),(2,3)), ((1,2),(3,1),(3,2))],\n",
    "          [((1,2),(1,3),(1,2)), ((1,2),(1,3),(2,1)), ((1,2),(1,3),(1,3)), ((1,2),(1,3),(3,1)), ((1,2),(1,3),(2,3)), ((1,2),(1,3),(3,2))],\n",
    "          [((1,2),(2,1),(1,2)), ((1,2),(2,1),(2,1)), ((1,2),(2,1),(1,3)), ((1,2),(2,1),(3,1)), ((1,2),(2,1),(2,3)), ((1,2),(2,1),(3,2))],\n",
    "          [((1,2),(1,2),(1,2)), ((1,2),(1,2),(2,1)), ((1,2),(1,2),(1,3)), ((1,2),(1,2),(3,1)), ((1,2),(1,2),(2,3)), ((1,2),(1,2),(3,2))]]\n",
    "\n",
    "mot = [ seq for row in motifs for seq in row]"
   ]
  },
  {
   "cell_type": "code",
   "execution_count": 4,
   "metadata": {},
   "outputs": [
    {
     "name": "stdout",
     "output_type": "stream",
     "text": [
      "{'FRN', 'CHN', 'JPN', 'RWA', 'UKR', 'CAN', 'CAM', 'MOR', 'AUL', 'YEM', 'VTM', 'ITA', 'MYA', 'DJI', 'NEP', 'UZB', 'KEN', 'BEL', 'EGY', 'GRC', 'HAI', 'ECU', 'SIE', 'LBR', 'GRG', 'EST', 'TAJ', 'ALB', 'SLO', 'BUL', 'TUN', 'CYP', 'PAN', 'PHI', 'SSD', 'IRQ', 'UGA', 'PRK', 'SWD', 'TAW', 'GUY', 'LEB', 'SYR', 'ICE', 'IRN', 'INS', 'IND', 'FIN', 'SAU', 'DRC', 'HON', 'COS', 'SUR', 'VEN', 'KUW', 'NOR', 'GMY', 'KYR', 'AFG', 'NIC', 'DEN', 'GUI', 'ANG', 'LIT', 'CRO', 'TUR', 'LUX', 'JOR', 'SOM', 'MAL', 'CHA', 'MAC', 'ZIM', 'UAE', 'ARM', 'COL', 'SUD', 'ERI', 'LAT', 'POR', 'RUM', 'SLV', 'BUI', 'PER', 'THI', 'ISR', 'CZR', 'ETH', 'BOS', 'YUG', 'RUS', 'UKG', 'TAZ', 'MLD', 'SPN', 'CDI', 'HUN', 'ZAM', 'NTH', 'AZE', 'USA', 'BNG', 'DRV', 'LIB', 'ROK', 'ARG', 'POL', 'PAK'}\n",
      "108\n"
     ]
    }
   ],
   "source": [
    "# gets the nodes that are strongly connected, and graphs them\n",
    "\n",
    "graph_0_networkx = graphs[0].to_networkx_graph()\n",
    "graph_0_strong_conn= nx.strongly_connected_components(graph_0_networkx)\n",
    "\n",
    "def get_strongly_connected(graph):\n",
    "    for i in graph:\n",
    "        yield i\n",
    "\n",
    "len_longest = 0\n",
    "longest = 0\n",
    "for i in get_strongly_connected(graph_0_strong_conn):\n",
    "    if len(i) > len_longest:\n",
    "        longest = i\n",
    "        len_longest = len(longest)\n",
    "print(longest)\n",
    "print(len_longest)\n",
    "\n",
    "graph_0_strong_conn = graph_0_networkx.subgraph(longest)"
   ]
  },
  {
   "cell_type": "code",
   "execution_count": 5,
   "metadata": {},
   "outputs": [],
   "source": [
    "# edits the 0th graph in graphs to remove the non-strongly connected nodes\n",
    "\n",
    "for edge in graphs[0].edges():\n",
    "    if edge[0] not in longest or edge[1] not in longest:\n",
    "        graphs[0].remove_edge(edge[0], edge[1])"
   ]
  },
  {
   "cell_type": "code",
   "execution_count": 6,
   "metadata": {},
   "outputs": [],
   "source": [
    "# stores all of the (pandas dataframes that tells you how many times each node appears in each motif) for each of the (10 graphs) in count_table\n",
    "\n",
    "table = list()\n",
    "\n",
    "for g in graphs:\n",
    "    \n",
    "    pool = mp.Pool(mp.cpu_count())\n",
    "    results = pool.starmap_async(dnx.count_temporal_motif, [(g, seq, 7*86400) for seq in mot]).get()\n",
    "    pool.close()\n",
    "    \n",
    "    count = list()\n",
    "    for d in results:\n",
    "        #count.append(d) # if using older version of dynetworkx\n",
    "        count.append(d[2])\n",
    "    table.append(count)\n",
    "\n",
    "    break # we only use the first graph\n",
    "    \n",
    "\n",
    "count_table = pd.DataFrame(table, columns=mot)"
   ]
  },
  {
   "cell_type": "code",
   "execution_count": 7,
   "metadata": {},
   "outputs": [
    {
     "name": "stderr",
     "output_type": "stream",
     "text": [
      "/var/folders/wr/1ygr91094fx7s8n65by5s4c40000gn/T/ipykernel_34001/3840050657.py:15: FutureWarning: Series.__getitem__ treating keys as positions is deprecated. In a future version, integer keys will always be treated as labels (consistent with DataFrame behavior). To access a value by position, use `ser.iloc[pos]`\n",
      "  countries += list(df.iloc[i][k].index)\n",
      "/var/folders/wr/1ygr91094fx7s8n65by5s4c40000gn/T/ipykernel_34001/3840050657.py:31: FutureWarning: ChainedAssignmentError: behaviour will change in pandas 3.0!\n",
      "You are setting values through chained assignment. Currently this works in certain cases, but when using Copy-on-Write (which will become the default behaviour in pandas 3.0) this will never work to update the original DataFrame or Series, because the intermediate object on which we are setting values will behave as a copy.\n",
      "A typical example is when you are setting values in a column of a DataFrame, like:\n",
      "\n",
      "df[\"col\"][row_indexer] = value\n",
      "\n",
      "Use `df.loc[row_indexer, \"col\"] = values` instead, to perform the assignment in a single step and ensure this keeps updating the original `df`.\n",
      "\n",
      "See the caveats in the documentation: https://pandas.pydata.org/pandas-docs/stable/user_guide/indexing.html#returning-a-view-versus-a-copy\n",
      "\n",
      "  dataset_df[country].loc[(motif, pos)] = df.loc[current_dataset][motif].loc[country][pos]\n"
     ]
    }
   ],
   "source": [
    "df = count_table # saves count_table as df so we can manipulate count_table but also retain the original copy\n",
    "\n",
    "# count_table_multiindex is a list that stores each multiindex dataframe for each of the 10 datasets\n",
    "count_table_multiindex = []\n",
    "\n",
    "for current_dataset in range(len(df.index)):\n",
    "\n",
    "    # there are three (or two) positions in each motif\n",
    "    positions = [1, 2, 3]\n",
    "\n",
    "    # generates list of all countries by compiling all countries in all 10 datasets in all 36 motifs\n",
    "    countries = []\n",
    "    for i in range(len(df.index)):\n",
    "        for k in range(len(df.columns)):\n",
    "            countries += list(df.iloc[i][k].index)\n",
    "    countries = sorted(list(set(countries)))\n",
    "\n",
    "    # generates the index for the multiindex by taking the product of mot and positions\n",
    "    multiindex_vals = pd.MultiIndex.from_product([mot, positions], names=[\"motifs\", \"positions\"])\n",
    "\n",
    "    # creates the dataframe with indices from multiindex_vals and columns from countries\n",
    "    dataset_df = pd.DataFrame(columns=countries, index=multiindex_vals)\n",
    "\n",
    "    # iterates through all positions in the multiindex dataframe (through all motifs, position in each motif, and each country) and assigns the appropriate value based on df\n",
    "    for motif in mot:\n",
    "        for pos in positions:\n",
    "            for country in countries:\n",
    "\n",
    "                # checks if country and position is present in df and then assigns it\n",
    "                if country in df.loc[current_dataset][motif].index and pos in df.loc[current_dataset][motif].columns:\n",
    "                    dataset_df[country].loc[(motif, pos)] = df.loc[current_dataset][motif].loc[country][pos]\n",
    "\n",
    "    # adds the dataframe to the list\n",
    "    count_table_multiindex.append(dataset_df)"
   ]
  },
  {
   "cell_type": "code",
   "execution_count": 8,
   "metadata": {},
   "outputs": [
    {
     "name": "stderr",
     "output_type": "stream",
     "text": [
      "/var/folders/wr/1ygr91094fx7s8n65by5s4c40000gn/T/ipykernel_34001/845856062.py:5: FutureWarning: Downcasting object dtype arrays on .fillna, .ffill, .bfill is deprecated and will change in a future version. Call result.infer_objects(copy=False) instead. To opt-in to the future behavior, set `pd.set_option('future.no_silent_downcasting', True)`\n",
      "  count_table0 = count_table0.fillna(0)\n"
     ]
    }
   ],
   "source": [
    "# changes all 'nan' to 0, normalizes vectors, deletes countries with too few edges\n",
    "\n",
    "count_table0 = count_table_multiindex[0].copy()\n",
    "\n",
    "count_table0 = count_table0.fillna(0)\n",
    "\n",
    "countries = list(count_table0.columns)\n",
    "\n",
    "# remove countries with less than some number of edges; normalization\n",
    "for column in count_table0.columns:\n",
    "    sum = count_table0[column].sum()\n",
    "    if sum > 10:\n",
    "        count_table0[column] = count_table0[column].apply(lambda x: x / sum) # normalize\n",
    "    else:\n",
    "        count_table0 = count_table0.drop(column, axis=1)\n",
    "\n",
    "# gets updated list of countries in dataframe\n",
    "countries = list(count_table0.columns)"
   ]
  },
  {
   "cell_type": "code",
   "execution_count": 9,
   "metadata": {},
   "outputs": [
    {
     "name": "stdout",
     "output_type": "stream",
     "text": [
      "{0: 'AFG', 1: 'ALB', 2: 'ARG', 3: 'ARM', 4: 'AUL', 5: 'AZE', 6: 'BEL', 7: 'BNG', 8: 'BOS', 9: 'BUL', 10: 'CAM', 11: 'CAN', 12: 'CHN', 13: 'CRO', 14: 'CYP', 15: 'CZR', 16: 'DEN', 17: 'DRC', 18: 'DRV', 19: 'ECU', 20: 'ERI', 21: 'EST', 22: 'FIN', 23: 'FRN', 24: 'GMY', 25: 'GRC', 26: 'GRG', 27: 'HAI', 28: 'HUN', 29: 'ICE', 30: 'IND', 31: 'IRN', 32: 'IRQ', 33: 'ISR', 34: 'ITA', 35: 'JOR', 36: 'JPN', 37: 'KUW', 38: 'KYR', 39: 'LEB', 40: 'LIB', 41: 'LIT', 42: 'LUX', 43: 'MAC', 44: 'MOR', 45: 'MYA', 46: 'NOR', 47: 'NTH', 48: 'PAK', 49: 'PER', 50: 'PHI', 51: 'POL', 52: 'POR', 53: 'PRK', 54: 'ROK', 55: 'RUS', 56: 'RWA', 57: 'SAU', 58: 'SLO', 59: 'SLV', 60: 'SPN', 61: 'SUD', 62: 'SWD', 63: 'SYR', 64: 'TAJ', 65: 'TAW', 66: 'THI', 67: 'TUR', 68: 'UAE', 69: 'UGA', 70: 'UKG', 71: 'UKR', 72: 'USA', 73: 'UZB', 74: 'YEM', 75: 'YUG'}\n",
      "['AFG', 'ALB', 'ARG', 'ARM', 'AUL', 'AZE', 'BEL', 'BNG', 'BOS', 'BUL', 'CAM', 'CAN', 'CHN', 'CRO', 'CYP', 'CZR', 'DEN', 'DRC', 'DRV', 'ECU', 'ERI', 'EST', 'FIN', 'FRN', 'GMY', 'GRC', 'GRG', 'HAI', 'HUN', 'ICE', 'IND', 'IRN', 'IRQ', 'ISR', 'ITA', 'JOR', 'JPN', 'KUW', 'KYR', 'LEB', 'LIB', 'LIT', 'LUX', 'MAC', 'MOR', 'MYA', 'NOR', 'NTH', 'PAK', 'PER', 'PHI', 'POL', 'POR', 'PRK', 'ROK', 'RUS', 'RWA', 'SAU', 'SLO', 'SLV', 'SPN', 'SUD', 'SWD', 'SYR', 'TAJ', 'TAW', 'THI', 'TUR', 'UAE', 'UGA', 'UKG', 'UKR', 'USA', 'UZB', 'YEM', 'YUG']\n",
      "[(((1, 2), (3, 2), (1, 2)), 1), (((1, 2), (3, 2), (1, 2)), 2), (((1, 2), (3, 2), (1, 2)), 3), (((1, 2), (3, 2), (2, 1)), 1), (((1, 2), (3, 2), (2, 1)), 2), (((1, 2), (3, 2), (2, 1)), 3), (((1, 2), (3, 2), (1, 3)), 1), (((1, 2), (3, 2), (1, 3)), 2), (((1, 2), (3, 2), (1, 3)), 3), (((1, 2), (3, 2), (3, 1)), 1), (((1, 2), (3, 2), (3, 1)), 2), (((1, 2), (3, 2), (3, 1)), 3), (((1, 2), (3, 2), (2, 3)), 1), (((1, 2), (3, 2), (2, 3)), 2), (((1, 2), (3, 2), (2, 3)), 3), (((1, 2), (3, 2), (3, 2)), 1), (((1, 2), (3, 2), (3, 2)), 2), (((1, 2), (3, 2), (3, 2)), 3), (((1, 2), (2, 3), (1, 2)), 1), (((1, 2), (2, 3), (1, 2)), 2), (((1, 2), (2, 3), (1, 2)), 3), (((1, 2), (2, 3), (2, 1)), 1), (((1, 2), (2, 3), (2, 1)), 2), (((1, 2), (2, 3), (2, 1)), 3), (((1, 2), (2, 3), (1, 3)), 1), (((1, 2), (2, 3), (1, 3)), 2), (((1, 2), (2, 3), (1, 3)), 3), (((1, 2), (2, 3), (3, 1)), 1), (((1, 2), (2, 3), (3, 1)), 2), (((1, 2), (2, 3), (3, 1)), 3), (((1, 2), (2, 3), (2, 3)), 1), (((1, 2), (2, 3), (2, 3)), 2), (((1, 2), (2, 3), (2, 3)), 3), (((1, 2), (2, 3), (3, 2)), 1), (((1, 2), (2, 3), (3, 2)), 2), (((1, 2), (2, 3), (3, 2)), 3), (((1, 2), (3, 1), (1, 2)), 1), (((1, 2), (3, 1), (1, 2)), 2), (((1, 2), (3, 1), (1, 2)), 3), (((1, 2), (3, 1), (2, 1)), 1), (((1, 2), (3, 1), (2, 1)), 2), (((1, 2), (3, 1), (2, 1)), 3), (((1, 2), (3, 1), (1, 3)), 1), (((1, 2), (3, 1), (1, 3)), 2), (((1, 2), (3, 1), (1, 3)), 3), (((1, 2), (3, 1), (3, 1)), 1), (((1, 2), (3, 1), (3, 1)), 2), (((1, 2), (3, 1), (3, 1)), 3), (((1, 2), (3, 1), (2, 3)), 1), (((1, 2), (3, 1), (2, 3)), 2), (((1, 2), (3, 1), (2, 3)), 3), (((1, 2), (3, 1), (3, 2)), 1), (((1, 2), (3, 1), (3, 2)), 2), (((1, 2), (3, 1), (3, 2)), 3), (((1, 2), (1, 3), (1, 2)), 1), (((1, 2), (1, 3), (1, 2)), 2), (((1, 2), (1, 3), (1, 2)), 3), (((1, 2), (1, 3), (2, 1)), 1), (((1, 2), (1, 3), (2, 1)), 2), (((1, 2), (1, 3), (2, 1)), 3), (((1, 2), (1, 3), (1, 3)), 1), (((1, 2), (1, 3), (1, 3)), 2), (((1, 2), (1, 3), (1, 3)), 3), (((1, 2), (1, 3), (3, 1)), 1), (((1, 2), (1, 3), (3, 1)), 2), (((1, 2), (1, 3), (3, 1)), 3), (((1, 2), (1, 3), (2, 3)), 1), (((1, 2), (1, 3), (2, 3)), 2), (((1, 2), (1, 3), (2, 3)), 3), (((1, 2), (1, 3), (3, 2)), 1), (((1, 2), (1, 3), (3, 2)), 2), (((1, 2), (1, 3), (3, 2)), 3), (((1, 2), (2, 1), (1, 2)), 1), (((1, 2), (2, 1), (1, 2)), 2), (((1, 2), (2, 1), (1, 2)), 3), (((1, 2), (2, 1), (2, 1)), 1), (((1, 2), (2, 1), (2, 1)), 2), (((1, 2), (2, 1), (2, 1)), 3), (((1, 2), (2, 1), (1, 3)), 1), (((1, 2), (2, 1), (1, 3)), 2), (((1, 2), (2, 1), (1, 3)), 3), (((1, 2), (2, 1), (3, 1)), 1), (((1, 2), (2, 1), (3, 1)), 2), (((1, 2), (2, 1), (3, 1)), 3), (((1, 2), (2, 1), (2, 3)), 1), (((1, 2), (2, 1), (2, 3)), 2), (((1, 2), (2, 1), (2, 3)), 3), (((1, 2), (2, 1), (3, 2)), 1), (((1, 2), (2, 1), (3, 2)), 2), (((1, 2), (2, 1), (3, 2)), 3), (((1, 2), (1, 2), (1, 2)), 1), (((1, 2), (1, 2), (1, 2)), 2), (((1, 2), (1, 2), (1, 2)), 3), (((1, 2), (1, 2), (2, 1)), 1), (((1, 2), (1, 2), (2, 1)), 2), (((1, 2), (1, 2), (2, 1)), 3), (((1, 2), (1, 2), (1, 3)), 1), (((1, 2), (1, 2), (1, 3)), 2), (((1, 2), (1, 2), (1, 3)), 3), (((1, 2), (1, 2), (3, 1)), 1), (((1, 2), (1, 2), (3, 1)), 2), (((1, 2), (1, 2), (3, 1)), 3), (((1, 2), (1, 2), (2, 3)), 1), (((1, 2), (1, 2), (2, 3)), 2), (((1, 2), (1, 2), (2, 3)), 3), (((1, 2), (1, 2), (3, 2)), 1), (((1, 2), (1, 2), (3, 2)), 2), (((1, 2), (1, 2), (3, 2)), 3)]\n"
     ]
    }
   ],
   "source": [
    "# list of countries\n",
    "list_of_countries = list(count_table0.columns)\n",
    "\n",
    "# conversion from country number to country name\n",
    "dict_of_countries = {}\n",
    "for i in range(len(list_of_countries)):\n",
    "    dict_of_countries[i] = list_of_countries[i]\n",
    "\n",
    "list_of_motif_pos = list(multiindex_vals)\n",
    "\n",
    "print(dict_of_countries)\n",
    "print(list_of_countries)\n",
    "print(list_of_motif_pos)"
   ]
  },
  {
   "cell_type": "code",
   "execution_count": 10,
   "metadata": {},
   "outputs": [],
   "source": [
    "# appends a heatmap to fig\n",
    "# spacing optimized for 5 heatmaps (splitting the 10 centroids into 5 and 5)\n",
    "\n",
    "def insert_heatmap(fig, data, max_val, row, col):\n",
    "    fig.append_trace(go.Heatmap(\n",
    "                     z=data,\n",
    "                     x=[1,2,3,4,5,6],\n",
    "                     y=[6,5,4,3,2,1],\n",
    "                     #colorscale='greens',\n",
    "                     #colorbar=dict(x=0.21),\n",
    "                     zmax=1, #max_val,\n",
    "                     zmid=0.5,\n",
    "                     zmin=0,\n",
    "                     #coloraxis='coloraxis',\n",
    "                     colorscale = [[0, 'rgb(256,256,256)'], [0.25, 'rgb(198,233,191)'], [0.5, 'rgb(116,196,118)'], [0.75, 'rgb(32,137,68)'], [1, 'rgb(0,68,27)']],\n",
    "                  ),\n",
    "                  row, col)\n",
    "    \n",
    "def create_centroid_heatmaps(centroids, first_cluster=0):\n",
    "    num_clusters = len(centroids)\n",
    "\n",
    "    all_the_data = [] # stores all of the data for the heatmaps: list of n centroids, each centroid has list of 3 positions, each position is a 6x6 list\n",
    "\n",
    "    for centroid in range(num_clusters):\n",
    "        # fetches the data for each position\n",
    "        pos1 = []\n",
    "        pos2 = []\n",
    "        pos3 = []\n",
    "        for i in range(36):\n",
    "            pos1.append(float(centroids[centroid][3 * i]))\n",
    "            pos2.append(float(centroids[centroid][3 * i + 1]))\n",
    "            pos3.append(float(centroids[centroid][3 * i + 2]))\n",
    "\n",
    "        # adjusts the data so it fits into the 6x6 heatmaps\n",
    "        pos1_adjusted = []\n",
    "        pos2_adjusted = []\n",
    "        pos3_adjusted = []\n",
    "        for i in range(6):\n",
    "            i = 5-i\n",
    "            pos1_adjusted.append(pos1[i*6:i*6+6])\n",
    "            pos2_adjusted.append(pos2[i*6:i*6+6])\n",
    "            pos3_adjusted.append(pos3[i*6:i*6+6])\n",
    "\n",
    "        data = [pos1_adjusted, pos2_adjusted, pos3_adjusted]\n",
    "        all_the_data.append(data)\n",
    "            \n",
    "    # makes the subplot titles\n",
    "    subplot_titles = []\n",
    "    for i in range(num_clusters):\n",
    "        subplot_titles.append('Centroid ' + str(i+first_cluster) + ', Position 1')\n",
    "        subplot_titles.append('Centroid ' + str(i+first_cluster) + ', Position 2')\n",
    "        subplot_titles.append('Centroid ' + str(i+first_cluster) + ', Position 3')\n",
    "\n",
    "    # makes the fig\n",
    "    fig = make_subplots(rows=num_clusters, cols=3, subplot_titles=subplot_titles, vertical_spacing=0.04)\n",
    "\n",
    "    # inserts heatmaps into fig\n",
    "    for k in range(len(all_the_data)):\n",
    "\n",
    "        # calculates the maximum value of all the data\n",
    "        max_val = 0\n",
    "        for i in range(len(all_the_data[k])):\n",
    "            for j in range(len(all_the_data[k][i])):\n",
    "                max_val = max([max_val] + all_the_data[k][i][j])\n",
    "\n",
    "        # inserts heatmaps\n",
    "        for i in range(len(all_the_data[k])):\n",
    "            insert_heatmap(fig, all_the_data[k][i], max_val, k+1, i+1)\n",
    "\n",
    "    fig.update_layout(title=f'Centroid Data - {num_clusters} Clusters',\n",
    "                    height=380*num_clusters,\n",
    "                    width=1200,\n",
    "                    #coloraxis = {'colorscale':'greens'},\n",
    "                    )\n",
    "    fig.update_yaxes(autorange=\"reversed\")\n",
    "    fig.update_xaxes(tickvals = [1,2,3,4,5,6])\n",
    "    \n",
    "    return fig"
   ]
  },
  {
   "cell_type": "code",
   "execution_count": 11,
   "metadata": {},
   "outputs": [],
   "source": [
    "# dictionary that converts the COW country code into the long name\n",
    "cow_country_codes = pd.read_csv(\"data/COW-country-codes.csv\")\n",
    "cow_country_codes = cow_country_codes.set_index('COWcode')['name'].T.to_dict()\n",
    "\n",
    "list_of_countries_spelled = []\n",
    "\n",
    "for i in range(len(list(count_table0.columns))):\n",
    "    country = count_table0.columns[i]\n",
    "    list_of_countries_spelled.append(cow_country_codes[country])"
   ]
  },
  {
   "cell_type": "code",
   "execution_count": 12,
   "metadata": {},
   "outputs": [
    {
     "data": {
      "image/png": "[encoded data removed]",
      "text/plain": [
       "<Figure size 1800x900 with 1 Axes>"
      ]
     },
     "metadata": {},
     "output_type": "display_data"
    }
   ],
   "source": [
    "# hierarchical clustering\n",
    "# https://docs.scipy.org/doc/scipy/reference/generated/scipy.cluster.hierarchy.linkage.html\n",
    "# https://stackoverflow.com/questions/9838861/scipy-linkage-format\n",
    "# https://python-graph-gallery.com/401-customised-dendrogram/\n",
    "\n",
    "method = 'ward'\n",
    "Z = linkage(count_table0.T, method=method)\n",
    "\n",
    "plt.figure(figsize=(18, 9))\n",
    "dendrogram(Z, labels=list_of_countries_spelled, color_threshold=0.6)#, labels=list(count_table[0].columns))\n",
    "plt.title(f'MIDs POSITIONED: Dendrogram for Hierarchical Clustering with [{method}] Linkage Method')\n",
    "plt.xlabel('Country')\n",
    "plt.ylabel('Distance')\n",
    "plt.show()\n"
   ]
  },
  {
   "cell_type": "code",
   "execution_count": 13,
   "metadata": {},
   "outputs": [
    {
     "name": "stdout",
     "output_type": "stream",
     "text": [
      "[10 10  2  5 10  3  1 10  5  2  9  1 10 10  3  1  1 10 10  9  6  3  3  1\n",
      "  1  1  3  4  1  1 10 10 10  6  1  2 10 10  1  4  8  3  1  7  3 10  1  1\n",
      " 10  9 10  1  1 10 10 10 10  7  2  2  1 10  3 10 10 10  9  1  3 10  1  3\n",
      "  1 10  9  8]\n",
      "Cluster 0: ['BEL', 'CAN', 'CZR', 'DEN', 'FRN', 'GMY', 'GRC', 'HUN', 'ICE', 'ITA', 'KYR', 'LUX', 'NOR', 'NTH', 'POL', 'POR', 'SPN', 'TUR', 'UKG', 'USA']\n",
      "Cluster 1: ['ARG', 'BUL', 'JOR', 'SLO', 'SLV']\n",
      "Cluster 2: ['AZE', 'CYP', 'EST', 'FIN', 'GRG', 'LIT', 'MOR', 'SWD', 'UAE', 'UKR']\n",
      "Cluster 3: ['HAI', 'LEB']\n",
      "Cluster 4: ['ARM', 'BOS']\n",
      "Cluster 5: ['ERI', 'ISR']\n",
      "Cluster 6: ['MAC', 'SAU']\n",
      "Cluster 7: ['LIB', 'YUG']\n",
      "Cluster 8: ['CAM', 'ECU', 'PER', 'THI', 'YEM']\n",
      "Cluster 9: ['AFG', 'ALB', 'AUL', 'BNG', 'CHN', 'CRO', 'DRC', 'DRV', 'IND', 'IRN', 'IRQ', 'JPN', 'KUW', 'MYA', 'PAK', 'PHI', 'PRK', 'ROK', 'RUS', 'RWA', 'SUD', 'SYR', 'TAJ', 'TAW', 'UGA', 'UZB']\n"
     ]
    }
   ],
   "source": [
    "# split into 10 clusters\n",
    "\n",
    "dendrogram_clustering = fcluster(Z, t=10, criterion='maxclust')\n",
    "print(dendrogram_clustering)\n",
    "\n",
    "memberships = [[] for _ in range(10)]\n",
    "for i in range(len(list_of_countries)):\n",
    "    memberships[int(dendrogram_clustering[i])-1].append(list_of_countries[i])\n",
    "\n",
    "for i in range(len(memberships)):\n",
    "    print(f'Cluster {i}: {memberships[i]}')"
   ]
  },
  {
   "cell_type": "code",
   "execution_count": 14,
   "metadata": {},
   "outputs": [],
   "source": [
    "# heatmaps for hierarchcal clustering\n",
    "\n",
    "hierarchical_centroids = []\n",
    "for group in memberships:\n",
    "    hierarchical_centroids.append(list(count_table0[group].mean(axis=1)))"
   ]
  },
  {
   "cell_type": "code",
   "execution_count": 15,
   "metadata": {},
   "outputs": [
    {
     "data": {
      "application/vnd.plotly.v1+json": {
       "config": {
        "plotlyServerURL": "https://plot.ly"
       },
       "data": [
        {
         "colorscale": [
          [
           0,
           "rgb(256,256,256)"
          ],
          [
           0.25,
           "rgb(198,233,191)"
          ],
          [
           0.5,
           "rgb(116,196,118)"
          ],
          [
           0.75,
           "rgb(32,137,68)"
          ],
          [
           1,
           "rgb(0,68,27)"
          ]
         ],
         "type": "heatmap",
         "x": [
          1,
          2,
          3,
          4,
          5,
          6
         ],
         "xaxis": "x",
         "y": [
          6,
          5,
          4,
          3,
          2,
          1
         ],
         "yaxis": "y",
         "z": [
          [
           0.007285420188880007,
           0.0012087756470662275,
           0.0018088158382277835,
           0.0002804085295386869,
           0.006544010582921968,
           0.1082315790214043
          ],
          [
           0.0013871514656412693,
           0.000841620066120823,
           0.0003907687659175838,
           0.00009577147161590479,
           0.0006032176737773585,
           0.00096159116333317
          ],
          [
           0.0015596526445194614,
           0.0003138509414356559,
           0.0014289419524763573,
           0.00047930296961620566,
           0.0002851036713673728,
           0.0001740082685242023
          ],
          [
           0.0003245939597626621,
           0.00009863081156204585,
           0.00043312987567053406,
           0.0001280364748424051,
           0,
           0.0001740082685242023
          ],
          [
           0.0037009858653870354,
           0.000462384955002575,
           0.00024528418636604544,
           0,
           0.0014249904608327436,
           0.0032498692413425257
          ],
          [
           0.16690644342276625,
           0.0011336069389160787,
           0.00024628207426741043,
           0.0002900137808736705,
           0.007155849921844757,
           0.11936471370049148
          ]
         ],
         "zmax": 1,
         "zmid": 0.5,
         "zmin": 0
        },
        {
         "colorscale": [
          [
           0,
           "rgb(256,256,256)"
          ],
          [
           0.25,
           "rgb(198,233,191)"
          ],
          [
           0.5,
           "rgb(116,196,118)"
          ],
          [
           0.75,
           "rgb(32,137,68)"
          ],
          [
           1,
           "rgb(0,68,27)"
          ]
         ],
         "type": "heatmap",
         "x": [
          1,
          2,
          3,
          4,
          5,
          6
         ],
         "xaxis": "x2",
         "y": [
          6,
          5,
          4,
          3,
          2,
          1
         ],
         "yaxis": "y2",
         "z": [
          [
           0.0007290329157324711,
           0.0009310317843325337,
           0.007469947615351259,
           0.00039452173881743643,
           0.00011355045759631937,
           0.000029405663280359267
          ],
          [
           0.0011045915276467087,
           0.001450578313544206,
           0.0005832994762020041,
           0.0012688123308517841,
           0.000394286499075801,
           0.00007242566758235968
          ],
          [
           0.019532305882119724,
           0.000591281474606811,
           0.009831233006271183,
           0.00019568631003278632,
           0.00029492389037996815,
           0
          ],
          [
           0.0003864345741704796,
           0.0015383129913820463,
           0.00018895188005546378,
           0.0006393271154308168,
           0,
           0
          ],
          [
           0.00013506045974731959,
           0.0003175699748577476,
           0.00024773924111919435,
           0,
           0.0003277944790633352,
           0.00008501647054040468
          ],
          [
           0.000039819485001327314,
           0.00007174330887329559,
           0,
           0,
           0.000050574486076827416,
           0
          ]
         ],
         "zmax": 1,
         "zmid": 0.5,
         "zmin": 0
        },
        {
         "colorscale": [
          [
           0,
           "rgb(256,256,256)"
          ],
          [
           0.25,
           "rgb(198,233,191)"
          ],
          [
           0.5,
           "rgb(116,196,118)"
          ],
          [
           0.75,
           "rgb(32,137,68)"
          ],
          [
           1,
           "rgb(0,68,27)"
          ]
         ],
         "type": "heatmap",
         "x": [
          1,
          2,
          3,
          4,
          5,
          6
         ],
         "xaxis": "x3",
         "y": [
          6,
          5,
          4,
          3,
          2,
          1
         ],
         "yaxis": "y3",
         "z": [
          [
           0,
           0,
           0.010254200228036216,
           0.0018977726665029972,
           0.000703157178449921,
           0.1398985600996774
          ],
          [
           0,
           0,
           0.00009703411405865,
           0.00408619322750529,
           0.0004980981333364533,
           0.003726786951453589
          ],
          [
           0.015407134597929936,
           0.0003711644454413991,
           0.008100691804018855,
           0.0007509306716218479,
           0,
           0.0001740082685242023
          ],
          [
           0.002588221246782824,
           0.0034450048424577973,
           0.000493801318049831,
           0.0020984023215894236,
           0,
           0.0001740082685242023
          ],
          [
           0.0007941192793087136,
           0.0003084223178079396,
           0,
           0,
           0.00017677515903668766,
           0.0011608524329274523
          ],
          [
           0.19379652057048974,
           0.007833460556631155,
           0.00027574273130519646,
           0.00043578637562585715,
           0.0011620722224330799,
           0.11105700414989457
          ]
         ],
         "zmax": 1,
         "zmid": 0.5,
         "zmin": 0
        },
        {
         "colorscale": [
          [
           0,
           "rgb(256,256,256)"
          ],
          [
           0.25,
           "rgb(198,233,191)"
          ],
          [
           0.5,
           "rgb(116,196,118)"
          ],
          [
           0.75,
           "rgb(32,137,68)"
          ],
          [
           1,
           "rgb(0,68,27)"
          ]
         ],
         "type": "heatmap",
         "x": [
          1,
          2,
          3,
          4,
          5,
          6
         ],
         "xaxis": "x4",
         "y": [
          6,
          5,
          4,
          3,
          2,
          1
         ],
         "yaxis": "y4",
         "z": [
          [
           0,
           0,
           0,
           0,
           0,
           0
          ],
          [
           0,
           0,
           0,
           0,
           0,
           0
          ],
          [
           0,
           0,
           0,
           0,
           0,
           0
          ],
          [
           0,
           0,
           0,
           0,
           0,
           0
          ],
          [
           0,
           0,
           0,
           0,
           0,
           0
          ],
          [
           0,
           0,
           0,
           0,
           0,
           0
          ]
         ],
         "zmax": 1,
         "zmid": 0.5,
         "zmin": 0
        },
        {
         "colorscale": [
          [
           0,
           "rgb(256,256,256)"
          ],
          [
           0.25,
           "rgb(198,233,191)"
          ],
          [
           0.5,
           "rgb(116,196,118)"
          ],
          [
           0.75,
           "rgb(32,137,68)"
          ],
          [
           1,
           "rgb(0,68,27)"
          ]
         ],
         "type": "heatmap",
         "x": [
          1,
          2,
          3,
          4,
          5,
          6
         ],
         "xaxis": "x5",
         "y": [
          6,
          5,
          4,
          3,
          2,
          1
         ],
         "yaxis": "y5",
         "z": [
          [
           0,
           0,
           0.19405125885722901,
           0,
           0,
           0
          ],
          [
           0,
           0,
           0,
           0.0013333333333333335,
           0,
           0
          ],
          [
           0.09563777074224836,
           0,
           0.047546409367304886,
           0,
           0,
           0
          ],
          [
           0.002666666666666667,
           0,
           0.002666666666666667,
           0.0013333333333333335,
           0,
           0
          ],
          [
           0,
           0,
           0,
           0,
           0,
           0
          ],
          [
           0,
           0,
           0,
           0,
           0,
           0
          ]
         ],
         "zmax": 1,
         "zmid": 0.5,
         "zmin": 0
        },
        {
         "colorscale": [
          [
           0,
           "rgb(256,256,256)"
          ],
          [
           0.25,
           "rgb(198,233,191)"
          ],
          [
           0.5,
           "rgb(116,196,118)"
          ],
          [
           0.75,
           "rgb(32,137,68)"
          ],
          [
           1,
           "rgb(0,68,27)"
          ]
         ],
         "type": "heatmap",
         "x": [
          1,
          2,
          3,
          4,
          5,
          6
         ],
         "xaxis": "x6",
         "y": [
          6,
          5,
          4,
          3,
          2,
          1
         ],
         "yaxis": "y6",
         "z": [
          [
           0,
           0,
           0.050758028041610136,
           0.0014925373134328358,
           0.0013333333333333335,
           0.00814814814814815
          ],
          [
           0,
           0,
           0,
           0.002814814814814815,
           0,
           0.0014814814814814816
          ],
          [
           0.3886474697220965,
           0.0013333333333333335,
           0.1959295441982009,
           0,
           0,
           0
          ],
          [
           0.0014925373134328358,
           0,
           0,
           0,
           0,
           0
          ],
          [
           0,
           0,
           0,
           0,
           0,
           0
          ],
          [
           0.0013333333333333335,
           0,
           0,
           0,
           0,
           0
          ]
         ],
         "zmax": 1,
         "zmid": 0.5,
         "zmin": 0
        },
        {
         "colorscale": [
          [
           0,
           "rgb(256,256,256)"
          ],
          [
           0.25,
           "rgb(198,233,191)"
          ],
          [
           0.5,
           "rgb(116,196,118)"
          ],
          [
           0.75,
           "rgb(32,137,68)"
          ],
          [
           1,
           "rgb(0,68,27)"
          ]
         ],
         "type": "heatmap",
         "x": [
          1,
          2,
          3,
          4,
          5,
          6
         ],
         "xaxis": "x7",
         "y": [
          6,
          5,
          4,
          3,
          2,
          1
         ],
         "yaxis": "y7",
         "z": [
          [
           0.0009957993575488017,
           0.001465282925623919,
           0,
           0,
           0,
           0.004147059861750482
          ],
          [
           0.005221151470224858,
           0.0038127007659995065,
           0,
           0,
           0.0010526315789473684,
           0.0015221151470224859
          ],
          [
           0,
           0,
           0,
           0,
           0,
           0
          ],
          [
           0,
           0,
           0,
           0,
           0,
           0
          ],
          [
           0.0010238282272846295,
           0.0015221151470224859,
           0,
           0,
           0.0004975124378109452,
           0.0011824439446602602
          ],
          [
           0.018358957094228107,
           0.0005263157894736842,
           0,
           0,
           0.0011468630871615947,
           0.014114508308977142
          ]
         ],
         "zmax": 1,
         "zmid": 0.5,
         "zmin": 0
        },
        {
         "colorscale": [
          [
           0,
           "rgb(256,256,256)"
          ],
          [
           0.25,
           "rgb(198,233,191)"
          ],
          [
           0.5,
           "rgb(116,196,118)"
          ],
          [
           0.75,
           "rgb(32,137,68)"
          ],
          [
           1,
           "rgb(0,68,27)"
          ]
         ],
         "type": "heatmap",
         "x": [
          1,
          2,
          3,
          4,
          5,
          6
         ],
         "xaxis": "x8",
         "y": [
          6,
          5,
          4,
          3,
          2,
          1
         ],
         "yaxis": "y8",
         "z": [
          [
           0.011208138843475015,
           0.008367165260246893,
           0.10232831725754132,
           0.006820580337084522,
           0,
           0
          ],
          [
           0.006216950827773659,
           0.003400049419322955,
           0.002396426672742462,
           0.0024175355161270653,
           0,
           0
          ],
          [
           0.212642748754037,
           0.0013342821561999644,
           0.12026947007183293,
           0.011336388520551077,
           0,
           0
          ],
          [
           0.002054794520547945,
           0.002668564312399929,
           0.004687777975449208,
           0.0024531163736257315,
           0,
           0
          ],
          [
           0,
           0,
           0,
           0,
           0,
           0
          ],
          [
           0,
           0,
           0,
           0,
           0,
           0
          ]
         ],
         "zmax": 1,
         "zmid": 0.5,
         "zmin": 0
        },
        {
         "colorscale": [
          [
           0,
           "rgb(256,256,256)"
          ],
          [
           0.25,
           "rgb(198,233,191)"
          ],
          [
           0.5,
           "rgb(116,196,118)"
          ],
          [
           0.75,
           "rgb(32,137,68)"
          ],
          [
           1,
           "rgb(0,68,27)"
          ]
         ],
         "type": "heatmap",
         "x": [
          1,
          2,
          3,
          4,
          5,
          6
         ],
         "xaxis": "x9",
         "y": [
          6,
          5,
          4,
          3,
          2,
          1
         ],
         "yaxis": "y9",
         "z": [
          [
           0,
           0,
           0.10364941422654442,
           0.0012488328664799254,
           0.003116939037090443,
           0.02167552231204558
          ],
          [
           0,
           0,
           0.006627503545667176,
           0.0022062721719448898,
           0.005771029491426397,
           0.004012773327979174
          ],
          [
           0.1790188046379559,
           0.0032660418168709445,
           0.07932842991183475,
           0.004367296358175537,
           0,
           0
          ],
          [
           0.0004975124378109452,
           0.0015501440167583137,
           0.0015789473684210526,
           0.0005263157894736842,
           0,
           0
          ],
          [
           0.004172446407407694,
           0.003894141102321692,
           0,
           0,
           0.0028191383760174707,
           0.0020016339869281044
          ],
          [
           0.004614244493293521,
           0.0004975124378109452,
           0,
           0,
           0.002105263157894737,
           0.004262248759152784
          ]
         ],
         "zmax": 1,
         "zmid": 0.5,
         "zmin": 0
        },
        {
         "colorscale": [
          [
           0,
           "rgb(256,256,256)"
          ],
          [
           0.25,
           "rgb(198,233,191)"
          ],
          [
           0.5,
           "rgb(116,196,118)"
          ],
          [
           0.75,
           "rgb(32,137,68)"
          ],
          [
           1,
           "rgb(0,68,27)"
          ]
         ],
         "type": "heatmap",
         "x": [
          1,
          2,
          3,
          4,
          5,
          6
         ],
         "xaxis": "x10",
         "y": [
          6,
          5,
          4,
          3,
          2,
          1
         ],
         "yaxis": "y10",
         "z": [
          [
           0,
           0.00039277297721916735,
           0,
           0,
           0,
           0
          ],
          [
           0,
           0.00039277297721916735,
           0,
           0.001178318931657502,
           0.00039277297721916735,
           0.00039277297721916735
          ],
          [
           0,
           0,
           0,
           0,
           0,
           0
          ],
          [
           0.00039277297721916735,
           0.00039277297721916735,
           0,
           0.00039277297721916735,
           0,
           0
          ],
          [
           0,
           0.00039277297721916735,
           0,
           0.00039277297721916735,
           0,
           0.00039277297721916735
          ],
          [
           0.00039277297721916735,
           0.001178318931657502,
           0,
           0.00039277297721916735,
           0,
           0
          ]
         ],
         "zmax": 1,
         "zmid": 0.5,
         "zmin": 0
        },
        {
         "colorscale": [
          [
           0,
           "rgb(256,256,256)"
          ],
          [
           0.25,
           "rgb(198,233,191)"
          ],
          [
           0.5,
           "rgb(116,196,118)"
          ],
          [
           0.75,
           "rgb(32,137,68)"
          ],
          [
           1,
           "rgb(0,68,27)"
          ]
         ],
         "type": "heatmap",
         "x": [
          1,
          2,
          3,
          4,
          5,
          6
         ],
         "xaxis": "x11",
         "y": [
          6,
          5,
          4,
          3,
          2,
          1
         ],
         "yaxis": "y11",
         "z": [
          [
           0.8322859387274155,
           0.002356637863315004,
           0.008248232521602514,
           0.004713275726630008,
           0.00039277297721916735,
           0.00589159465828751
          ],
          [
           0.0019638648860958365,
           0.0007855459544383347,
           0.027886881382560878,
           0.001178318931657502,
           0,
           0.001178318931657502
          ],
          [
           0.010604870384917517,
           0,
           0.027886881382560878,
           0.00432050274941084,
           0,
           0.003142183817753339
          ],
          [
           0.00589159465828751,
           0.00039277297721916735,
           0.002356637863315004,
           0.0019638648860958365,
           0,
           0.0019638648860958365
          ],
          [
           0.00039277297721916735,
           0,
           0.00039277297721916735,
           0,
           0,
           0.00039277297721916735
          ],
          [
           0.003927729772191673,
           0.0019638648860958365,
           0.003927729772191673,
           0.00039277297721916735,
           0.0015710919088766694,
           0.003534956794972506
          ]
         ],
         "zmax": 1,
         "zmid": 0.5,
         "zmin": 0
        },
        {
         "colorscale": [
          [
           0,
           "rgb(256,256,256)"
          ],
          [
           0.25,
           "rgb(198,233,191)"
          ],
          [
           0.5,
           "rgb(116,196,118)"
          ],
          [
           0.75,
           "rgb(32,137,68)"
          ],
          [
           1,
           "rgb(0,68,27)"
          ]
         ],
         "type": "heatmap",
         "x": [
          1,
          2,
          3,
          4,
          5,
          6
         ],
         "xaxis": "x12",
         "y": [
          6,
          5,
          4,
          3,
          2,
          1
         ],
         "yaxis": "y12",
         "z": [
          [
           0,
           0,
           0.0015710919088766694,
           0,
           0.0019638648860958365,
           0
          ],
          [
           0,
           0,
           0.003142183817753339,
           0,
           0.0027494108405341712,
           0
          ],
          [
           0.0007855459544383347,
           0.0007855459544383347,
           0.009819324430479183,
           0.001178318931657502,
           0.0007855459544383347,
           0.00039277297721916735
          ],
          [
           0,
           0,
           0,
           0,
           0,
           0
          ],
          [
           0.0007855459544383347,
           0.001178318931657502,
           0.0007855459544383347,
           0.00039277297721916735,
           0.003927729772191673,
           0.00039277297721916735
          ],
          [
           0,
           0,
           0,
           0,
           0.00039277297721916735,
           0
          ]
         ],
         "zmax": 1,
         "zmid": 0.5,
         "zmin": 0
        },
        {
         "colorscale": [
          [
           0,
           "rgb(256,256,256)"
          ],
          [
           0.25,
           "rgb(198,233,191)"
          ],
          [
           0.5,
           "rgb(116,196,118)"
          ],
          [
           0.75,
           "rgb(32,137,68)"
          ],
          [
           1,
           "rgb(0,68,27)"
          ]
         ],
         "type": "heatmap",
         "x": [
          1,
          2,
          3,
          4,
          5,
          6
         ],
         "xaxis": "x13",
         "y": [
          6,
          5,
          4,
          3,
          2,
          1
         ],
         "yaxis": "y13",
         "z": [
          [
           0.02197802197802198,
           0,
           0,
           0,
           0,
           0
          ],
          [
           0,
           0,
           0,
           0,
           0,
           0
          ],
          [
           0,
           0,
           0,
           0,
           0,
           0
          ],
          [
           0,
           0,
           0,
           0,
           0,
           0
          ],
          [
           0,
           0,
           0,
           0,
           0,
           0
          ],
          [
           0,
           0,
           0,
           0,
           0,
           0
          ]
         ],
         "zmax": 1,
         "zmid": 0.5,
         "zmin": 0
        },
        {
         "colorscale": [
          [
           0,
           "rgb(256,256,256)"
          ],
          [
           0.25,
           "rgb(198,233,191)"
          ],
          [
           0.5,
           "rgb(116,196,118)"
          ],
          [
           0.75,
           "rgb(32,137,68)"
          ],
          [
           1,
           "rgb(0,68,27)"
          ]
         ],
         "type": "heatmap",
         "x": [
          1,
          2,
          3,
          4,
          5,
          6
         ],
         "xaxis": "x14",
         "y": [
          6,
          5,
          4,
          3,
          2,
          1
         ],
         "yaxis": "y14",
         "z": [
          [
           0.3568931068931069,
           0,
           0.13186813186813187,
           0,
           0.005494505494505495,
           0
          ],
          [
           0,
           0,
           0,
           0,
           0,
           0
          ],
          [
           0,
           0,
           0.045454545454545456,
           0.03371628371628372,
           0,
           0
          ],
          [
           0,
           0,
           0.022727272727272728,
           0,
           0,
           0
          ],
          [
           0.01098901098901099,
           0,
           0,
           0,
           0,
           0
          ],
          [
           0.06818181818181818,
           0,
           0,
           0,
           0,
           0.2517482517482518
          ]
         ],
         "zmax": 1,
         "zmid": 0.5,
         "zmin": 0
        },
        {
         "colorscale": [
          [
           0,
           "rgb(256,256,256)"
          ],
          [
           0.25,
           "rgb(198,233,191)"
          ],
          [
           0.5,
           "rgb(116,196,118)"
          ],
          [
           0.75,
           "rgb(32,137,68)"
          ],
          [
           1,
           "rgb(0,68,27)"
          ]
         ],
         "type": "heatmap",
         "x": [
          1,
          2,
          3,
          4,
          5,
          6
         ],
         "xaxis": "x15",
         "y": [
          6,
          5,
          4,
          3,
          2,
          1
         ],
         "yaxis": "y15",
         "z": [
          [
           0,
           0,
           0,
           0,
           0,
           0
          ],
          [
           0,
           0,
           0,
           0,
           0,
           0
          ],
          [
           0.045454545454545456,
           0,
           0,
           0,
           0,
           0
          ],
          [
           0,
           0,
           0,
           0,
           0,
           0
          ],
          [
           0,
           0,
           0,
           0,
           0,
           0.005494505494505495
          ],
          [
           0,
           0,
           0,
           0,
           0,
           0
          ]
         ],
         "zmax": 1,
         "zmid": 0.5,
         "zmin": 0
        }
       ],
       "layout": {
        "annotations": [
         {
          "font": {
           "size": 16
          },
          "showarrow": false,
          "text": "Centroid 0, Position 1",
          "x": 0.14444444444444446,
          "xanchor": "center",
          "xref": "paper",
          "y": 1,
          "yanchor": "bottom",
          "yref": "paper"
         },
         {
          "font": {
           "size": 16
          },
          "showarrow": false,
          "text": "Centroid 0, Position 2",
          "x": 0.5,
          "xanchor": "center",
          "xref": "paper",
          "y": 1,
          "yanchor": "bottom",
          "yref": "paper"
         },
         {
          "font": {
           "size": 16
          },
          "showarrow": false,
          "text": "Centroid 0, Position 3",
          "x": 0.8555555555555556,
          "xanchor": "center",
          "xref": "paper",
          "y": 1,
          "yanchor": "bottom",
          "yref": "paper"
         },
         {
          "font": {
           "size": 16
          },
          "showarrow": false,
          "text": "Centroid 1, Position 1",
          "x": 0.14444444444444446,
          "xanchor": "center",
          "xref": "paper",
          "y": 0.792,
          "yanchor": "bottom",
          "yref": "paper"
         },
         {
          "font": {
           "size": 16
          },
          "showarrow": false,
          "text": "Centroid 1, Position 2",
          "x": 0.5,
          "xanchor": "center",
          "xref": "paper",
          "y": 0.792,
          "yanchor": "bottom",
          "yref": "paper"
         },
         {
          "font": {
           "size": 16
          },
          "showarrow": false,
          "text": "Centroid 1, Position 3",
          "x": 0.8555555555555556,
          "xanchor": "center",
          "xref": "paper",
          "y": 0.792,
          "yanchor": "bottom",
          "yref": "paper"
         },
         {
          "font": {
           "size": 16
          },
          "showarrow": false,
          "text": "Centroid 2, Position 1",
          "x": 0.14444444444444446,
          "xanchor": "center",
          "xref": "paper",
          "y": 0.584,
          "yanchor": "bottom",
          "yref": "paper"
         },
         {
          "font": {
           "size": 16
          },
          "showarrow": false,
          "text": "Centroid 2, Position 2",
          "x": 0.5,
          "xanchor": "center",
          "xref": "paper",
          "y": 0.584,
          "yanchor": "bottom",
          "yref": "paper"
         },
         {
          "font": {
           "size": 16
          },
          "showarrow": false,
          "text": "Centroid 2, Position 3",
          "x": 0.8555555555555556,
          "xanchor": "center",
          "xref": "paper",
          "y": 0.584,
          "yanchor": "bottom",
          "yref": "paper"
         },
         {
          "font": {
           "size": 16
          },
          "showarrow": false,
          "text": "Centroid 3, Position 1",
          "x": 0.14444444444444446,
          "xanchor": "center",
          "xref": "paper",
          "y": 0.376,
          "yanchor": "bottom",
          "yref": "paper"
         },
         {
          "font": {
           "size": 16
          },
          "showarrow": false,
          "text": "Centroid 3, Position 2",
          "x": 0.5,
          "xanchor": "center",
          "xref": "paper",
          "y": 0.376,
          "yanchor": "bottom",
          "yref": "paper"
         },
         {
          "font": {
           "size": 16
          },
          "showarrow": false,
          "text": "Centroid 3, Position 3",
          "x": 0.8555555555555556,
          "xanchor": "center",
          "xref": "paper",
          "y": 0.376,
          "yanchor": "bottom",
          "yref": "paper"
         },
         {
          "font": {
           "size": 16
          },
          "showarrow": false,
          "text": "Centroid 4, Position 1",
          "x": 0.14444444444444446,
          "xanchor": "center",
          "xref": "paper",
          "y": 0.16799999999999998,
          "yanchor": "bottom",
          "yref": "paper"
         },
         {
          "font": {
           "size": 16
          },
          "showarrow": false,
          "text": "Centroid 4, Position 2",
          "x": 0.5,
          "xanchor": "center",
          "xref": "paper",
          "y": 0.16799999999999998,
          "yanchor": "bottom",
          "yref": "paper"
         },
         {
          "font": {
           "size": 16
          },
          "showarrow": false,
          "text": "Centroid 4, Position 3",
          "x": 0.8555555555555556,
          "xanchor": "center",
          "xref": "paper",
          "y": 0.16799999999999998,
          "yanchor": "bottom",
          "yref": "paper"
         }
        ],
        "height": 1900,
        "template": {
         "data": {
          "bar": [
           {
            "error_x": {
             "color": "#2a3f5f"
            },
            "error_y": {
             "color": "#2a3f5f"
            },
            "marker": {
             "line": {
              "color": "#E5ECF6",
              "width": 0.5
             },
             "pattern": {
              "fillmode": "overlay",
              "size": 10,
              "solidity": 0.2
             }
            },
            "type": "bar"
           }
          ],
          "barpolar": [
           {
            "marker": {
             "line": {
              "color": "#E5ECF6",
              "width": 0.5
             },
             "pattern": {
              "fillmode": "overlay",
              "size": 10,
              "solidity": 0.2
             }
            },
            "type": "barpolar"
           }
          ],
          "carpet": [
           {
            "aaxis": {
             "endlinecolor": "#2a3f5f",
             "gridcolor": "white",
             "linecolor": "white",
             "minorgridcolor": "white",
             "startlinecolor": "#2a3f5f"
            },
            "baxis": {
             "endlinecolor": "#2a3f5f",
             "gridcolor": "white",
             "linecolor": "white",
             "minorgridcolor": "white",
             "startlinecolor": "#2a3f5f"
            },
            "type": "carpet"
           }
          ],
          "choropleth": [
           {
            "colorbar": {
             "outlinewidth": 0,
             "ticks": ""
            },
            "type": "choropleth"
           }
          ],
          "contour": [
           {
            "colorbar": {
             "outlinewidth": 0,
             "ticks": ""
            },
            "colorscale": [
             [
              0,
              "#0d0887"
             ],
             [
              0.1111111111111111,
              "#46039f"
             ],
             [
              0.2222222222222222,
              "#7201a8"
             ],
             [
              0.3333333333333333,
              "#9c179e"
             ],
             [
              0.4444444444444444,
              "#bd3786"
             ],
             [
              0.5555555555555556,
              "#d8576b"
             ],
             [
              0.6666666666666666,
              "#ed7953"
             ],
             [
              0.7777777777777778,
              "#fb9f3a"
             ],
             [
              0.8888888888888888,
              "#fdca26"
             ],
             [
              1,
              "#f0f921"
             ]
            ],
            "type": "contour"
           }
          ],
          "contourcarpet": [
           {
            "colorbar": {
             "outlinewidth": 0,
             "ticks": ""
            },
            "type": "contourcarpet"
           }
          ],
          "heatmap": [
           {
            "colorbar": {
             "outlinewidth": 0,
             "ticks": ""
            },
            "colorscale": [
             [
              0,
              "#0d0887"
             ],
             [
              0.1111111111111111,
              "#46039f"
             ],
             [
              0.2222222222222222,
              "#7201a8"
             ],
             [
              0.3333333333333333,
              "#9c179e"
             ],
             [
              0.4444444444444444,
              "#bd3786"
             ],
             [
              0.5555555555555556,
              "#d8576b"
             ],
             [
              0.6666666666666666,
              "#ed7953"
             ],
             [
              0.7777777777777778,
              "#fb9f3a"
             ],
             [
              0.8888888888888888,
              "#fdca26"
             ],
             [
              1,
              "#f0f921"
             ]
            ],
            "type": "heatmap"
           }
          ],
          "histogram": [
           {
            "marker": {
             "pattern": {
              "fillmode": "overlay",
              "size": 10,
              "solidity": 0.2
             }
            },
            "type": "histogram"
           }
          ],
          "histogram2d": [
           {
            "colorbar": {
             "outlinewidth": 0,
             "ticks": ""
            },
            "colorscale": [
             [
              0,
              "#0d0887"
             ],
             [
              0.1111111111111111,
              "#46039f"
             ],
             [
              0.2222222222222222,
              "#7201a8"
             ],
             [
              0.3333333333333333,
              "#9c179e"
             ],
             [
              0.4444444444444444,
              "#bd3786"
             ],
             [
              0.5555555555555556,
              "#d8576b"
             ],
             [
              0.6666666666666666,
              "#ed7953"
             ],
             [
              0.7777777777777778,
              "#fb9f3a"
             ],
             [
              0.8888888888888888,
              "#fdca26"
             ],
             [
              1,
              "#f0f921"
             ]
            ],
            "type": "histogram2d"
           }
          ],
          "histogram2dcontour": [
           {
            "colorbar": {
             "outlinewidth": 0,
             "ticks": ""
            },
            "colorscale": [
             [
              0,
              "#0d0887"
             ],
             [
              0.1111111111111111,
              "#46039f"
             ],
             [
              0.2222222222222222,
              "#7201a8"
             ],
             [
              0.3333333333333333,
              "#9c179e"
             ],
             [
              0.4444444444444444,
              "#bd3786"
             ],
             [
              0.5555555555555556,
              "#d8576b"
             ],
             [
              0.6666666666666666,
              "#ed7953"
             ],
             [
              0.7777777777777778,
              "#fb9f3a"
             ],
             [
              0.8888888888888888,
              "#fdca26"
             ],
             [
              1,
              "#f0f921"
             ]
            ],
            "type": "histogram2dcontour"
           }
          ],
          "mesh3d": [
           {
            "colorbar": {
             "outlinewidth": 0,
             "ticks": ""
            },
            "type": "mesh3d"
           }
          ],
          "parcoords": [
           {
            "line": {
             "colorbar": {
              "outlinewidth": 0,
              "ticks": ""
             }
            },
            "type": "parcoords"
           }
          ],
          "pie": [
           {
            "automargin": true,
            "type": "pie"
           }
          ],
          "scatter": [
           {
            "fillpattern": {
             "fillmode": "overlay",
             "size": 10,
             "solidity": 0.2
            },
            "type": "scatter"
           }
          ],
          "scatter3d": [
           {
            "line": {
             "colorbar": {
              "outlinewidth": 0,
              "ticks": ""
             }
            },
            "marker": {
             "colorbar": {
              "outlinewidth": 0,
              "ticks": ""
             }
            },
            "type": "scatter3d"
           }
          ],
          "scattercarpet": [
           {
            "marker": {
             "colorbar": {
              "outlinewidth": 0,
              "ticks": ""
             }
            },
            "type": "scattercarpet"
           }
          ],
          "scattergeo": [
           {
            "marker": {
             "colorbar": {
              "outlinewidth": 0,
              "ticks": ""
             }
            },
            "type": "scattergeo"
           }
          ],
          "scattergl": [
           {
            "marker": {
             "colorbar": {
              "outlinewidth": 0,
              "ticks": ""
             }
            },
            "type": "scattergl"
           }
          ],
          "scattermap": [
           {
            "marker": {
             "colorbar": {
              "outlinewidth": 0,
              "ticks": ""
             }
            },
            "type": "scattermap"
           }
          ],
          "scattermapbox": [
           {
            "marker": {
             "colorbar": {
              "outlinewidth": 0,
              "ticks": ""
             }
            },
            "type": "scattermapbox"
           }
          ],
          "scatterpolar": [
           {
            "marker": {
             "colorbar": {
              "outlinewidth": 0,
              "ticks": ""
             }
            },
            "type": "scatterpolar"
           }
          ],
          "scatterpolargl": [
           {
            "marker": {
             "colorbar": {
              "outlinewidth": 0,
              "ticks": ""
             }
            },
            "type": "scatterpolargl"
           }
          ],
          "scatterternary": [
           {
            "marker": {
             "colorbar": {
              "outlinewidth": 0,
              "ticks": ""
             }
            },
            "type": "scatterternary"
           }
          ],
          "surface": [
           {
            "colorbar": {
             "outlinewidth": 0,
             "ticks": ""
            },
            "colorscale": [
             [
              0,
              "#0d0887"
             ],
             [
              0.1111111111111111,
              "#46039f"
             ],
             [
              0.2222222222222222,
              "#7201a8"
             ],
             [
              0.3333333333333333,
              "#9c179e"
             ],
             [
              0.4444444444444444,
              "#bd3786"
             ],
             [
              0.5555555555555556,
              "#d8576b"
             ],
             [
              0.6666666666666666,
              "#ed7953"
             ],
             [
              0.7777777777777778,
              "#fb9f3a"
             ],
             [
              0.8888888888888888,
              "#fdca26"
             ],
             [
              1,
              "#f0f921"
             ]
            ],
            "type": "surface"
           }
          ],
          "table": [
           {
            "cells": {
             "fill": {
              "color": "#EBF0F8"
             },
             "line": {
              "color": "white"
             }
            },
            "header": {
             "fill": {
              "color": "#C8D4E3"
             },
             "line": {
              "color": "white"
             }
            },
            "type": "table"
           }
          ]
         },
         "layout": {
          "annotationdefaults": {
           "arrowcolor": "#2a3f5f",
           "arrowhead": 0,
           "arrowwidth": 1
          },
          "autotypenumbers": "strict",
          "coloraxis": {
           "colorbar": {
            "outlinewidth": 0,
            "ticks": ""
           }
          },
          "colorscale": {
           "diverging": [
            [
             0,
             "#8e0152"
            ],
            [
             0.1,
             "#c51b7d"
            ],
            [
             0.2,
             "#de77ae"
            ],
            [
             0.3,
             "#f1b6da"
            ],
            [
             0.4,
             "#fde0ef"
            ],
            [
             0.5,
             "#f7f7f7"
            ],
            [
             0.6,
             "#e6f5d0"
            ],
            [
             0.7,
             "#b8e186"
            ],
            [
             0.8,
             "#7fbc41"
            ],
            [
             0.9,
             "#4d9221"
            ],
            [
             1,
             "#276419"
            ]
           ],
           "sequential": [
            [
             0,
             "#0d0887"
            ],
            [
             0.1111111111111111,
             "#46039f"
            ],
            [
             0.2222222222222222,
             "#7201a8"
            ],
            [
             0.3333333333333333,
             "#9c179e"
            ],
            [
             0.4444444444444444,
             "#bd3786"
            ],
            [
             0.5555555555555556,
             "#d8576b"
            ],
            [
             0.6666666666666666,
             "#ed7953"
            ],
            [
             0.7777777777777778,
             "#fb9f3a"
            ],
            [
             0.8888888888888888,
             "#fdca26"
            ],
            [
             1,
             "#f0f921"
            ]
           ],
           "sequentialminus": [
            [
             0,
             "#0d0887"
            ],
            [
             0.1111111111111111,
             "#46039f"
            ],
            [
             0.2222222222222222,
             "#7201a8"
            ],
            [
             0.3333333333333333,
             "#9c179e"
            ],
            [
             0.4444444444444444,
             "#bd3786"
            ],
            [
             0.5555555555555556,
             "#d8576b"
            ],
            [
             0.6666666666666666,
             "#ed7953"
            ],
            [
             0.7777777777777778,
             "#fb9f3a"
            ],
            [
             0.8888888888888888,
             "#fdca26"
            ],
            [
             1,
             "#f0f921"
            ]
           ]
          },
          "colorway": [
           "#636efa",
           "#EF553B",
           "#00cc96",
           "#ab63fa",
           "#FFA15A",
           "#19d3f3",
           "#FF6692",
           "#B6E880",
           "#FF97FF",
           "#FECB52"
          ],
          "font": {
           "color": "#2a3f5f"
          },
          "geo": {
           "bgcolor": "white",
           "lakecolor": "white",
           "landcolor": "#E5ECF6",
           "showlakes": true,
           "showland": true,
           "subunitcolor": "white"
          },
          "hoverlabel": {
           "align": "left"
          },
          "hovermode": "closest",
          "mapbox": {
           "style": "light"
          },
          "paper_bgcolor": "white",
          "plot_bgcolor": "#E5ECF6",
          "polar": {
           "angularaxis": {
            "gridcolor": "white",
            "linecolor": "white",
            "ticks": ""
           },
           "bgcolor": "#E5ECF6",
           "radialaxis": {
            "gridcolor": "white",
            "linecolor": "white",
            "ticks": ""
           }
          },
          "scene": {
           "xaxis": {
            "backgroundcolor": "#E5ECF6",
            "gridcolor": "white",
            "gridwidth": 2,
            "linecolor": "white",
            "showbackground": true,
            "ticks": "",
            "zerolinecolor": "white"
           },
           "yaxis": {
            "backgroundcolor": "#E5ECF6",
            "gridcolor": "white",
            "gridwidth": 2,
            "linecolor": "white",
            "showbackground": true,
            "ticks": "",
            "zerolinecolor": "white"
           },
           "zaxis": {
            "backgroundcolor": "#E5ECF6",
            "gridcolor": "white",
            "gridwidth": 2,
            "linecolor": "white",
            "showbackground": true,
            "ticks": "",
            "zerolinecolor": "white"
           }
          },
          "shapedefaults": {
           "line": {
            "color": "#2a3f5f"
           }
          },
          "ternary": {
           "aaxis": {
            "gridcolor": "white",
            "linecolor": "white",
            "ticks": ""
           },
           "baxis": {
            "gridcolor": "white",
            "linecolor": "white",
            "ticks": ""
           },
           "bgcolor": "#E5ECF6",
           "caxis": {
            "gridcolor": "white",
            "linecolor": "white",
            "ticks": ""
           }
          },
          "title": {
           "x": 0.05
          },
          "xaxis": {
           "automargin": true,
           "gridcolor": "white",
           "linecolor": "white",
           "ticks": "",
           "title": {
            "standoff": 15
           },
           "zerolinecolor": "white",
           "zerolinewidth": 2
          },
          "yaxis": {
           "automargin": true,
           "gridcolor": "white",
           "linecolor": "white",
           "ticks": "",
           "title": {
            "standoff": 15
           },
           "zerolinecolor": "white",
           "zerolinewidth": 2
          }
         }
        },
        "title": {
         "text": "MIDs POSITIONED: Hierarchical Clustering - 10 Clusters"
        },
        "width": 1200,
        "xaxis": {
         "anchor": "y",
         "domain": [
          0,
          0.2888888888888889
         ],
         "tickvals": [
          1,
          2,
          3,
          4,
          5,
          6
         ]
        },
        "xaxis10": {
         "anchor": "y10",
         "domain": [
          0,
          0.2888888888888889
         ],
         "tickvals": [
          1,
          2,
          3,
          4,
          5,
          6
         ]
        },
        "xaxis11": {
         "anchor": "y11",
         "domain": [
          0.35555555555555557,
          0.6444444444444445
         ],
         "tickvals": [
          1,
          2,
          3,
          4,
          5,
          6
         ]
        },
        "xaxis12": {
         "anchor": "y12",
         "domain": [
          0.7111111111111111,
          1
         ],
         "tickvals": [
          1,
          2,
          3,
          4,
          5,
          6
         ]
        },
        "xaxis13": {
         "anchor": "y13",
         "domain": [
          0,
          0.2888888888888889
         ],
         "tickvals": [
          1,
          2,
          3,
          4,
          5,
          6
         ]
        },
        "xaxis14": {
         "anchor": "y14",
         "domain": [
          0.35555555555555557,
          0.6444444444444445
         ],
         "tickvals": [
          1,
          2,
          3,
          4,
          5,
          6
         ]
        },
        "xaxis15": {
         "anchor": "y15",
         "domain": [
          0.7111111111111111,
          1
         ],
         "tickvals": [
          1,
          2,
          3,
          4,
          5,
          6
         ]
        },
        "xaxis2": {
         "anchor": "y2",
         "domain": [
          0.35555555555555557,
          0.6444444444444445
         ],
         "tickvals": [
          1,
          2,
          3,
          4,
          5,
          6
         ]
        },
        "xaxis3": {
         "anchor": "y3",
         "domain": [
          0.7111111111111111,
          1
         ],
         "tickvals": [
          1,
          2,
          3,
          4,
          5,
          6
         ]
        },
        "xaxis4": {
         "anchor": "y4",
         "domain": [
          0,
          0.2888888888888889
         ],
         "tickvals": [
          1,
          2,
          3,
          4,
          5,
          6
         ]
        },
        "xaxis5": {
         "anchor": "y5",
         "domain": [
          0.35555555555555557,
          0.6444444444444445
         ],
         "tickvals": [
          1,
          2,
          3,
          4,
          5,
          6
         ]
        },
        "xaxis6": {
         "anchor": "y6",
         "domain": [
          0.7111111111111111,
          1
         ],
         "tickvals": [
          1,
          2,
          3,
          4,
          5,
          6
         ]
        },
        "xaxis7": {
         "anchor": "y7",
         "domain": [
          0,
          0.2888888888888889
         ],
         "tickvals": [
          1,
          2,
          3,
          4,
          5,
          6
         ]
        },
        "xaxis8": {
         "anchor": "y8",
         "domain": [
          0.35555555555555557,
          0.6444444444444445
         ],
         "tickvals": [
          1,
          2,
          3,
          4,
          5,
          6
         ]
        },
        "xaxis9": {
         "anchor": "y9",
         "domain": [
          0.7111111111111111,
          1
         ],
         "tickvals": [
          1,
          2,
          3,
          4,
          5,
          6
         ]
        },
        "yaxis": {
         "anchor": "x",
         "autorange": "reversed",
         "domain": [
          0.832,
          1
         ]
        },
        "yaxis10": {
         "anchor": "x10",
         "autorange": "reversed",
         "domain": [
          0.208,
          0.376
         ]
        },
        "yaxis11": {
         "anchor": "x11",
         "autorange": "reversed",
         "domain": [
          0.208,
          0.376
         ]
        },
        "yaxis12": {
         "anchor": "x12",
         "autorange": "reversed",
         "domain": [
          0.208,
          0.376
         ]
        },
        "yaxis13": {
         "anchor": "x13",
         "autorange": "reversed",
         "domain": [
          0,
          0.16799999999999998
         ]
        },
        "yaxis14": {
         "anchor": "x14",
         "autorange": "reversed",
         "domain": [
          0,
          0.16799999999999998
         ]
        },
        "yaxis15": {
         "anchor": "x15",
         "autorange": "reversed",
         "domain": [
          0,
          0.16799999999999998
         ]
        },
        "yaxis2": {
         "anchor": "x2",
         "autorange": "reversed",
         "domain": [
          0.832,
          1
         ]
        },
        "yaxis3": {
         "anchor": "x3",
         "autorange": "reversed",
         "domain": [
          0.832,
          1
         ]
        },
        "yaxis4": {
         "anchor": "x4",
         "autorange": "reversed",
         "domain": [
          0.624,
          0.792
         ]
        },
        "yaxis5": {
         "anchor": "x5",
         "autorange": "reversed",
         "domain": [
          0.624,
          0.792
         ]
        },
        "yaxis6": {
         "anchor": "x6",
         "autorange": "reversed",
         "domain": [
          0.624,
          0.792
         ]
        },
        "yaxis7": {
         "anchor": "x7",
         "autorange": "reversed",
         "domain": [
          0.416,
          0.584
         ]
        },
        "yaxis8": {
         "anchor": "x8",
         "autorange": "reversed",
         "domain": [
          0.416,
          0.584
         ]
        },
        "yaxis9": {
         "anchor": "x9",
         "autorange": "reversed",
         "domain": [
          0.416,
          0.584
         ]
        }
       }
      }
     },
     "metadata": {},
     "output_type": "display_data"
    }
   ],
   "source": [
    "# creates the heatmaps for the hierarchical clustering - FIRST FIVE\n",
    "\n",
    "fig = create_centroid_heatmaps(hierarchical_centroids[:5])\n",
    "fig.update_layout(title=f'MIDs POSITIONED: Hierarchical Clustering - {len(memberships)} Clusters')\n",
    "fig.show()"
   ]
  },
  {
   "cell_type": "code",
   "execution_count": 16,
   "metadata": {},
   "outputs": [
    {
     "data": {
      "application/vnd.plotly.v1+json": {
       "config": {
        "plotlyServerURL": "https://plot.ly"
       },
       "data": [
        {
         "colorscale": [
          [
           0,
           "rgb(256,256,256)"
          ],
          [
           0.25,
           "rgb(198,233,191)"
          ],
          [
           0.5,
           "rgb(116,196,118)"
          ],
          [
           0.75,
           "rgb(32,137,68)"
          ],
          [
           1,
           "rgb(0,68,27)"
          ]
         ],
         "type": "heatmap",
         "x": [
          1,
          2,
          3,
          4,
          5,
          6
         ],
         "xaxis": "x",
         "y": [
          6,
          5,
          4,
          3,
          2,
          1
         ],
         "yaxis": "y",
         "z": [
          [
           0.5850100603621731,
           0.14520456069751844,
           0.006651017214397496,
           0.003129890453834116,
           0.002347417840375587,
           0.006651017214397496
          ],
          [
           0.08489827856025038,
           0.024591996422982338,
           0.0019561815336463224,
           0.000782472613458529,
           0.000782472613458529,
           0.0011737089201877935
          ],
          [
           0.009780907668231613,
           0.0003912363067292645,
           0.009780907668231613,
           0.0011737089201877935,
           0.0003912363067292645,
           0.0027386541471048514
          ],
          [
           0.003912363067292645,
           0.0003912363067292645,
           0.0003912363067292645,
           0,
           0,
           0.0003912363067292645
          ],
          [
           0,
           0,
           0.0003912363067292645,
           0,
           0.002347417840375587,
           0.0027386541471048514
          ],
          [
           0.003129890453834116,
           0.0019561815336463224,
           0.0035211267605633804,
           0.0003912363067292645,
           0.0027386541471048514,
           0.003912363067292645
          ]
         ],
         "zmax": 1,
         "zmid": 0.5,
         "zmin": 0
        },
        {
         "colorscale": [
          [
           0,
           "rgb(256,256,256)"
          ],
          [
           0.25,
           "rgb(198,233,191)"
          ],
          [
           0.5,
           "rgb(116,196,118)"
          ],
          [
           0.75,
           "rgb(32,137,68)"
          ],
          [
           1,
           "rgb(0,68,27)"
          ]
         ],
         "type": "heatmap",
         "x": [
          1,
          2,
          3,
          4,
          5,
          6
         ],
         "xaxis": "x2",
         "y": [
          6,
          5,
          4,
          3,
          2,
          1
         ],
         "yaxis": "y2",
         "z": [
          [
           0,
           0.0003912363067292645,
           0,
           0,
           0,
           0
          ],
          [
           0.023809523809523808,
           0.012687234518220434,
           0.0003912363067292645,
           0.0003912363067292645,
           0.000782472613458529,
           0
          ],
          [
           0,
           0,
           0,
           0.001564945226917058,
           0.0003912363067292645,
           0.0003912363067292645
          ],
          [
           0.0003912363067292645,
           0.0003912363067292645,
           0.0003912363067292645,
           0,
           0,
           0
          ],
          [
           0,
           0.0003912363067292645,
           0.0003912363067292645,
           0.000782472613458529,
           0.01503465235859602,
           0
          ],
          [
           0.0003912363067292645,
           0.0011737089201877935,
           0,
           0.0003912363067292645,
           0.0003912363067292645,
           0
          ]
         ],
         "zmax": 1,
         "zmid": 0.5,
         "zmin": 0
        },
        {
         "colorscale": [
          [
           0,
           "rgb(256,256,256)"
          ],
          [
           0.25,
           "rgb(198,233,191)"
          ],
          [
           0.5,
           "rgb(116,196,118)"
          ],
          [
           0.75,
           "rgb(32,137,68)"
          ],
          [
           1,
           "rgb(0,68,27)"
          ]
         ],
         "type": "heatmap",
         "x": [
          1,
          2,
          3,
          4,
          5,
          6
         ],
         "xaxis": "x3",
         "y": [
          6,
          5,
          4,
          3,
          2,
          1
         ],
         "yaxis": "y3",
         "z": [
          [
           0,
           0,
           0.0003912363067292645,
           0.0011737089201877935,
           0.0003912363067292645,
           0.002347417840375587
          ],
          [
           0,
           0,
           0.0003912363067292645,
           0.0019561815336463224,
           0,
           0.0011737089201877935
          ],
          [
           0.000782472613458529,
           0,
           0,
           0.001564945226917058,
           0,
           0.0003912363067292645
          ],
          [
           0.0027386541471048514,
           0.000782472613458529,
           0.0011737089201877935,
           0.0011737089201877935,
           0,
           0.001564945226917058
          ],
          [
           0.0003912363067292645,
           0.0003912363067292645,
           0.0003912363067292645,
           0,
           0,
           0.0003912363067292645
          ],
          [
           0.0019561815336463224,
           0.0003912363067292645,
           0.0003912363067292645,
           0,
           0.0011737089201877935,
           0.0019561815336463224
          ]
         ],
         "zmax": 1,
         "zmid": 0.5,
         "zmin": 0
        },
        {
         "colorscale": [
          [
           0,
           "rgb(256,256,256)"
          ],
          [
           0.25,
           "rgb(198,233,191)"
          ],
          [
           0.5,
           "rgb(116,196,118)"
          ],
          [
           0.75,
           "rgb(32,137,68)"
          ],
          [
           1,
           "rgb(0,68,27)"
          ]
         ],
         "type": "heatmap",
         "x": [
          1,
          2,
          3,
          4,
          5,
          6
         ],
         "xaxis": "x4",
         "y": [
          6,
          5,
          4,
          3,
          2,
          1
         ],
         "yaxis": "y4",
         "z": [
          [
           0.00819672131147541,
           0.00819672131147541,
           0,
           0,
           0,
           0
          ],
          [
           0.01639344262295082,
           0,
           0,
           0,
           0,
           0
          ],
          [
           0,
           0,
           0,
           0,
           0,
           0
          ],
          [
           0,
           0,
           0,
           0,
           0,
           0
          ],
          [
           0,
           0,
           0,
           0,
           0.00819672131147541,
           0
          ],
          [
           0,
           0,
           0,
           0,
           0.0030864197530864196,
           0
          ]
         ],
         "zmax": 1,
         "zmid": 0.5,
         "zmin": 0
        },
        {
         "colorscale": [
          [
           0,
           "rgb(256,256,256)"
          ],
          [
           0.25,
           "rgb(198,233,191)"
          ],
          [
           0.5,
           "rgb(116,196,118)"
          ],
          [
           0.75,
           "rgb(32,137,68)"
          ],
          [
           1,
           "rgb(0,68,27)"
          ]
         ],
         "type": "heatmap",
         "x": [
          1,
          2,
          3,
          4,
          5,
          6
         ],
         "xaxis": "x5",
         "y": [
          6,
          5,
          4,
          3,
          2,
          1
         ],
         "yaxis": "y5",
         "z": [
          [
           0,
           0,
           0,
           0,
           0,
           0
          ],
          [
           0,
           0,
           0,
           0,
           0,
           0
          ],
          [
           0,
           0,
           0.0030864197530864196,
           0.03587330499898806,
           0,
           0
          ],
          [
           0,
           0,
           0,
           0.09122647237401335,
           0,
           0
          ],
          [
           0,
           0,
           0,
           0,
           0,
           0
          ],
          [
           0,
           0,
           0,
           0,
           0,
           0
          ]
         ],
         "zmax": 1,
         "zmid": 0.5,
         "zmin": 0
        },
        {
         "colorscale": [
          [
           0,
           "rgb(256,256,256)"
          ],
          [
           0.25,
           "rgb(198,233,191)"
          ],
          [
           0.5,
           "rgb(116,196,118)"
          ],
          [
           0.75,
           "rgb(32,137,68)"
          ],
          [
           1,
           "rgb(0,68,27)"
          ]
         ],
         "type": "heatmap",
         "x": [
          1,
          2,
          3,
          4,
          5,
          6
         ],
         "xaxis": "x6",
         "y": [
          6,
          5,
          4,
          3,
          2,
          1
         ],
         "yaxis": "y6",
         "z": [
          [
           0,
           0,
           0,
           0,
           0.5053632867840518,
           0
          ],
          [
           0,
           0,
           0.00819672131147541,
           0,
           0.07174660999797612,
           0
          ],
          [
           0,
           0.03895972475207448,
           0,
           0,
           0,
           0
          ],
          [
           0,
           0,
           0,
           0,
           0,
           0
          ],
          [
           0.20147743371787086,
           0,
           0,
           0,
           0,
           0
          ],
          [
           0,
           0,
           0,
           0,
           0,
           0
          ]
         ],
         "zmax": 1,
         "zmid": 0.5,
         "zmin": 0
        },
        {
         "colorscale": [
          [
           0,
           "rgb(256,256,256)"
          ],
          [
           0.25,
           "rgb(198,233,191)"
          ],
          [
           0.5,
           "rgb(116,196,118)"
          ],
          [
           0.75,
           "rgb(32,137,68)"
          ],
          [
           1,
           "rgb(0,68,27)"
          ]
         ],
         "type": "heatmap",
         "x": [
          1,
          2,
          3,
          4,
          5,
          6
         ],
         "xaxis": "x7",
         "y": [
          6,
          5,
          4,
          3,
          2,
          1
         ],
         "yaxis": "y7",
         "z": [
          [
           0.000022398423151010167,
           0.000022398423151010167,
           0.012632710657169735,
           0.0012636201320517944,
           0,
           0.000044796846302020335
          ],
          [
           0.00013439053890606102,
           0.00008959369260404067,
           0.000022398423151010167,
           0.002217443891950007,
           0,
           0
          ],
          [
           0.02526542131433947,
           0.00047036688617121356,
           0.012632710657169735,
           0.00015678896205707118,
           0,
           0
          ],
          [
           0.0010303274649464678,
           0.0010079290417954576,
           0.000022398423151010167,
           0.0007391479639833355,
           0,
           0
          ],
          [
           0,
           0,
           0,
           0,
           0,
           0
          ],
          [
           0.000044796846302020335,
           0,
           0,
           0.000044796846302020335,
           0,
           0.00013439053890606102
          ]
         ],
         "zmax": 1,
         "zmid": 0.5,
         "zmin": 0
        },
        {
         "colorscale": [
          [
           0,
           "rgb(256,256,256)"
          ],
          [
           0.25,
           "rgb(198,233,191)"
          ],
          [
           0.5,
           "rgb(116,196,118)"
          ],
          [
           0.75,
           "rgb(32,137,68)"
          ],
          [
           1,
           "rgb(0,68,27)"
          ]
         ],
         "type": "heatmap",
         "x": [
          1,
          2,
          3,
          4,
          5,
          6
         ],
         "xaxis": "x8",
         "y": [
          6,
          5,
          4,
          3,
          2,
          1
         ],
         "yaxis": "y8",
         "z": [
          [
           0.01936023703931243,
           0.00008959369260404067,
           0.0015454911974197016,
           0.00024638265466111185,
           0.0034269587421045557,
           0.32430327814012805
          ],
          [
           0.00011199211575505084,
           0.000022398423151010167,
           0,
           0,
           0.0005599605787752543,
           0.0017694754289298033
          ],
          [
           0.0013663038122116204,
           0,
           0.0015678896205707118,
           0.00020158580835909153,
           0,
           0.00026878107781212203
          ],
          [
           0.00038077319356717286,
           0,
           0.00024638265466111185,
           0.000044796846302020335,
           0,
           0.00026878107781212203
          ],
          [
           0.0028893965864803116,
           0.00024638265466111185,
           0,
           0,
           0.0012253682795276668,
           0.0022846391614030374
          ],
          [
           0.33216076133694733,
           0.0021950454687989967,
           0.00040317161671818305,
           0.0004479684630202034,
           0.0012991085427585898,
           0.23491524378501938
          ]
         ],
         "zmax": 1,
         "zmid": 0.5,
         "zmin": 0
        },
        {
         "colorscale": [
          [
           0,
           "rgb(256,256,256)"
          ],
          [
           0.25,
           "rgb(198,233,191)"
          ],
          [
           0.5,
           "rgb(116,196,118)"
          ],
          [
           0.75,
           "rgb(32,137,68)"
          ],
          [
           1,
           "rgb(0,68,27)"
          ]
         ],
         "type": "heatmap",
         "x": [
          1,
          2,
          3,
          4,
          5,
          6
         ],
         "xaxis": "x9",
         "y": [
          6,
          5,
          4,
          3,
          2,
          1
         ],
         "yaxis": "y9",
         "z": [
          [
           0,
           0,
           0.0018366706983828339,
           0.000044796846302020335,
           0.00006719526945303051,
           0
          ],
          [
           0,
           0,
           0.00038077319356717286,
           0.00008959369260404067,
           0.0002911795009631322,
           0
          ],
          [
           0.0018142722752318237,
           0.00031357792411414236,
           0.001455897504815661,
           0,
           0.0004479684630202034,
           0
          ],
          [
           0,
           0,
           0.000022398423151010167,
           0.00008959369260404067,
           0,
           0
          ],
          [
           0.00006719526945303051,
           0.00031357792411414236,
           0.00038077319356717286,
           0,
           0.0004479684630202034,
           0
          ],
          [
           0.00006719526945303051,
           0,
           0,
           0,
           0,
           0.000022398423151010167
          ]
         ],
         "zmax": 1,
         "zmid": 0.5,
         "zmin": 0
        },
        {
         "colorscale": [
          [
           0,
           "rgb(256,256,256)"
          ],
          [
           0.25,
           "rgb(198,233,191)"
          ],
          [
           0.5,
           "rgb(116,196,118)"
          ],
          [
           0.75,
           "rgb(32,137,68)"
          ],
          [
           1,
           "rgb(0,68,27)"
          ]
         ],
         "type": "heatmap",
         "x": [
          1,
          2,
          3,
          4,
          5,
          6
         ],
         "xaxis": "x10",
         "y": [
          6,
          5,
          4,
          3,
          2,
          1
         ],
         "yaxis": "y10",
         "z": [
          [
           0.05556372549019608,
           0.07351827094474153,
           0,
           0,
           0,
           0.0058823529411764705
          ],
          [
           0.1273648247177659,
           0.07945112893642305,
           0.0058823529411764705,
           0,
           0,
           0
          ],
          [
           0.0058823529411764705,
           0,
           0,
           0.0058823529411764705,
           0,
           0
          ],
          [
           0.0058823529411764705,
           0,
           0,
           0,
           0,
           0
          ],
          [
           0,
           0,
           0,
           0,
           0,
           0
          ],
          [
           0,
           0,
           0,
           0,
           0,
           0
          ]
         ],
         "zmax": 1,
         "zmid": 0.5,
         "zmin": 0
        },
        {
         "colorscale": [
          [
           0,
           "rgb(256,256,256)"
          ],
          [
           0.25,
           "rgb(198,233,191)"
          ],
          [
           0.5,
           "rgb(116,196,118)"
          ],
          [
           0.75,
           "rgb(32,137,68)"
          ],
          [
           1,
           "rgb(0,68,27)"
          ]
         ],
         "type": "heatmap",
         "x": [
          1,
          2,
          3,
          4,
          5,
          6
         ],
         "xaxis": "x11",
         "y": [
          6,
          5,
          4,
          3,
          2,
          1
         ],
         "yaxis": "y11",
         "z": [
          [
           0.13332070707070706,
           0.13439096850861557,
           0,
           0,
           0,
           0.006060606060606061
          ],
          [
           0.16442736185383247,
           0.08989601901366608,
           0.006060606060606061,
           0.00625,
           0.0058823529411764705,
           0.0058823529411764705
          ],
          [
           0,
           0,
           0,
           0,
           0,
           0
          ],
          [
           0,
           0,
           0,
           0,
           0,
           0
          ],
          [
           0,
           0.0058823529411764705,
           0,
           0,
           0,
           0.0058823529411764705
          ],
          [
           0,
           0.011942959001782532,
           0,
           0,
           0,
           0
          ]
         ],
         "zmax": 1,
         "zmid": 0.5,
         "zmin": 0
        },
        {
         "colorscale": [
          [
           0,
           "rgb(256,256,256)"
          ],
          [
           0.25,
           "rgb(198,233,191)"
          ],
          [
           0.5,
           "rgb(116,196,118)"
          ],
          [
           0.75,
           "rgb(32,137,68)"
          ],
          [
           1,
           "rgb(0,68,27)"
          ]
         ],
         "type": "heatmap",
         "x": [
          1,
          2,
          3,
          4,
          5,
          6
         ],
         "xaxis": "x12",
         "y": [
          6,
          5,
          4,
          3,
          2,
          1
         ],
         "yaxis": "y12",
         "z": [
          [
           0,
           0,
           0,
           0,
           0,
           0
          ],
          [
           0,
           0,
           0,
           0,
           0.006060606060606061,
           0.006060606060606061
          ],
          [
           0.006060606060606061,
           0,
           0,
           0.006060606060606061,
           0,
           0
          ],
          [
           0.006060606060606061,
           0,
           0,
           0,
           0,
           0
          ],
          [
           0,
           0.006060606060606061,
           0,
           0,
           0.0044444444444444444,
           0.006060606060606061
          ],
          [
           0,
           0.011942959001782532,
           0,
           0,
           0,
           0
          ]
         ],
         "zmax": 1,
         "zmid": 0.5,
         "zmin": 0
        },
        {
         "colorscale": [
          [
           0,
           "rgb(256,256,256)"
          ],
          [
           0.25,
           "rgb(198,233,191)"
          ],
          [
           0.5,
           "rgb(116,196,118)"
          ],
          [
           0.75,
           "rgb(32,137,68)"
          ],
          [
           1,
           "rgb(0,68,27)"
          ]
         ],
         "type": "heatmap",
         "x": [
          1,
          2,
          3,
          4,
          5,
          6
         ],
         "xaxis": "x13",
         "y": [
          6,
          5,
          4,
          3,
          2,
          1
         ],
         "yaxis": "y13",
         "z": [
          [
           0.020432285145448467,
           0.019000495587940133,
           0.0029321063227307,
           0.012070777578748103,
           0.007029179443954426,
           0.009813783220602465
          ],
          [
           0.01963750510907766,
           0.02291295862222576,
           0.00442045451239732,
           0.01938376561817151,
           0.013417471294727977,
           0.024855514782333644
          ],
          [
           0.004155429327526114,
           0.0024534551391132697,
           0.0033750039120185355,
           0.007198209882358728,
           0.00007646429117602079,
           0.00015292858235204157
          ],
          [
           0.005849658325650666,
           0.012480645990778924,
           0.004668170146987843,
           0.008945038511976318,
           0,
           0.00030585716470408315
          ],
          [
           0.007888259113156314,
           0.008010446807237353,
           0.00015292858235204157,
           0.00007646429117602079,
           0.009699437581879031,
           0.010644788255966486
          ],
          [
           0.02573895968640735,
           0.011466295446856904,
           0.00007646429117602079,
           0,
           0.007420324488086468,
           0.024879605882056708
          ]
         ],
         "zmax": 1,
         "zmid": 0.5,
         "zmin": 0
        },
        {
         "colorscale": [
          [
           0,
           "rgb(256,256,256)"
          ],
          [
           0.25,
           "rgb(198,233,191)"
          ],
          [
           0.5,
           "rgb(116,196,118)"
          ],
          [
           0.75,
           "rgb(32,137,68)"
          ],
          [
           1,
           "rgb(0,68,27)"
          ]
         ],
         "type": "heatmap",
         "x": [
          1,
          2,
          3,
          4,
          5,
          6
         ],
         "xaxis": "x14",
         "y": [
          6,
          5,
          4,
          3,
          2,
          1
         ],
         "yaxis": "y14",
         "z": [
          [
           0.014939825889096588,
           0.020071305150428362,
           0.012417035226864501,
           0.014174209809356273,
           0.005053007362302493,
           0.01532025354491472
          ],
          [
           0.022202488746629726,
           0.02512839544977827,
           0.007445729290897772,
           0.029369598292520525,
           0.005455786696955419,
           0.013828582533705992
          ],
          [
           0.018314059250976254,
           0.0024332707342110574,
           0.00833723545050225,
           0.014286800852215056,
           0.00007646429117602079,
           0
          ],
          [
           0.01598766590981306,
           0.012244401657752757,
           0.005910922721857115,
           0.02125919763804009,
           0,
           0
          ],
          [
           0.007236762142277225,
           0.003012975824866826,
           0.00007646429117602079,
           0,
           0.003355527424714429,
           0.004985222315033024
          ],
          [
           0.02203765912187998,
           0.006227147380822472,
           0,
           0.002262443438914027,
           0.006078368960656228,
           0.014109833103416137
          ]
         ],
         "zmax": 1,
         "zmid": 0.5,
         "zmin": 0
        },
        {
         "colorscale": [
          [
           0,
           "rgb(256,256,256)"
          ],
          [
           0.25,
           "rgb(198,233,191)"
          ],
          [
           0.5,
           "rgb(116,196,118)"
          ],
          [
           0.75,
           "rgb(32,137,68)"
          ],
          [
           1,
           "rgb(0,68,27)"
          ]
         ],
         "type": "heatmap",
         "x": [
          1,
          2,
          3,
          4,
          5,
          6
         ],
         "xaxis": "x15",
         "y": [
          6,
          5,
          4,
          3,
          2,
          1
         ],
         "yaxis": "y15",
         "z": [
          [
           0,
           0,
           0.013045525208189234,
           0.018590626052129005,
           0.010241637374922802,
           0.018814246558880723
          ],
          [
           0,
           0,
           0.012003312258678771,
           0.02093296652714941,
           0.010029973675622196,
           0.015625216904142186
          ],
          [
           0.014235383730331954,
           0.005057556378780238,
           0.009728457670048115,
           0.01768300517296664,
           0,
           0.0005352500382321457
          ],
          [
           0.02433402830438364,
           0.011853698359774574,
           0.009494127730939503,
           0.010261943097511113,
           0,
           0.00007646429117602079
          ],
          [
           0.012559205488856235,
           0.004141131092800428,
           0,
           0.00007646429117602079,
           0.005296075550921694,
           0.005620461667323036
          ],
          [
           0.02781196042394317,
           0.012139477993194977,
           0.0006881786205841871,
           0.00015292858235204157,
           0.009666494784924734,
           0.014044428726963102
          ]
         ],
         "zmax": 1,
         "zmid": 0.5,
         "zmin": 0
        }
       ],
       "layout": {
        "annotations": [
         {
          "font": {
           "size": 16
          },
          "showarrow": false,
          "text": "Centroid 5, Position 1",
          "x": 0.14444444444444446,
          "xanchor": "center",
          "xref": "paper",
          "y": 1,
          "yanchor": "bottom",
          "yref": "paper"
         },
         {
          "font": {
           "size": 16
          },
          "showarrow": false,
          "text": "Centroid 5, Position 2",
          "x": 0.5,
          "xanchor": "center",
          "xref": "paper",
          "y": 1,
          "yanchor": "bottom",
          "yref": "paper"
         },
         {
          "font": {
           "size": 16
          },
          "showarrow": false,
          "text": "Centroid 5, Position 3",
          "x": 0.8555555555555556,
          "xanchor": "center",
          "xref": "paper",
          "y": 1,
          "yanchor": "bottom",
          "yref": "paper"
         },
         {
          "font": {
           "size": 16
          },
          "showarrow": false,
          "text": "Centroid 6, Position 1",
          "x": 0.14444444444444446,
          "xanchor": "center",
          "xref": "paper",
          "y": 0.792,
          "yanchor": "bottom",
          "yref": "paper"
         },
         {
          "font": {
           "size": 16
          },
          "showarrow": false,
          "text": "Centroid 6, Position 2",
          "x": 0.5,
          "xanchor": "center",
          "xref": "paper",
          "y": 0.792,
          "yanchor": "bottom",
          "yref": "paper"
         },
         {
          "font": {
           "size": 16
          },
          "showarrow": false,
          "text": "Centroid 6, Position 3",
          "x": 0.8555555555555556,
          "xanchor": "center",
          "xref": "paper",
          "y": 0.792,
          "yanchor": "bottom",
          "yref": "paper"
         },
         {
          "font": {
           "size": 16
          },
          "showarrow": false,
          "text": "Centroid 7, Position 1",
          "x": 0.14444444444444446,
          "xanchor": "center",
          "xref": "paper",
          "y": 0.584,
          "yanchor": "bottom",
          "yref": "paper"
         },
         {
          "font": {
           "size": 16
          },
          "showarrow": false,
          "text": "Centroid 7, Position 2",
          "x": 0.5,
          "xanchor": "center",
          "xref": "paper",
          "y": 0.584,
          "yanchor": "bottom",
          "yref": "paper"
         },
         {
          "font": {
           "size": 16
          },
          "showarrow": false,
          "text": "Centroid 7, Position 3",
          "x": 0.8555555555555556,
          "xanchor": "center",
          "xref": "paper",
          "y": 0.584,
          "yanchor": "bottom",
          "yref": "paper"
         },
         {
          "font": {
           "size": 16
          },
          "showarrow": false,
          "text": "Centroid 8, Position 1",
          "x": 0.14444444444444446,
          "xanchor": "center",
          "xref": "paper",
          "y": 0.376,
          "yanchor": "bottom",
          "yref": "paper"
         },
         {
          "font": {
           "size": 16
          },
          "showarrow": false,
          "text": "Centroid 8, Position 2",
          "x": 0.5,
          "xanchor": "center",
          "xref": "paper",
          "y": 0.376,
          "yanchor": "bottom",
          "yref": "paper"
         },
         {
          "font": {
           "size": 16
          },
          "showarrow": false,
          "text": "Centroid 8, Position 3",
          "x": 0.8555555555555556,
          "xanchor": "center",
          "xref": "paper",
          "y": 0.376,
          "yanchor": "bottom",
          "yref": "paper"
         },
         {
          "font": {
           "size": 16
          },
          "showarrow": false,
          "text": "Centroid 9, Position 1",
          "x": 0.14444444444444446,
          "xanchor": "center",
          "xref": "paper",
          "y": 0.16799999999999998,
          "yanchor": "bottom",
          "yref": "paper"
         },
         {
          "font": {
           "size": 16
          },
          "showarrow": false,
          "text": "Centroid 9, Position 2",
          "x": 0.5,
          "xanchor": "center",
          "xref": "paper",
          "y": 0.16799999999999998,
          "yanchor": "bottom",
          "yref": "paper"
         },
         {
          "font": {
           "size": 16
          },
          "showarrow": false,
          "text": "Centroid 9, Position 3",
          "x": 0.8555555555555556,
          "xanchor": "center",
          "xref": "paper",
          "y": 0.16799999999999998,
          "yanchor": "bottom",
          "yref": "paper"
         }
        ],
        "height": 1900,
        "template": {
         "data": {
          "bar": [
           {
            "error_x": {
             "color": "#2a3f5f"
            },
            "error_y": {
             "color": "#2a3f5f"
            },
            "marker": {
             "line": {
              "color": "#E5ECF6",
              "width": 0.5
             },
             "pattern": {
              "fillmode": "overlay",
              "size": 10,
              "solidity": 0.2
             }
            },
            "type": "bar"
           }
          ],
          "barpolar": [
           {
            "marker": {
             "line": {
              "color": "#E5ECF6",
              "width": 0.5
             },
             "pattern": {
              "fillmode": "overlay",
              "size": 10,
              "solidity": 0.2
             }
            },
            "type": "barpolar"
           }
          ],
          "carpet": [
           {
            "aaxis": {
             "endlinecolor": "#2a3f5f",
             "gridcolor": "white",
             "linecolor": "white",
             "minorgridcolor": "white",
             "startlinecolor": "#2a3f5f"
            },
            "baxis": {
             "endlinecolor": "#2a3f5f",
             "gridcolor": "white",
             "linecolor": "white",
             "minorgridcolor": "white",
             "startlinecolor": "#2a3f5f"
            },
            "type": "carpet"
           }
          ],
          "choropleth": [
           {
            "colorbar": {
             "outlinewidth": 0,
             "ticks": ""
            },
            "type": "choropleth"
           }
          ],
          "contour": [
           {
            "colorbar": {
             "outlinewidth": 0,
             "ticks": ""
            },
            "colorscale": [
             [
              0,
              "#0d0887"
             ],
             [
              0.1111111111111111,
              "#46039f"
             ],
             [
              0.2222222222222222,
              "#7201a8"
             ],
             [
              0.3333333333333333,
              "#9c179e"
             ],
             [
              0.4444444444444444,
              "#bd3786"
             ],
             [
              0.5555555555555556,
              "#d8576b"
             ],
             [
              0.6666666666666666,
              "#ed7953"
             ],
             [
              0.7777777777777778,
              "#fb9f3a"
             ],
             [
              0.8888888888888888,
              "#fdca26"
             ],
             [
              1,
              "#f0f921"
             ]
            ],
            "type": "contour"
           }
          ],
          "contourcarpet": [
           {
            "colorbar": {
             "outlinewidth": 0,
             "ticks": ""
            },
            "type": "contourcarpet"
           }
          ],
          "heatmap": [
           {
            "colorbar": {
             "outlinewidth": 0,
             "ticks": ""
            },
            "colorscale": [
             [
              0,
              "#0d0887"
             ],
             [
              0.1111111111111111,
              "#46039f"
             ],
             [
              0.2222222222222222,
              "#7201a8"
             ],
             [
              0.3333333333333333,
              "#9c179e"
             ],
             [
              0.4444444444444444,
              "#bd3786"
             ],
             [
              0.5555555555555556,
              "#d8576b"
             ],
             [
              0.6666666666666666,
              "#ed7953"
             ],
             [
              0.7777777777777778,
              "#fb9f3a"
             ],
             [
              0.8888888888888888,
              "#fdca26"
             ],
             [
              1,
              "#f0f921"
             ]
            ],
            "type": "heatmap"
           }
          ],
          "histogram": [
           {
            "marker": {
             "pattern": {
              "fillmode": "overlay",
              "size": 10,
              "solidity": 0.2
             }
            },
            "type": "histogram"
           }
          ],
          "histogram2d": [
           {
            "colorbar": {
             "outlinewidth": 0,
             "ticks": ""
            },
            "colorscale": [
             [
              0,
              "#0d0887"
             ],
             [
              0.1111111111111111,
              "#46039f"
             ],
             [
              0.2222222222222222,
              "#7201a8"
             ],
             [
              0.3333333333333333,
              "#9c179e"
             ],
             [
              0.4444444444444444,
              "#bd3786"
             ],
             [
              0.5555555555555556,
              "#d8576b"
             ],
             [
              0.6666666666666666,
              "#ed7953"
             ],
             [
              0.7777777777777778,
              "#fb9f3a"
             ],
             [
              0.8888888888888888,
              "#fdca26"
             ],
             [
              1,
              "#f0f921"
             ]
            ],
            "type": "histogram2d"
           }
          ],
          "histogram2dcontour": [
           {
            "colorbar": {
             "outlinewidth": 0,
             "ticks": ""
            },
            "colorscale": [
             [
              0,
              "#0d0887"
             ],
             [
              0.1111111111111111,
              "#46039f"
             ],
             [
              0.2222222222222222,
              "#7201a8"
             ],
             [
              0.3333333333333333,
              "#9c179e"
             ],
             [
              0.4444444444444444,
              "#bd3786"
             ],
             [
              0.5555555555555556,
              "#d8576b"
             ],
             [
              0.6666666666666666,
              "#ed7953"
             ],
             [
              0.7777777777777778,
              "#fb9f3a"
             ],
             [
              0.8888888888888888,
              "#fdca26"
             ],
             [
              1,
              "#f0f921"
             ]
            ],
            "type": "histogram2dcontour"
           }
          ],
          "mesh3d": [
           {
            "colorbar": {
             "outlinewidth": 0,
             "ticks": ""
            },
            "type": "mesh3d"
           }
          ],
          "parcoords": [
           {
            "line": {
             "colorbar": {
              "outlinewidth": 0,
              "ticks": ""
             }
            },
            "type": "parcoords"
           }
          ],
          "pie": [
           {
            "automargin": true,
            "type": "pie"
           }
          ],
          "scatter": [
           {
            "fillpattern": {
             "fillmode": "overlay",
             "size": 10,
             "solidity": 0.2
            },
            "type": "scatter"
           }
          ],
          "scatter3d": [
           {
            "line": {
             "colorbar": {
              "outlinewidth": 0,
              "ticks": ""
             }
            },
            "marker": {
             "colorbar": {
              "outlinewidth": 0,
              "ticks": ""
             }
            },
            "type": "scatter3d"
           }
          ],
          "scattercarpet": [
           {
            "marker": {
             "colorbar": {
              "outlinewidth": 0,
              "ticks": ""
             }
            },
            "type": "scattercarpet"
           }
          ],
          "scattergeo": [
           {
            "marker": {
             "colorbar": {
              "outlinewidth": 0,
              "ticks": ""
             }
            },
            "type": "scattergeo"
           }
          ],
          "scattergl": [
           {
            "marker": {
             "colorbar": {
              "outlinewidth": 0,
              "ticks": ""
             }
            },
            "type": "scattergl"
           }
          ],
          "scattermap": [
           {
            "marker": {
             "colorbar": {
              "outlinewidth": 0,
              "ticks": ""
             }
            },
            "type": "scattermap"
           }
          ],
          "scattermapbox": [
           {
            "marker": {
             "colorbar": {
              "outlinewidth": 0,
              "ticks": ""
             }
            },
            "type": "scattermapbox"
           }
          ],
          "scatterpolar": [
           {
            "marker": {
             "colorbar": {
              "outlinewidth": 0,
              "ticks": ""
             }
            },
            "type": "scatterpolar"
           }
          ],
          "scatterpolargl": [
           {
            "marker": {
             "colorbar": {
              "outlinewidth": 0,
              "ticks": ""
             }
            },
            "type": "scatterpolargl"
           }
          ],
          "scatterternary": [
           {
            "marker": {
             "colorbar": {
              "outlinewidth": 0,
              "ticks": ""
             }
            },
            "type": "scatterternary"
           }
          ],
          "surface": [
           {
            "colorbar": {
             "outlinewidth": 0,
             "ticks": ""
            },
            "colorscale": [
             [
              0,
              "#0d0887"
             ],
             [
              0.1111111111111111,
              "#46039f"
             ],
             [
              0.2222222222222222,
              "#7201a8"
             ],
             [
              0.3333333333333333,
              "#9c179e"
             ],
             [
              0.4444444444444444,
              "#bd3786"
             ],
             [
              0.5555555555555556,
              "#d8576b"
             ],
             [
              0.6666666666666666,
              "#ed7953"
             ],
             [
              0.7777777777777778,
              "#fb9f3a"
             ],
             [
              0.8888888888888888,
              "#fdca26"
             ],
             [
              1,
              "#f0f921"
             ]
            ],
            "type": "surface"
           }
          ],
          "table": [
           {
            "cells": {
             "fill": {
              "color": "#EBF0F8"
             },
             "line": {
              "color": "white"
             }
            },
            "header": {
             "fill": {
              "color": "#C8D4E3"
             },
             "line": {
              "color": "white"
             }
            },
            "type": "table"
           }
          ]
         },
         "layout": {
          "annotationdefaults": {
           "arrowcolor": "#2a3f5f",
           "arrowhead": 0,
           "arrowwidth": 1
          },
          "autotypenumbers": "strict",
          "coloraxis": {
           "colorbar": {
            "outlinewidth": 0,
            "ticks": ""
           }
          },
          "colorscale": {
           "diverging": [
            [
             0,
             "#8e0152"
            ],
            [
             0.1,
             "#c51b7d"
            ],
            [
             0.2,
             "#de77ae"
            ],
            [
             0.3,
             "#f1b6da"
            ],
            [
             0.4,
             "#fde0ef"
            ],
            [
             0.5,
             "#f7f7f7"
            ],
            [
             0.6,
             "#e6f5d0"
            ],
            [
             0.7,
             "#b8e186"
            ],
            [
             0.8,
             "#7fbc41"
            ],
            [
             0.9,
             "#4d9221"
            ],
            [
             1,
             "#276419"
            ]
           ],
           "sequential": [
            [
             0,
             "#0d0887"
            ],
            [
             0.1111111111111111,
             "#46039f"
            ],
            [
             0.2222222222222222,
             "#7201a8"
            ],
            [
             0.3333333333333333,
             "#9c179e"
            ],
            [
             0.4444444444444444,
             "#bd3786"
            ],
            [
             0.5555555555555556,
             "#d8576b"
            ],
            [
             0.6666666666666666,
             "#ed7953"
            ],
            [
             0.7777777777777778,
             "#fb9f3a"
            ],
            [
             0.8888888888888888,
             "#fdca26"
            ],
            [
             1,
             "#f0f921"
            ]
           ],
           "sequentialminus": [
            [
             0,
             "#0d0887"
            ],
            [
             0.1111111111111111,
             "#46039f"
            ],
            [
             0.2222222222222222,
             "#7201a8"
            ],
            [
             0.3333333333333333,
             "#9c179e"
            ],
            [
             0.4444444444444444,
             "#bd3786"
            ],
            [
             0.5555555555555556,
             "#d8576b"
            ],
            [
             0.6666666666666666,
             "#ed7953"
            ],
            [
             0.7777777777777778,
             "#fb9f3a"
            ],
            [
             0.8888888888888888,
             "#fdca26"
            ],
            [
             1,
             "#f0f921"
            ]
           ]
          },
          "colorway": [
           "#636efa",
           "#EF553B",
           "#00cc96",
           "#ab63fa",
           "#FFA15A",
           "#19d3f3",
           "#FF6692",
           "#B6E880",
           "#FF97FF",
           "#FECB52"
          ],
          "font": {
           "color": "#2a3f5f"
          },
          "geo": {
           "bgcolor": "white",
           "lakecolor": "white",
           "landcolor": "#E5ECF6",
           "showlakes": true,
           "showland": true,
           "subunitcolor": "white"
          },
          "hoverlabel": {
           "align": "left"
          },
          "hovermode": "closest",
          "mapbox": {
           "style": "light"
          },
          "paper_bgcolor": "white",
          "plot_bgcolor": "#E5ECF6",
          "polar": {
           "angularaxis": {
            "gridcolor": "white",
            "linecolor": "white",
            "ticks": ""
           },
           "bgcolor": "#E5ECF6",
           "radialaxis": {
            "gridcolor": "white",
            "linecolor": "white",
            "ticks": ""
           }
          },
          "scene": {
           "xaxis": {
            "backgroundcolor": "#E5ECF6",
            "gridcolor": "white",
            "gridwidth": 2,
            "linecolor": "white",
            "showbackground": true,
            "ticks": "",
            "zerolinecolor": "white"
           },
           "yaxis": {
            "backgroundcolor": "#E5ECF6",
            "gridcolor": "white",
            "gridwidth": 2,
            "linecolor": "white",
            "showbackground": true,
            "ticks": "",
            "zerolinecolor": "white"
           },
           "zaxis": {
            "backgroundcolor": "#E5ECF6",
            "gridcolor": "white",
            "gridwidth": 2,
            "linecolor": "white",
            "showbackground": true,
            "ticks": "",
            "zerolinecolor": "white"
           }
          },
          "shapedefaults": {
           "line": {
            "color": "#2a3f5f"
           }
          },
          "ternary": {
           "aaxis": {
            "gridcolor": "white",
            "linecolor": "white",
            "ticks": ""
           },
           "baxis": {
            "gridcolor": "white",
            "linecolor": "white",
            "ticks": ""
           },
           "bgcolor": "#E5ECF6",
           "caxis": {
            "gridcolor": "white",
            "linecolor": "white",
            "ticks": ""
           }
          },
          "title": {
           "x": 0.05
          },
          "xaxis": {
           "automargin": true,
           "gridcolor": "white",
           "linecolor": "white",
           "ticks": "",
           "title": {
            "standoff": 15
           },
           "zerolinecolor": "white",
           "zerolinewidth": 2
          },
          "yaxis": {
           "automargin": true,
           "gridcolor": "white",
           "linecolor": "white",
           "ticks": "",
           "title": {
            "standoff": 15
           },
           "zerolinecolor": "white",
           "zerolinewidth": 2
          }
         }
        },
        "title": {
         "text": "MIDs POSITIONED: Hierarchical Clustering - 10 Clusters"
        },
        "width": 1200,
        "xaxis": {
         "anchor": "y",
         "domain": [
          0,
          0.2888888888888889
         ],
         "tickvals": [
          1,
          2,
          3,
          4,
          5,
          6
         ]
        },
        "xaxis10": {
         "anchor": "y10",
         "domain": [
          0,
          0.2888888888888889
         ],
         "tickvals": [
          1,
          2,
          3,
          4,
          5,
          6
         ]
        },
        "xaxis11": {
         "anchor": "y11",
         "domain": [
          0.35555555555555557,
          0.6444444444444445
         ],
         "tickvals": [
          1,
          2,
          3,
          4,
          5,
          6
         ]
        },
        "xaxis12": {
         "anchor": "y12",
         "domain": [
          0.7111111111111111,
          1
         ],
         "tickvals": [
          1,
          2,
          3,
          4,
          5,
          6
         ]
        },
        "xaxis13": {
         "anchor": "y13",
         "domain": [
          0,
          0.2888888888888889
         ],
         "tickvals": [
          1,
          2,
          3,
          4,
          5,
          6
         ]
        },
        "xaxis14": {
         "anchor": "y14",
         "domain": [
          0.35555555555555557,
          0.6444444444444445
         ],
         "tickvals": [
          1,
          2,
          3,
          4,
          5,
          6
         ]
        },
        "xaxis15": {
         "anchor": "y15",
         "domain": [
          0.7111111111111111,
          1
         ],
         "tickvals": [
          1,
          2,
          3,
          4,
          5,
          6
         ]
        },
        "xaxis2": {
         "anchor": "y2",
         "domain": [
          0.35555555555555557,
          0.6444444444444445
         ],
         "tickvals": [
          1,
          2,
          3,
          4,
          5,
          6
         ]
        },
        "xaxis3": {
         "anchor": "y3",
         "domain": [
          0.7111111111111111,
          1
         ],
         "tickvals": [
          1,
          2,
          3,
          4,
          5,
          6
         ]
        },
        "xaxis4": {
         "anchor": "y4",
         "domain": [
          0,
          0.2888888888888889
         ],
         "tickvals": [
          1,
          2,
          3,
          4,
          5,
          6
         ]
        },
        "xaxis5": {
         "anchor": "y5",
         "domain": [
          0.35555555555555557,
          0.6444444444444445
         ],
         "tickvals": [
          1,
          2,
          3,
          4,
          5,
          6
         ]
        },
        "xaxis6": {
         "anchor": "y6",
         "domain": [
          0.7111111111111111,
          1
         ],
         "tickvals": [
          1,
          2,
          3,
          4,
          5,
          6
         ]
        },
        "xaxis7": {
         "anchor": "y7",
         "domain": [
          0,
          0.2888888888888889
         ],
         "tickvals": [
          1,
          2,
          3,
          4,
          5,
          6
         ]
        },
        "xaxis8": {
         "anchor": "y8",
         "domain": [
          0.35555555555555557,
          0.6444444444444445
         ],
         "tickvals": [
          1,
          2,
          3,
          4,
          5,
          6
         ]
        },
        "xaxis9": {
         "anchor": "y9",
         "domain": [
          0.7111111111111111,
          1
         ],
         "tickvals": [
          1,
          2,
          3,
          4,
          5,
          6
         ]
        },
        "yaxis": {
         "anchor": "x",
         "autorange": "reversed",
         "domain": [
          0.832,
          1
         ]
        },
        "yaxis10": {
         "anchor": "x10",
         "autorange": "reversed",
         "domain": [
          0.208,
          0.376
         ]
        },
        "yaxis11": {
         "anchor": "x11",
         "autorange": "reversed",
         "domain": [
          0.208,
          0.376
         ]
        },
        "yaxis12": {
         "anchor": "x12",
         "autorange": "reversed",
         "domain": [
          0.208,
          0.376
         ]
        },
        "yaxis13": {
         "anchor": "x13",
         "autorange": "reversed",
         "domain": [
          0,
          0.16799999999999998
         ]
        },
        "yaxis14": {
         "anchor": "x14",
         "autorange": "reversed",
         "domain": [
          0,
          0.16799999999999998
         ]
        },
        "yaxis15": {
         "anchor": "x15",
         "autorange": "reversed",
         "domain": [
          0,
          0.16799999999999998
         ]
        },
        "yaxis2": {
         "anchor": "x2",
         "autorange": "reversed",
         "domain": [
          0.832,
          1
         ]
        },
        "yaxis3": {
         "anchor": "x3",
         "autorange": "reversed",
         "domain": [
          0.832,
          1
         ]
        },
        "yaxis4": {
         "anchor": "x4",
         "autorange": "reversed",
         "domain": [
          0.624,
          0.792
         ]
        },
        "yaxis5": {
         "anchor": "x5",
         "autorange": "reversed",
         "domain": [
          0.624,
          0.792
         ]
        },
        "yaxis6": {
         "anchor": "x6",
         "autorange": "reversed",
         "domain": [
          0.624,
          0.792
         ]
        },
        "yaxis7": {
         "anchor": "x7",
         "autorange": "reversed",
         "domain": [
          0.416,
          0.584
         ]
        },
        "yaxis8": {
         "anchor": "x8",
         "autorange": "reversed",
         "domain": [
          0.416,
          0.584
         ]
        },
        "yaxis9": {
         "anchor": "x9",
         "autorange": "reversed",
         "domain": [
          0.416,
          0.584
         ]
        }
       }
      }
     },
     "metadata": {},
     "output_type": "display_data"
    }
   ],
   "source": [
    "# creates the heatmaps for the hierarchical clustering - SECOND FIVE\n",
    "\n",
    "fig = create_centroid_heatmaps(hierarchical_centroids[5:], first_cluster=5)\n",
    "fig.update_layout(title=f'MIDs POSITIONED: Hierarchical Clustering - {len(memberships)} Clusters')\n",
    "fig.show()"
   ]
  }
 ],
 "metadata": {
  "kernelspec": {
   "display_name": "Python 3",
   "language": "python",
   "name": "python3"
  },
  "language_info": {
   "codemirror_mode": {
    "name": "ipython",
    "version": 3
   },
   "file_extension": ".py",
   "mimetype": "text/x-python",
   "name": "python",
   "nbconvert_exporter": "python",
   "pygments_lexer": "ipython3",
   "version": "3.12.3"
  }
 },
 "nbformat": 4,
 "nbformat_minor": 2
}
